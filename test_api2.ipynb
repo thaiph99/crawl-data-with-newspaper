{
 "cells": [
  {
   "cell_type": "code",
   "execution_count": 1,
   "metadata": {},
   "outputs": [],
   "source": [
    "from api1 import News\n",
    "from api1 import Keyword\n",
    "from api1 import Url\n",
    "from api1 import Category"
   ]
  },
  {
   "cell_type": "code",
   "execution_count": 37,
   "metadata": {},
   "outputs": [],
   "source": [
    "url = Url('urls.txt')\n",
    "key = Keyword('keywords.txt')\n",
    "url.standardized()\n",
    "key.standardized()\n",
    "categorys = Category()"
   ]
  },
  {
   "cell_type": "code",
   "execution_count": 3,
   "metadata": {},
   "outputs": [
    {
     "name": "stdout",
     "output_type": "stream",
     "text": [
      "['thủ_tướng chính_phủ phạm_minh_chính https://vnexpress.net/', 'thủ_tướng chính_phủ phạm_minh_chính https://www.24h.com.vn/', 'thủ_tướng chính_phủ phạm_minh_chính https://tuoitre.vn/']\n",
      "['https://vnexpress.net/thu-tuong-pham-minh-chinh-chinh-phu-hanh-dong-liem-chinh-4260214.html', 'https://vnexpress.net/interactive/2021/thanh-vien-chinh-phu', 'https://vnexpress.net/de-cu-ong-pham-minh-chinh-lam-thu-tuong-4257890.html', 'https://vnexpress.net/gioi-thieu-ong-pham-minh-chinh-ung-cu-quoc-hoi-khoi-chinh-phu-4250202.html', 'https://vnexpress.net/ong-pham-minh-chinh-giu-chuc-thu-tuong-4257897.html', 'https://vnexpress.net/thu-tuong-phai-co-cach-tiep-can-moi-chong-covid-19-4273268.html', 'https://vnexpress.net/thu-tuong-pham-minh-chinh-chinh-phu-phai-lang-nghe-y-kien-phan-bien-4263570.html', 'https://vnexpress.net/linh-vuc-cong-tac-cua-thu-tuong-5-pho-thu-tuong-4266781.html', 'https://vnexpress.net/thu-tuong-viec-nao-doanh-nghiep-lam-tot-hon-thi-xa-hoi-hoa-4271171.html', 'https://vnexpress.net/thu-tuong-chu-dong-tan-cong-dich-benh-4278614.html', 'https://vnexpress.net/thu-tuong-pham-minh-chinh-chu-tri-hop-khan-chong-covid-19-4270807.html', 'https://vnexpress.net/nhan-su-chinh-phu-co-gi-moi-4259642.html', 'https://vnexpress.net/thu-tuong-ung-ho-tang-ty-le-ngan-sach-de-lai-cho-tp-hcm-4277481.html', 'https://vnexpress.net/thu-tuong-pham-minh-chinh-canh-bao-nguy-co-bung-phat-dich-4267619.html', 'https://vnexpress.net/8-nhiem-vu-trong-tam-cua-chinh-phu-sau-kien-toan-4264424.html', 'https://vnexpress.net/chuyen-gia-duc-danh-gia-cao-thu-tuong-pham-minh-chinh-4258753.html', 'https://vnexpress.net/tag/chinh-phu-246387', 'https://vi.wikipedia.org/wiki/Ph%E1%BA%A1m_Minh_Ch%C3%ADnh', 'http://yenbai.noichinh.vn/chi-tiet/thu-tuong-pham-minh-chinh-chinh-phu-hanh-dong-liem-chinh-4309', 'https://phaply.net.vn/thu-tuong-phai-co-cach-tiep-can-moi-chong-covid-19/', 'https://www.24h.com.vn/tin-tuc-trong-ngay/thu-tuong-pham-minh-chinh-chu-tri-phien-hop-chinh-phu-dau-tien-c46a1243641.html', 'https://www.24h.com.vn/tin-tuc-trong-ngay/ong-pham-minh-chinh-duoc-bau-lam-thu-tuong-chinh-phu-c46a1240684.html', 'https://www.24h.com.vn/tin-tuc-trong-ngay/gioi-thieu-chu-ky-cua-thu-tuong-pham-minh-chinh-2-tan-pho-thu-tuong-c46a1243158.html', 'https://www.24h.com.vn/tin-tuc-trong-ngay/tan-thu-tuong-pham-minh-chinh-tuyen-the-nham-chuc-c46a1240690.html', 'https://www.24h.com.vn/tin-tuc-trong-ngay/ong-pham-minh-chinh-tu-can-bo-cong-an-toi-thu-tuong-chinh-phu-c46a1240697.html', 'https://www.24h.com.vn/tin-tuc-trong-ngay/tan-thu-tuong-pham-minh-chinh-cam-ket-nhung-gi-truoc-quoc-hoi-va-dong-bao-cu-tri-c46a1240704.html', 'https://www.24h.com.vn/tin-tuc-trong-ngay/thu-tuong-pham-minh-chinh-hop-khan-ve-phong-chong-dich-covid-19-c46a1248196.html', 'https://www.24h.com.vn/tai-chinh/thu-tuong-pham-minh-chinh-duyet-goi-ho-tro-lan-2-mo-rong-doi-tuong-duoc-huong-c587a1249617.html', 'https://www.24h.com.vn/tin-tuc-trong-ngay/ong-pham-minh-chinh-duoc-de-cu-de-quoc-hoi-bau-thu-tuong-chinh-phu-c46a1240519.html', 'http://chinhphu.vn/', 'https://baochinhphu.vn/', 'http://baochinhphu.vn/Tin-noi-bat/1.vgp', 'https://laodong.vn/thoi-su/thu-tuong-pham-minh-chinh-chu-tri-phien-hop-chinh-phu-898930.ldo', 'https://laodong.vn/infographic/chan-dung-thu-tuong-chinh-phu-pham-minh-chinh-vua-duoc-quoc-hoi-bau-893345.ldo', 'https://vov.vn/chinh-tri/ong-pham-minh-chinh-tro-thanh-tan-thu-tuong-chinh-phu-848006.vov', 'http://www.dienbien.gov.vn/portal/Pages/2021-5-9/Thu-tuong-Pham-Minh-Chinh-tiep-xuc-cu-tri-tai-TP-Cjsxb1s.aspx', 'https://www.youtube.com/watch?v=kkO7cp19ndc', 'https://www.youtube.com/watch?v=M7_7XerlCTg', 'http://baohoabinh.com.vn/', 'https://ncov.moh.gov.vn/web/guest/-/6847426-3580', 'https://tuoitre.vn/thu-tuong-pham-minh-chinh-chu-tri-phien-hop-chinh-phu-dau-tien-20210415084713844.htm', 'https://tuoitre.vn/gioi-thieu-ong-pham-minh-chinh-de-quoc-hoi-bau-thu-tuong-chinh-phu-20210405095838372.htm', 'https://tuoitre.vn/thu-tuong-pham-minh-chinh-tinh-than-la-ung-ho-toi-da-cho-tp-hcm-20210515075804907.htm', 'https://tuoitre.vn/3-thong-diep-khoi-dau-cua-thu-tuong-20210417080045559.htm', 'https://tuoitre.vn/thu-tuong-chinh-phu-pham-minh-chinh.html', 'https://tuoitre.vn/thu-tuong-pham-minh-chinh-lay-dau-tu-cong-dan-dat-dau-tu-tu-20210429110858791.htm', 'https://tuoitre.vn/thu-tuong-pham-minh-chinh-khong-dung-day-trach-nhiem-kien-quyet-day-lui-nhung-nhieu-20210415190239816.htm', 'https://tuoitre.vn/thu-tuong-pham-minh-chinh-moi-thu-tuong-singapore-ly-hien-long-tham-viet-nam-20210420200428378.htm', 'https://tuoitre.vn/thu-tuong-pham-minh-chinh-dat-loi-ich-dan-toc-nhan-dan-len-tren-het-20210408211857237.htm', 'https://tuoitre.vn/thu-tuong-pham-minh-chinh-du-thuong-dinh-asean-van-de-myanmar-duoc-chu-y-20210421182537757.htm', 'https://tuoitre.vn/bo-truong-duoc-moi-hop-cu-thu-truong-di-thay-phai-duoc-thu-tuong-dong-y-20210416221057681.htm', 'https://tuoitre.vn/thu-tuong-pham-minh-chinh-de-xay-ra-dich-covid-19-xu-ly-ky-luat-tuy-muc-do-20210426195500882.htm', 'https://tuoitre.vn/tan-thu-tuong-pham-minh-chinh-trong-dung-nhan-tai-doi-moi-manh-me-mo-hinh-tang-truong-20210405152405727.htm', 'https://tuoitre.vn/nang-dieu-tiet-ngan-sach-len-23-co-loi-gi-cho-tphcm-20210514094333819.htm', 'https://tuoitre.vn/ong-pham-minh-chinh-tuyen-the-nham-chuc-thu-tuong-chinh-phu-20210405151337153.htm', 'https://tuoitre.vn/thao-diem-nghen-cho-tphcm-but-pha-20210514092609443.htm', 'https://tuoitre.vn/thu-tuong-pham-minh-chinh-manh-dan-thi-diem-nhung-viec-chua-co-quy-dinh-20210419075828538.htm', 'https://tuoitre.vn/thu-tuong-pham-minh-chinh-dien-dam-voi-thu-tuong-lao-campuchia-20210406193153003.htm', 'https://tuoitre.vn/thu-tuong-hop-khan-ve-phong-chong-covid-19-2021043010030195.htm', 'https://tuoitre.vn/lan-dau-tien-thu-tuong-ung-cu-dbqh-tai-dong-bang-song-cuu-long-20210420104126279.htm']\n"
     ]
    }
   ],
   "source": [
    "new = News()\n",
    "\n",
    "queries = new.create_query(url.list_url, key.list_keys)\n",
    "print(queries)\n",
    "new.search(queries=queries)\n",
    "print(new.list_url_news)\n"
   ]
  },
  {
   "cell_type": "code",
   "execution_count": 9,
   "metadata": {},
   "outputs": [],
   "source": [
    "with open('dataurls.txt', 'w') as f:\n",
    "    for url in new.list_url_news:\n",
    "        f.write(url+'\\n')\n"
   ]
  },
  {
   "cell_type": "code",
   "execution_count": 31,
   "metadata": {},
   "outputs": [],
   "source": [
    "def is_ok(url_new, urls):\n",
    "    for url in urls:\n",
    "        if url in url_new:\n",
    "            return True \n",
    "    return False\n",
    "\n",
    "def check_urls_new(news, urls):\n",
    "    res = []\n",
    "    for url_new in news:\n",
    "        if is_ok(url_new, urls):\n",
    "            res.append(url_new)  \n",
    "    return res    \n"
   ]
  },
  {
   "cell_type": "code",
   "execution_count": 38,
   "metadata": {},
   "outputs": [],
   "source": [
    "from time import time\n",
    "list_url = url.list_url\n",
    "def process(news):\n",
    "    start = time()\n",
    "    print(f'time1 : {time()-start}')\n",
    "    print(f'time2 : {time()-start}')\n",
    "    tmp = check_urls_new(news.list_url_news, list_url)\n",
    "    news.list_url_news = tmp\n",
    "    news.list_title = []\n",
    "    news.list_text_news = []\n",
    "    news.list_score_news = []\n",
    "    news.list_counter_keys = []\n",
    "    news.load_text()\n",
    "    print(f'time3 : {time()-start}')\n",
    "    news.load_key()\n",
    "    print(f'time4 : {time()-start}')\n",
    "    news.load_score(key.list_keys)\n",
    "    print(f'time5 : {time()-start}')\n",
    "    print('list text ', len(news.list_text_news))\n",
    "    print('list counter key ', len(news.list_counter_keys))\n",
    "    print('list score ', len(news.list_score_news))\n",
    "    print('list title ', len(news.list_title))\n",
    "    print('list url ', len(news.list_url_news))\n",
    "    list_ans = news.list_score_news\n",
    "\n",
    "    # for i in range(len(news.list_url_news)):\n",
    "    #     print(news.list_url_news[i])\n",
    "    #     print(news.list_title[i])\n",
    "\n",
    "    list_index = [_ for _ in range(len(list_ans))]\n",
    "    dict_ans = dict(zip(list_ans, list_index))\n",
    "    dict_ans = dict(sorted(dict_ans.items(), key=lambda x: -x[0])[:20])\n",
    "    print(dict_ans)\n",
    "\n",
    "    dict_res = {}\n",
    "    for _, i in dict_ans.items():\n",
    "        dict_res[news.list_title[i]] = (\n",
    "            news.list_url_news[i], news.list_title[i])\n",
    "    # print(dict_res)\n",
    "    print('total time : ', time()-start)\n",
    "    return dict_res"
   ]
  },
  {
   "cell_type": "code",
   "execution_count": 39,
   "metadata": {},
   "outputs": [
    {
     "name": "stdout",
     "output_type": "stream",
     "text": [
      "time1 : 4.76837158203125e-07\n",
      "time2 : 0.00018644332885742188\n",
      "time3 : 6.782595634460449\n",
      "time4 : 7.596347808837891\n",
      "time5 : 7.600113868713379\n",
      "list text  46\n",
      "list counter key  46\n",
      "list score  46\n",
      "list title  46\n",
      "list url  46\n",
      "{51: 41, 38: 14, 33: 34, 31: 22, 30: 0, 29: 7, 28: 11, 26: 25, 24: 12, 23: 38, 21: 36, 20: 31, 19: 43, 18: 33, 17: 28, 16: 32, 15: 42, 14: 29, 12: 40, 11: 5}\n",
      "total time :  7.600250720977783\n"
     ]
    },
    {
     "data": {
      "text/plain": "{'Tháo điểm nghẽn cho TP.HCM bứt phá': ('https://tuoitre.vn/thao-diem-nghen-cho-tphcm-but-pha-20210514092609443.htm',\n  'Tháo điểm nghẽn cho TP.HCM bứt phá'),\n '8 nhiệm vụ trọng tâm của Chính phủ sau kiện toàn': ('https://vnexpress.net/8-nhiem-vu-trong-tam-cua-chinh-phu-sau-kien-toan-4264424.html',\n  '8 nhiệm vụ trọng tâm của Chính phủ sau kiện toàn'),\n 'Thủ tướng Phạm Minh Chính: Đặt lợi ích dân tộc, nhân dân lên trên hết': ('https://tuoitre.vn/thu-tuong-pham-minh-chinh-dat-loi-ich-dan-toc-nhan-dan-len-tren-het-20210408211857237.htm',\n  'Thủ tướng Phạm Minh Chính: Đặt lợi ích dân tộc, nhân dân lên trên hết'),\n 'Tân Thủ tướng Phạm Minh Chính cam kết những gì trước Quốc hội và đồng bào cử tri?': ('https://www.24h.com.vn/tin-tuc-trong-ngay/tan-thu-tuong-pham-minh-chinh-cam-ket-nhung-gi-truoc-quoc-hoi-va-dong-bao-cu-tri-c46a1240704.html',\n  'Tân Thủ tướng Phạm Minh Chính cam kết những gì trước Quốc hội và đồng bào cử tri?'),\n 'Thủ tướng Phạm Minh Chính: Chính phủ hành động, liêm chính': ('https://vnexpress.net/thu-tuong-pham-minh-chinh-chinh-phu-hanh-dong-liem-chinh-4260214.html',\n  'Thủ tướng Phạm Minh Chính: Chính phủ hành động, liêm chính'),\n 'Lĩnh vực công tác của Thủ tướng, 5 Phó thủ tướng': ('https://vnexpress.net/linh-vuc-cong-tac-cua-thu-tuong-5-pho-thu-tuong-4266781.html',\n  'Lĩnh vực công tác của Thủ tướng, 5 Phó thủ tướng'),\n 'Nhân sự Chính phủ có gì mới?': ('https://vnexpress.net/nhan-su-chinh-phu-co-gi-moi-4259642.html',\n  'Nhân sự Chính phủ có gì mới?'),\n 'Ông Phạm Minh Chính được đề cử để Quốc hội bầu Thủ tướng Chính phủ': ('https://www.24h.com.vn/tin-tuc-trong-ngay/ong-pham-minh-chinh-duoc-de-cu-de-quoc-hoi-bau-thu-tuong-chinh-phu-c46a1240519.html',\n  'Ông Phạm Minh Chính được đề cử để Quốc hội bầu Thủ tướng Chính phủ'),\n 'Thủ tướng ủng hộ tăng tỷ lệ ngân sách để lại cho TP HCM': ('https://vnexpress.net/thu-tuong-ung-ho-tang-ty-le-ngan-sach-de-lai-cho-tp-hcm-4277481.html',\n  'Thủ tướng ủng hộ tăng tỷ lệ ngân sách để lại cho TP HCM'),\n 'Tân Thủ tướng Phạm Minh Chính: Trọng dụng nhân tài, đổi mới mạnh mẽ mô hình tăng trưởng': ('https://tuoitre.vn/tan-thu-tuong-pham-minh-chinh-trong-dung-nhan-tai-doi-moi-manh-me-mo-hinh-tang-truong-20210405152405727.htm',\n  'Tân Thủ tướng Phạm Minh Chính: Trọng dụng nhân tài, đổi mới mạnh mẽ mô hình tăng trưởng'),\n 'Bộ trưởng được mời họp, cử thứ trưởng đi thay phải được Thủ tướng đồng ý': ('https://tuoitre.vn/bo-truong-duoc-moi-hop-cu-thu-truong-di-thay-phai-duoc-thu-tuong-dong-y-20210416221057681.htm',\n  'Bộ trưởng được mời họp, cử thứ trưởng đi thay phải được Thủ tướng đồng ý'),\n 'Thủ tướng Phạm Minh Chính: Lấy đầu tư công dẫn dắt đầu tư tư': ('https://tuoitre.vn/thu-tuong-pham-minh-chinh-lay-dau-tu-cong-dan-dat-dau-tu-tu-20210429110858791.htm',\n  'Thủ tướng Phạm Minh Chính: Lấy đầu tư công dẫn dắt đầu tư tư'),\n 'Thủ tướng Phạm Minh Chính điện đàm với thủ tướng Lào, Campuchia': ('https://tuoitre.vn/thu-tuong-pham-minh-chinh-dien-dam-voi-thu-tuong-lao-campuchia-20210406193153003.htm',\n  'Thủ tướng Phạm Minh Chính điện đàm với thủ tướng Lào, Campuchia'),\n 'Thủ tướng Phạm Minh Chính mời Thủ tướng Singapore Lý Hiển Long thăm Việt Nam': ('https://tuoitre.vn/thu-tuong-pham-minh-chinh-moi-thu-tuong-singapore-ly-hien-long-tham-viet-nam-20210420200428378.htm',\n  'Thủ tướng Phạm Minh Chính mời Thủ tướng Singapore Lý Hiển Long thăm Việt Nam'),\n \"Thủ tướng Phạm Minh Chính: 'Tinh thần là ủng hộ tối đa cho TP.HCM'\": ('https://tuoitre.vn/thu-tuong-pham-minh-chinh-tinh-than-la-ung-ho-toi-da-cho-tp-hcm-20210515075804907.htm',\n  \"Thủ tướng Phạm Minh Chính: 'Tinh thần là ủng hộ tối đa cho TP.HCM'\"),\n 'Thủ tướng Phạm Minh Chính: Không đùn đẩy trách nhiệm, kiên quyết đẩy lùi nhũng nhiễu': ('https://tuoitre.vn/thu-tuong-pham-minh-chinh-khong-dung-day-trach-nhiem-kien-quyet-day-lui-nhung-nhieu-20210415190239816.htm',\n  'Thủ tướng Phạm Minh Chính: Không đùn đẩy trách nhiệm, kiên quyết đẩy lùi nhũng nhiễu'),\n 'Thủ tướng Phạm Minh Chính: Mạnh dạn thí điểm những việc chưa có quy định': ('https://tuoitre.vn/thu-tuong-pham-minh-chinh-manh-dan-thi-diem-nhung-viec-chua-co-quy-dinh-20210419075828538.htm',\n  'Thủ tướng Phạm Minh Chính: Mạnh dạn thí điểm những việc chưa có quy định'),\n '3 thông điệp khởi đầu của Thủ tướng': ('https://tuoitre.vn/3-thong-diep-khoi-dau-cua-thu-tuong-20210417080045559.htm',\n  '3 thông điệp khởi đầu của Thủ tướng'),\n 'Ông Phạm Minh Chính tuyên thệ nhậm chức Thủ tướng Chính phủ': ('https://tuoitre.vn/ong-pham-minh-chinh-tuyen-the-nham-chuc-thu-tuong-chinh-phu-20210405151337153.htm',\n  'Ông Phạm Minh Chính tuyên thệ nhậm chức Thủ tướng Chính phủ'),\n \"Thủ tướng: 'Phải chống hai khuynh hướng chủ quan và hoảng sợ'\": ('https://vnexpress.net/thu-tuong-phai-co-cach-tiep-can-moi-chong-covid-19-4273268.html',\n  \"Thủ tướng: 'Phải chống hai khuynh hướng chủ quan và hoảng sợ'\")}"
     },
     "execution_count": 39,
     "metadata": {},
     "output_type": "execute_result"
    }
   ],
   "source": [
    "result = process(new)\n",
    "result"
   ]
  },
  {
   "cell_type": "code",
   "execution_count": 25,
   "metadata": {},
   "outputs": [
    {
     "name": "stdout",
     "output_type": "stream",
     "text": [
      "60\n",
      "120\n"
     ]
    }
   ],
   "source": [
    "print(len(new.list_text_news))\n",
    "print(len(new.list_counter_keys))"
   ]
  },
  {
   "cell_type": "code",
   "execution_count": 28,
   "metadata": {},
   "outputs": [
    {
     "name": "stdout",
     "output_type": "stream",
     "text": [
      "{'Thủ_tướng': 14, 'được': 14, 'Chính_phủ': 13, 'nước': 12, 'Chủ_tịch': 11, 'của': 8, 'và': 8, 'ông': 7, 'Chính': 7, 'nhiều': 7, 'Nguyễn_Xuân_Phúc': 7, 'Phạm_Minh': 6, 'với': 6, 'là': 6, 'các': 6, 'đã': 6, 'cần': 6, 'tiếp_tục': 5, 'hiệu_quả': 5, 'dân': 5, 'thành_viên': 5, 'người': 5, 'Ông': 5, 'làm': 5, 'còn': 5, 'sẽ': 4, 'lễ': 4, 'trong': 4, 'khó_khăn': 4, 'nhưng': 4, 'cao': 4, 'chống': 4, 'việc': 4, 'hơn': 4, 'phát_triển': 4, 'Phạm_Minh_Chính': 3, 'tại': 3, 'nhân_dân': 3, 'thách_thức': 3, 'dịch_bệnh': 3, 'nhất': 3, 'Covid': 3, '19': 3, 'đạt': 3, 'kết_quả': 3, 'kinh_tế': 3, 'giữ': 3, 'công_tác': 3, 'để': 3, 'có': 3, 'hoàn_thành': 3, 'cùng': 3, 'quản_lý': 3, 'doanh_nghiệp': 3, 'Việc': 3, 'Quốc_hội': 3, 'bầu': 3, 'xây_dựng': 2, 'phát_biểu': 2, 'bàn_giao': 2, 'công_việc': 2, 'lợi_ích': 2, 'Đảng': 2, 'trên': 2, 'hết_sức': 2, 'nhiệm_kỳ': 2, '2016': 2, '2021': 2, 'đối_mặt': 2, 'tinh_thần': 2, 'vượt': 2, 'cải_thiện': 2, 'nâng': 2, 'cũng': 2, 'phải': 2, 'luôn': 2, 'cương_vị': 2, 'mới': 2, 'buổi': 2, 'kiện_toàn': 2, 'này': 2, 'cho': 2, 'nhiệm_vụ': 2, 'đoàn_kết': 2, 'đổi_mới': 2, 'sáng_tạo': 2, 'nói': 2, 'Phúc': 2, 'bày_tỏ': 2, 'trăn_trở': 2, 'về': 2, 'tốt': 2, 'nhà_nước': 2, 'vẫn': 2, 'đầu_tư': 2, 'vùng': 2, 'vấn_đề': 2, 'quan_tâm': 2, 'chia_sẻ': 2, 'vaccine': 2, 'xử_lý': 2, 'tân': 2, 'trao': 2, 'quyết_định': 2, 'bổ_nhiệm': 2, 'Ngày': 2, 'khẳng_định': 1, 'hành_động': 1, 'liêm': 1, 'chính': 1, 'hiệu_lực': 1, 'gần': 1, 'Chiều': 1, 'nhấn_mạnh': 1, 'đặt': 1, 'quốc_gia': 1, 'dân_tộc': 1, 'lên': 1, 'hết': 1, 'hết_lòng': 1, 'phụng_sự': 1, 'Tổ_quốc': 1, 'phục_vụ': 1, 'Theo': 1, 'dù': 1, 'đặc_biệt': 1, 'thiên_tai': 1, 'nguyên': 1, 'khơi': 1, 'dậy': 1, 'yêu': 1, 'mọi': 1, 'quan_trọng': 1, 'toàn_diện': 1, 'Đó': 1, 'chính_trị': 1, 'xã_hội': 1, 'ổn_định': 1, 'tăng_trưởng': 1, 'mức': 1, 'tương_đối': 1, 'quốc_phòng': 1, 'an_ninh': 1, 'vững': 1, 'triển_khai': 1, 'đời_sống': 1, 'vật_chất': 1, '...': 1, 'Kế_nhiệm': 1, 'vinh_dự': 1, 'những': 1, 'mà': 1, 'có_thể': 1, 'kế_thừa': 1, 'duy_trì': 1, 'phát_huy': 1, 'Tân_thủ_tướng': 1, 'chúc': 1, 'khỏe_mạnh': 1, 'xuất_sắc': 1, 'trọng_trách': 1, 'tặng': 1, 'hoa': 1, 'Ảnh': 1, 'Quang': 1, 'Hiếu': 1, 'Phát_biểu': 1, 'chúc_mừng': 1, 'lần': 1, 'biết': 1, 'thời_gian': 1, 'tập_thể': 1, 'cố_gắng': 1, 'nỗ_lực': 1, 'Nhà_nước': 1, 'giao_phó': 1, 'chung': 1, 'sức': 1, 'đồng_lòng': 1, 'sát_cánh': 1, 'nhau': 1, 'qua': 1, 'quyết_tâm': 1, 'tiêu_cực': 1, 'nhóm': 1, 'tin_yêu': 1, 'kỳ_vọng': 1, 'phần_thưởng': 1, 'lớn': 1, 'tất_cả': 1, 'chưa': 1, 'thực_hiện': 1, 'Cụ_thể': 1, 'hoàn_thiện': 1, 'thể_chế': 1, 'pháp_luật': 1, 'bước_đầu': 1, 'triệt_để': 1, 'Tiếng': 1, 'kêu': 1, 'môi_trường': 1, 'kinh_doanh': 1, 'thường_xuyên': 1, 'thực_chất': 1, 'khuyến_khích': 1, 'khởi_nghiệp': 1, 'số': 1, 'hạ_tầng': 1, 'chiến_lược': 1, 'nhất_là': 1, 'điện_lực': 1, 'giao_thông': 1, 'đô_thị': 1, 'liên': 1, 'hay': 1, 'bất_cập': 1, 'đất_đai': 1, 'Công_tác': 1, 'tình_hình': 1, 'phức_tạp': 1, 'Vì_vậy': 1, 'nữa': 1, 'đó': 1, 'tiêm': 1, 'biên_giới': 1, 'nhập_cảnh': 1, 'trái_phép': 1, 'hỗ_trợ': 1, 'bị': 1, 'tác_động': 1, 'bởi': 1, 'đẩy_mạnh': 1, 'Các': 1, 'liên_quan': 1, 'nợ': 1, 'xấu': 1, 'ngân_hàng': 1, 'đồng': 1, 'tuy': 1, 'một': 1, 'phần': 1, 'tin_tưởng': 1, 'dưới': 1, 'sự': 1, 'điều_hành': 1, 'kinh_nghiệm': 1, 'công_tác_phong_phú': 1, 'đưa': 1, 'đất_nước': 1, 'sẵn_sàng': 1, 'đồng_hành': 1, 'Tại': 1, 'Phó_thủ_tướng': 1, 'Lê_Minh_Khái': 1, 'Lê_Văn_Thành': 1, 'Bộ_trưởng': 1, 'vừa': 1, 'Hôm': 1, 'thông_qua': 1, 'nghị_quyết': 1, 'chức': 1, 'trở_thành': 1, 'Trưởng': 1, 'ban': 1, 'Tổ_chức': 1, 'Trung_ương': 1, 'đầu_tiên': 1, 'đứng': 1, 'đầu': 1, 'thứ': 1, 'lịch_sử': 1, 'kể': 1, 'từ': 1, 'năm': 1, '1945': 1, '28': 1, 'miễn_nhiệm': 1, 'chức_vụ': 1, 'Viết_Tuân': 1}\n",
      "{'Thủ_tướng': 14, 'được': 14, 'Chính_phủ': 13, 'nước': 12, 'Chủ_tịch': 11, 'của': 8, 'và': 8, 'ông': 7, 'Chính': 7, 'nhiều': 7, 'Nguyễn_Xuân_Phúc': 7, 'Phạm_Minh': 6, 'với': 6, 'là': 6, 'các': 6, 'đã': 6, 'cần': 6, 'tiếp_tục': 5, 'hiệu_quả': 5, 'dân': 5, 'thành_viên': 5, 'người': 5, 'Ông': 5, 'làm': 5, 'còn': 5, 'sẽ': 4, 'lễ': 4, 'trong': 4, 'khó_khăn': 4, 'nhưng': 4, 'cao': 4, 'chống': 4, 'việc': 4, 'hơn': 4, 'phát_triển': 4, 'Phạm_Minh_Chính': 3, 'tại': 3, 'nhân_dân': 3, 'thách_thức': 3, 'dịch_bệnh': 3, 'nhất': 3, 'Covid': 3, '19': 3, 'đạt': 3, 'kết_quả': 3, 'kinh_tế': 3, 'giữ': 3, 'công_tác': 3, 'để': 3, 'có': 3, 'hoàn_thành': 3, 'cùng': 3, 'quản_lý': 3, 'doanh_nghiệp': 3, 'Việc': 3, 'Quốc_hội': 3, 'bầu': 3, 'xây_dựng': 2, 'phát_biểu': 2, 'bàn_giao': 2, 'công_việc': 2, 'lợi_ích': 2, 'Đảng': 2, 'trên': 2, 'hết_sức': 2, 'nhiệm_kỳ': 2, '2016': 2, '2021': 2, 'đối_mặt': 2, 'tinh_thần': 2, 'vượt': 2, 'cải_thiện': 2, 'nâng': 2, 'cũng': 2, 'phải': 2, 'luôn': 2, 'cương_vị': 2, 'mới': 2, 'buổi': 2, 'kiện_toàn': 2, 'này': 2, 'cho': 2, 'nhiệm_vụ': 2, 'đoàn_kết': 2, 'đổi_mới': 2, 'sáng_tạo': 2, 'nói': 2, 'Phúc': 2, 'bày_tỏ': 2, 'trăn_trở': 2, 'về': 2, 'tốt': 2, 'nhà_nước': 2, 'vẫn': 2, 'đầu_tư': 2, 'vùng': 2, 'vấn_đề': 2, 'quan_tâm': 2, 'chia_sẻ': 2, 'vaccine': 2, 'xử_lý': 2, 'tân': 2, 'trao': 2, 'quyết_định': 2, 'bổ_nhiệm': 2, 'Ngày': 2, 'khẳng_định': 1, 'hành_động': 1, 'liêm': 1, 'chính': 1, 'hiệu_lực': 1, 'gần': 1, 'Chiều': 1, 'nhấn_mạnh': 1, 'đặt': 1, 'quốc_gia': 1, 'dân_tộc': 1, 'lên': 1, 'hết': 1, 'hết_lòng': 1, 'phụng_sự': 1, 'Tổ_quốc': 1, 'phục_vụ': 1, 'Theo': 1, 'dù': 1, 'đặc_biệt': 1, 'thiên_tai': 1, 'nguyên': 1, 'khơi': 1, 'dậy': 1, 'yêu': 1, 'mọi': 1, 'quan_trọng': 1, 'toàn_diện': 1, 'Đó': 1, 'chính_trị': 1, 'xã_hội': 1, 'ổn_định': 1, 'tăng_trưởng': 1, 'mức': 1, 'tương_đối': 1, 'quốc_phòng': 1, 'an_ninh': 1, 'vững': 1, 'triển_khai': 1, 'đời_sống': 1, 'vật_chất': 1, '...': 1, 'Kế_nhiệm': 1, 'vinh_dự': 1, 'những': 1, 'mà': 1, 'có_thể': 1, 'kế_thừa': 1, 'duy_trì': 1, 'phát_huy': 1, 'Tân_thủ_tướng': 1, 'chúc': 1, 'khỏe_mạnh': 1, 'xuất_sắc': 1, 'trọng_trách': 1, 'tặng': 1, 'hoa': 1, 'Ảnh': 1, 'Quang': 1, 'Hiếu': 1, 'Phát_biểu': 1, 'chúc_mừng': 1, 'lần': 1, 'biết': 1, 'thời_gian': 1, 'tập_thể': 1, 'cố_gắng': 1, 'nỗ_lực': 1, 'Nhà_nước': 1, 'giao_phó': 1, 'chung': 1, 'sức': 1, 'đồng_lòng': 1, 'sát_cánh': 1, 'nhau': 1, 'qua': 1, 'quyết_tâm': 1, 'tiêu_cực': 1, 'nhóm': 1, 'tin_yêu': 1, 'kỳ_vọng': 1, 'phần_thưởng': 1, 'lớn': 1, 'tất_cả': 1, 'chưa': 1, 'thực_hiện': 1, 'Cụ_thể': 1, 'hoàn_thiện': 1, 'thể_chế': 1, 'pháp_luật': 1, 'bước_đầu': 1, 'triệt_để': 1, 'Tiếng': 1, 'kêu': 1, 'môi_trường': 1, 'kinh_doanh': 1, 'thường_xuyên': 1, 'thực_chất': 1, 'khuyến_khích': 1, 'khởi_nghiệp': 1, 'số': 1, 'hạ_tầng': 1, 'chiến_lược': 1, 'nhất_là': 1, 'điện_lực': 1, 'giao_thông': 1, 'đô_thị': 1, 'liên': 1, 'hay': 1, 'bất_cập': 1, 'đất_đai': 1, 'Công_tác': 1, 'tình_hình': 1, 'phức_tạp': 1, 'Vì_vậy': 1, 'nữa': 1, 'đó': 1, 'tiêm': 1, 'biên_giới': 1, 'nhập_cảnh': 1, 'trái_phép': 1, 'hỗ_trợ': 1, 'bị': 1, 'tác_động': 1, 'bởi': 1, 'đẩy_mạnh': 1, 'Các': 1, 'liên_quan': 1, 'nợ': 1, 'xấu': 1, 'ngân_hàng': 1, 'đồng': 1, 'tuy': 1, 'một': 1, 'phần': 1, 'tin_tưởng': 1, 'dưới': 1, 'sự': 1, 'điều_hành': 1, 'kinh_nghiệm': 1, 'công_tác_phong_phú': 1, 'đưa': 1, 'đất_nước': 1, 'sẵn_sàng': 1, 'đồng_hành': 1, 'Tại': 1, 'Phó_thủ_tướng': 1, 'Lê_Minh_Khái': 1, 'Lê_Văn_Thành': 1, 'Bộ_trưởng': 1, 'vừa': 1, 'Hôm': 1, 'thông_qua': 1, 'nghị_quyết': 1, 'chức': 1, 'trở_thành': 1, 'Trưởng': 1, 'ban': 1, 'Tổ_chức': 1, 'Trung_ương': 1, 'đầu_tiên': 1, 'đứng': 1, 'đầu': 1, 'thứ': 1, 'lịch_sử': 1, 'kể': 1, 'từ': 1, 'năm': 1, '1945': 1, '28': 1, 'miễn_nhiệm': 1, 'chức_vụ': 1, 'Viết_Tuân': 1}\n"
     ]
    }
   ],
   "source": [
    "print(new.list_counter_keys[0])\n",
    "print(new.list_counter_keys[60])"
   ]
  }
 ],
 "metadata": {
  "kernelspec": {
   "display_name": "Python 3.8.5 64-bit",
   "name": "python385jvsc74a57bd031f2aee4e71d21fbe5cf8b01ff0e069b9275f58929596ceb00d14d90e3e16cd6"
  },
  "language_info": {
   "codemirror_mode": {
    "name": "ipython",
    "version": 3
   },
   "file_extension": ".py",
   "mimetype": "text/x-python",
   "name": "python",
   "nbconvert_exporter": "python",
   "pygments_lexer": "ipython3",
   "version": "3.8.5"
  },
  "metadata": {
   "interpreter": {
    "hash": "31f2aee4e71d21fbe5cf8b01ff0e069b9275f58929596ceb00d14d90e3e16cd6"
   }
  },
  "orig_nbformat": 2
 },
 "nbformat": 4,
 "nbformat_minor": 2
}
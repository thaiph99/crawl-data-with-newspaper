{
 "cells": [
  {
   "cell_type": "code",
   "execution_count": 1,
   "metadata": {},
   "outputs": [],
   "source": [
    "from api import News\n",
    "from api import Keyword\n",
    "from api import Url\n",
    "from api import Category"
   ]
  },
  {
   "cell_type": "code",
   "execution_count": 2,
   "metadata": {},
   "outputs": [],
   "source": [
    "url = Url('urls.txt')\n",
    "key = Keyword('keywords.txt')\n",
    "categorys = Category()"
   ]
  },
  {
   "cell_type": "code",
   "execution_count": 3,
   "metadata": {},
   "outputs": [
    {
     "data": {
      "text/plain": "['https://vnexpress.net/\\n',\n 'https://vnexpress.net/du-lich',\n 'https://video.vnexpress.net',\n 'https://e.vnexpress.net',\n 'https://vnexpress.net/oto-xe-may',\n 'https://vnexpress.net',\n 'https://vnexpress.net/giai-tri',\n 'https://vnexpress.net/phap-luat',\n 'https://vnexpress.net/doi-song',\n 'https://vnexpress.net/goc-nhin',\n 'https://vnexpress.net/hai',\n 'https://vnexpress.net/the-gioi',\n 'https://vnexpress.net/kinh-doanh',\n 'https://vnexpress.net/tam-su',\n 'https://vnexpress.net/giao-duc',\n 'https://vnexpress.net/suc-khoe',\n 'https://vnexpress.net/khoa-hoc',\n 'https://vnexpress.net/tin-tuc-24h',\n 'https://vnexpress.net/so-hoa',\n 'https://vnexpress.net/the-thao',\n 'https://vnexpress.net/thoi-su',\n 'https://vnexpress.net/y-kien',\n 'https://vnexpress.net/\\n',\n 'https://www.24h.com.vn/\\n',\n 'https://www.24h.com.vn/\\n',\n 'https://tuoitre.vn/video.htm',\n 'https://tuoitre.vn/',\n 'https://tuoitre.vn/cong-nghe.htm',\n 'https://cuoi.tuoitre.vn',\n 'https://tv.tuoitre.vn',\n 'https://tuoitre.vn/xe.htm',\n 'https://tuoitre.vn',\n 'https://tuoitre.vn/photo.htm',\n 'http://id.tuoitre.vn',\n 'https://tuyensinh.tuoitre.vn',\n 'https://cuoituan.tuoitre.vn',\n 'https://congnghe.tuoitre.vn',\n 'https://beta.tuoitre.vn',\n 'https://tuoitre.vn/van-hoa.htm',\n 'https://tuoitre.vn/the-gioi.htm',\n 'https://tuoitre.vn/phap-luat.htm',\n 'https://dulich.tuoitre.vn',\n 'https://quangcao.tuoitre.vn',\n 'https://tuoitre.vn/giao-duc.htm',\n 'https://tuoitre.vn/dien-dan.html',\n 'https://tuoitre.vn/suc-khoe.htm',\n 'https://tuoitre.vn/the-thao.htm',\n 'https://tuoitre.vn/thoi-su.htm',\n 'https://thethao.tuoitre.vn',\n 'https://tuoitre.vn/can-biet.htm',\n 'https://tuoitre.vn/giai-tri.htm',\n 'http://pay.tuoitre.vn',\n 'https://nhadat.tuoitre.vn',\n 'https://tuoitre.vn/media.htm',\n 'https://tuoitre.vn/nha-dat.htm',\n 'https://tuoitre.vn/khoa-hoc.htm',\n 'https://tuoitre.vn/du-lich.htm',\n 'https://tuoitre.vn/gia-that.htm',\n 'https://tuoitre.vn/']"
     },
     "execution_count": 3,
     "metadata": {},
     "output_type": "execute_result"
    }
   ],
   "source": [
    "list_category = []\n",
    "for url_home in url.list_url:\n",
    "    list_category += categorys.get_category_url_from_url(url_home)\n",
    "list_category"
   ]
  },
  {
   "cell_type": "code",
   "execution_count": 4,
   "metadata": {},
   "outputs": [
    {
     "data": {
      "text/plain": "59"
     },
     "execution_count": 4,
     "metadata": {},
     "output_type": "execute_result"
    }
   ],
   "source": [
    "len(list_category)"
   ]
  },
  {
   "cell_type": "code",
   "execution_count": 5,
   "metadata": {},
   "outputs": [],
   "source": [
    "news = News()"
   ]
  },
  {
   "cell_type": "code",
   "execution_count": 6,
   "metadata": {},
   "outputs": [
    {
     "data": {
      "text/plain": "935"
     },
     "execution_count": 6,
     "metadata": {},
     "output_type": "execute_result"
    }
   ],
   "source": [
    "news.load_urls(list_category)\n",
    "len(news.list_url_news)"
   ]
  },
  {
   "cell_type": "code",
   "execution_count": 7,
   "metadata": {},
   "outputs": [
    {
     "name": "stdout",
     "output_type": "stream",
     "text": [
      "Done\n"
     ]
    }
   ],
   "source": [
    "news.load_text()\n",
    "print('Done')"
   ]
  },
  {
   "cell_type": "code",
   "execution_count": 8,
   "metadata": {},
   "outputs": [
    {
     "name": "stdout",
     "output_type": "stream",
     "text": [
      "935\n",
      "930\n",
      "930\n"
     ]
    }
   ],
   "source": [
    "print(len(news.list_url_news))\n",
    "print(len(news.list_title))\n",
    "print(len(news.list_text_news))"
   ]
  },
  {
   "cell_type": "code",
   "execution_count": 9,
   "metadata": {},
   "outputs": [
    {
     "name": "stdout",
     "output_type": "stream",
     "text": [
      "930\n",
      "Done\n"
     ]
    }
   ],
   "source": [
    "news.load_key()\n",
    "print(len(news.list_text_news))\n",
    "print('Done')"
   ]
  },
  {
   "cell_type": "code",
   "execution_count": 10,
   "metadata": {},
   "outputs": [],
   "source": [
    "# news.write_data('datatemporary')"
   ]
  },
  {
   "cell_type": "code",
   "execution_count": 11,
   "metadata": {},
   "outputs": [
    {
     "name": "stdout",
     "output_type": "stream",
     "text": [
      "864900\n",
      "930\n"
     ]
    }
   ],
   "source": [
    "list_score = []\n",
    "# print(news.list_counter_keys)\n",
    "cnti= 0\n",
    "for i in news.list_counter_keys:\n",
    "    cntj = 0\n",
    "    for j in news.list_counter_keys:\n",
    "        list_score.append((news.compare(i, j), cnti, cntj))\n",
    "        cntj += 1\n",
    "    cnti += 1\n",
    "print(len(list_score))\n",
    "print(cnti)"
   ]
  },
  {
   "cell_type": "code",
   "execution_count": 12,
   "metadata": {},
   "outputs": [
    {
     "name": "stdout",
     "output_type": "stream",
     "text": [
      "[(14.38749456993816, 685, 706), (14.38749456993816, 706, 685), (14.45683229480096, 688, 706), (14.45683229480096, 706, 688), (14.832396974191326, 523, 706), (14.832396974191326, 706, 523), (15.0996688705415, 534, 549), (15.0996688705415, 549, 534), (15.459624833740307, 523, 688), (15.459624833740307, 688, 523), (15.556349186104045, 220, 221), (15.556349186104045, 221, 220), (15.684387141358123, 171, 706), (15.684387141358123, 523, 540), (15.684387141358123, 540, 523), (15.684387141358123, 706, 171), (16.06237840420901, 685, 688), (16.06237840420901, 688, 685), (16.186414056238647, 677, 688), (16.186414056238647, 688, 677)]\n"
     ]
    }
   ],
   "source": [
    "list_score = list(filter(lambda x : x[0]!=0.0, list_score))\n",
    "list_score = sorted(list_score, key=lambda x : x[0])\n",
    "print(list_score[:20])"
   ]
  },
  {
   "cell_type": "code",
   "execution_count": 18,
   "metadata": {},
   "outputs": [
    {
     "name": "stdout",
     "output_type": "stream",
     "text": [
      "TP HCMLọ Lem - con gái 15 tuổi của Quyền Linh - phụ bố mẹ hái cà chua, cóc trên sân thượng nhân dịp vừa nghỉ hè, hôm 8/5..\n",
      ".\n",
      "Con gái Quyền Linh thu hoạch trái cây trên vườn sân thượng Con gái Quyền Linh thu hoạch rau quả ở biệt thự 500 m2 tại huyện Nhà Bè. Video: Nhân vật cung cấp..\n",
      ".\n",
      "Lọ Lem tên thật là Mai Thảo Linh, sinh năm 2006, cao 1,7 m, là con đầu của Quyền Linh. Cô bé thích trở thành nhà thiết kế thời trang, đồng thời muốn kinh doanh như mẹ. Quyền Linh thường tự hào con gái trưởng thành, chín chắn hơn tuổi. Nhiều đồng nghiệp khuyên anh đưa bé theo con đường nghệ thuật, song diễn viên để con tự định hướng nghề nghiệp, bố mẹ chỉ tư vấn..\n",
      ".\n",
      "Quyền Linh tên thật là Mai Huyền Linh, sinh năm 1969. Anh nổi tiếng qua các phim Người Hà Nội (1995), Những nẻo đường phù sa (1997), Đồng tiền xương máu (1999), Giao thời (2000)... Anh còn là MC của các chương trình như Vượt lên chính mình, Bạn muốn hẹn hò... Diễn viên kết hôn năm 2005 với doanh nhân Dạ Thảo, có hai con gái: Lọ Lem và Hạt Dẻ..\n",
      ".\n",
      "Tam Kỳ\n",
      "-------------------\n",
      "Ở đời thường, diễn viên thích trang phục năng động gồm: áo thun, áo nỉ, quần jeans, váy ngắn và giày thể thao. Trong ảnh cô diện \"cây\" Gucci, thuộc bộ sưu tập Hè 2020..\n",
      ".\n",
      "Bạch Lộc là tiểu hoa đán mới của màn ảnh Hoa ngữ, sinh năm 1994, tên thật là Bạch Mộng Nghiên. Cô gia nhập làng giải trí từ 2017, được đánh giá cao diễn xuất qua vai Chiêu Dao trong phim cổ trang cùng tên, dẫn đầu lượng người xem so với các tác phẩm chiếu cùng khung giờ tại Trung Quốc hồi đầu năm 2019. Những năm gần đây, cô đắt show giải trí, đóng chính nhiều phim ăn khách như: Cửu Lưu bá chủ, Học viện quân sự liệt hỏa, Thế giới nợ tôi một mối tình đầu, Nửa là đường mật, nửa là đau thương...\n"
     ]
    }
   ],
   "source": [
    "print(news.list_text_news[685])\n",
    "print('-------------------')\n",
    "print(news.list_text_news[706])"
   ]
  },
  {
   "cell_type": "code",
   "execution_count": 14,
   "metadata": {},
   "outputs": [
    {
     "name": "stdout",
     "output_type": "stream",
     "text": [
      "{'gà': 2, 'Thịt': 1, 'xiên': 1, 'nướng': 1, 'sản_xuất': 1, 'trong': 1, 'phòng': 1, 'thí_nghiệm': 1, 'Công_ty': 1, 'Singapore': 1, 'tạo': 1, 'ra': 1, 'món': 1, 'không': 1, 'thịt': 1, 'thân_thiện': 1, 'với': 1, 'môi_trường': 1, 'hơn': 1, 'sử_dụng': 1, 'nguyên_liệu': 1, 'chính': 1, 'là': 1, 'các': 1, 'loại': 1, 'đậu': 1}\n",
      "{'bò': 11, 'trong': 8, 'rừng': 7, 'một': 7, 'bison': 6, 'đã': 5, 'cho': 5, 'được': 5, 'Công_viên': 4, 'Quốc_gia': 4, 'để': 4, 'các': 4, 'và': 4, 'người': 3, 'cuộc': 3, 'săn': 3, 'tại': 3, 'Grand_Canyon': 3, 'mức': 3, 'của': 3, 'loài': 3, 'đang': 3, 'Mỹ': 3, 'con': 3, 'tổ_chức': 3, 'sẽ': 3, 'chỉ': 3, 'là': 3, 'đến': 3, '45.000': 2, 'đăng_ký': 2, 'tham_gia': 2, 'thi': 2, 'kiểm_soát': 2, 'quần_thể': 2, 'thú': 2, 'móng_guốc': 2, 'lớn': 2, 'Grand': 2, 'Canyon': 2, 'bang': 2, 'Arizona': 2, 'Theo': 2, 'số_lượng': 2, 'khu': 2, 'bảo_tồn': 2, 'lần': 2, 'phép': 2, 'quan_chức': 2, 'kế_hoạch': 2, 'thợ_săn': 2, 'đó': 2, 'cũng': 2, 'có': 2, 'bị': 2, 'lại': 2, 'săn_bắn': 2, 'Bắc_Mỹ': 2, 'MỹHơn': 1, 'Đàn': 1, 'Ảnh': 1, 'Canva': 1, 'Sự': 1, 'tăng_trưởng': 1, 'quá': 1, 'những': 1, 'nhất': 1, 'thế_giới': 1, 'tàn_phá': 1, 'thảm': 1, 'thực_vật': 1, 'phía': 1, 'tây': 1, 'bắc': 1, 'phát_ngôn_viên': 1, 'Kaitlyn_Thomas': 1, 'đạt': 1, 'tới': 1, '500': 1, 'gấp': 1, '2,5': 1, 'đảm_bảo': 1, 'cân_bằng': 1, 'sinh_thái': 1, 'Như': 1, 'phần': 1, 'nỗ_lực': 1, 'đàn': 1, 'công_viên': 1, 'công_bố': 1, 'đi': 1, 'vào': 1, 'mùa': 1, 'thu': 1, '12': 1, 'chuyên_nghiệp': 1, 'mang': 1, 'quốc_tịch': 1, 'lựa_chọn': 1, 'mỗi': 1, 'Đây': 1, 'đầu_tiên': 1, 'sự_kiện': 1, 'như_vậy': 1, 'Để': 1, 'tình_nguyện': 1, 'viên': 1, 'phải': 1, 'cung_cấp': 1, 'bằng_chứng': 1, 'hoàn_thành': 1, 'khóa': 1, 'học': 1, 'an_toàn': 1, 'súng': 1, 'Họ': 1, 'cần': 1, 'có_thể_chất': 1, 'tốt': 1, 'kéo': 1, 'xác': 1, 'ra': 1, 'khỏi': 1, 'vùng': 1, 'hoang_dã': 1, 'mà': 1, 'không': 1, 'dùng': 1, 'phương_tiện': 1, 'cơ_giới': 1, 'Hiện': 1, 'hơn': 1, 'nộp': 1, 'đơn': 1, '15': 1, 'số': 1, 'cư_dân': 1, 'Thịt': 1, 'cuối_cùng': 1, 'chia': 1, 'Những': 1, 'bộ_phận': 1, 'bỏ': 1, 'chuyển': 1, 'chính_quyền': 1, '11': 1, 'bộ_lạc': 1, 'địa_phương': 1, 'Dịch_vụ': 1, 'biết': 1, 'Bên': 1, 'cạnh': 1, 'việc': 1, 'lên': 1, 'di_dời': 1, 'địa_điểm': 1, 'khác': 1, 'khoảng': 1, '200': 1, 'Chi': 1, 'hiện': 1, 'hai': 1, 'còn': 1, 'tồn_tại': 1, 'châu': 1, 'Âu': 1, 'Chúng': 1, 'từng': 1, 'gần': 1, 'như': 1, 'tuyệt_chủng': 1, 'thế_kỷ': 1, '19': 1, '20': 1, 'nhưng': 1, 'phục': 1, 'mồi': 1, 'mạnh_mẽ': 1, 'đặc_biệt': 1, 'Hai': 1, 'này': 1, 'có_thể': 1, 'phát_triển': 1, 'chiều': 1, 'dài': 1, '3,5': 1, 'nặng': 1, 'tấn': 1, 'khi': 1, 'trưởng_thành': 1, 'Đoàn_Dương': 1, 'Guardian': 1, 'AFP': 1}\n"
     ]
    }
   ],
   "source": [
    "# 526, 561\n",
    "print(news.list_counter_keys[386])\n",
    "print(news.list_counter_keys[397])"
   ]
  },
  {
   "cell_type": "code",
   "execution_count": 15,
   "metadata": {},
   "outputs": [
    {
     "name": "stdout",
     "output_type": "stream",
     "text": [
      "https://vnexpress.net/vo-viet-kieu-doi-hoi-nhieu-4274894.html\n",
      "https://vnexpress.net/co-nen-lam-o-cong-ty-nho-voi-luong-thang-75-trieu-4274430.html\n"
     ]
    }
   ],
   "source": [
    "print(news.list_url_news[136])\n",
    "print(news.list_url_news[146])"
   ]
  },
  {
   "cell_type": "code",
   "execution_count": 16,
   "metadata": {},
   "outputs": [],
   "source": [
    "# news.load_data('datatemporary')\n",
    "# print(len(news.list_url_news))\n",
    "# print(len(news.list_text_news))"
   ]
  },
  {
   "cell_type": "code",
   "execution_count": 17,
   "metadata": {},
   "outputs": [],
   "source": [
    "# news.write_data('datatemporary')"
   ]
  }
 ],
 "metadata": {
  "kernelspec": {
   "display_name": "Python 3.8.5 64-bit",
   "name": "python385jvsc74a57bd0916dbcbb3f70747c44a77c7bcd40155683ae19c65e1c03b4aa3499c5328201f1"
  },
  "language_info": {
   "codemirror_mode": {
    "name": "ipython",
    "version": 3
   },
   "file_extension": ".py",
   "mimetype": "text/x-python",
   "name": "python",
   "nbconvert_exporter": "python",
   "pygments_lexer": "ipython3",
   "version": "3.8.5"
  },
  "metadata": {
   "interpreter": {
    "hash": "916dbcbb3f70747c44a77c7bcd40155683ae19c65e1c03b4aa3499c5328201f1"
   }
  },
  "orig_nbformat": 2
 },
 "nbformat": 4,
 "nbformat_minor": 2
}
{
 "cells": [
  {
   "cell_type": "code",
   "execution_count": 1,
   "metadata": {},
   "outputs": [],
   "source": [
    "from newspaperedited import Article\n",
    "import numpy as np  \n",
    "import newspaper"
   ]
  },
  {
   "cell_type": "markdown",
   "metadata": {},
   "source": [
    "## test"
   ]
  },
  {
   "cell_type": "code",
   "execution_count": 2,
   "metadata": {},
   "outputs": [
    {
     "name": "stdout",
     "output_type": "stream",
     "text": [
      "url :  https://vnexpress.net/hang-tram-tre-ti-nan-o-thuy-dien-hon-me-bi-an-4256424.html\n",
      "url :  https://vnexpress.net/hang-tram-tre-ti-nan-o-thuy-dien-hon-me-bi-an-4256424.html#box_comment_vne\n",
      "url :  https://vnexpress.net/khanh-ly-hat-giot-le-thien-thu-nho-trinh-cong-son-4256533.html\n",
      "url :  https://vnexpress.net/khanh-ly-hat-giot-le-thien-thu-nho-trinh-cong-son-4256533.html#box_comment_vne\n",
      "url :  https://vnexpress.net/thanh-nien-ban-dat-hang-nho-toc-qua-dua-4256570.html\n",
      "url :  https://vnexpress.net/thanh-nien-ban-dat-hang-nho-toc-qua-dua-4256570.html#box_comment_vne\n",
      "url :  https://vnexpress.net/hon-70-xe-may-trong-bai-giu-csgt-thu-duc-bi-chay-rui-4256513.html\n",
      "url :  https://vnexpress.net/hon-70-xe-may-trong-bai-giu-csgt-thu-duc-bi-chay-rui-4256513.html#box_comment_vne\n",
      "url :  https://vnexpress.net/hai-phuong-an-duong-sat-toc-do-cao-4255318.html\n",
      "url :  https://vnexpress.net/hai-phuong-an-duong-sat-toc-do-cao-4255318.html#box_comment_vne\n",
      "url :  https://vnexpress.net/ngay-dau-xa-lo-ha-noi-thu-phi-4256431.html\n",
      "url :  https://vnexpress.net/ngay-dau-xa-lo-ha-noi-thu-phi-4256431.html#box_comment_vne\n",
      "url :  https://vnexpress.net/hoc-sinh-can-chu-y-van-de-thoi-su-o-mon-ngu-van-4256561.html\n",
      "url :  https://vnexpress.net/hoc-sinh-can-chu-y-van-de-thoi-su-o-mon-ngu-van-4256561.html#box_comment_vne\n",
      "url :  https://vnexpress.net/nganh-du-lich-thai-lan-mat-1-45-trieu-viec-lam-4256469.html\n",
      "url :  https://vnexpress.net/nganh-du-lich-thai-lan-mat-1-45-trieu-viec-lam-4256469.html#box_comment_vne\n",
      "url :  https://vnexpress.net/binh-dinh-giam-gia-kich-cau-du-lich-4256414.html\n",
      "url :  https://vnexpress.net/binh-dinh-giam-gia-kich-cau-du-lich-4256414.html#box_comment_vne\n",
      "url :  https://vnexpress.net/ve-dep-canh-dong-muoi-hon-khoi-o-nha-trang-4256123.html\n",
      "url :  https://vnexpress.net/ve-dep-canh-dong-muoi-hon-khoi-o-nha-trang-4256123.html#box_comment_vne\n",
      "url :  https://vnexpress.net/canh-sat-giu-kin-nguyen-nhan-vu-tai-nan-cua-tiger-woods-4256587.html\n",
      "url :  https://vnexpress.net/thien-thach-100-m-phat-no-430-000-nam-truoc-4256310.html\n",
      "url :  https://vnexpress.net/pha-kho-hang-gia-lon-nhat-ninh-binh-4256558.html\n",
      "url :  https://vnexpress.net/xe-ban-tai-cua-hyundai-lo-dien-truoc-ngay-ra-mat-4256499.html\n",
      "url :  https://vnexpress.net/trum-truyen-thong-hong-kong-bi-ket-toi-4256526.html\n",
      "url :  https://vnexpress.net/xiaomi-khien-apple-xau-ho-4256552.html\n",
      "url :  https://vnexpress.net/xe-cuu-hoa-hybrid-dau-tien-tren-the-gioi-4256403.html\n",
      "url :  https://vnexpress.net/cau-thu-quang-ninh-vay-tien-me-vo-de-tieu-4256528.html\n",
      "url :  https://vnexpress.net/sinh-vat-xam-lan-gay-thiet-hai-hang-nghin-ty-do-4256322.html\n",
      "url :  https://vnexpress.net/pha-kho-hang-gia-lon-nhat-ninh-binh-4256558.html#box_comment_vne\n",
      "url :  https://vnexpress.net/nhung-dieu-can-biet-khi-mua-bao-hiem-qua-ngan-hang-4256437.html\n",
      "url :  https://vnexpress.net/nhung-dieu-can-biet-khi-mua-bao-hiem-qua-ngan-hang-4256437.html#box_comment_vne\n",
      "url :  https://vnexpress.net/bat-dong-san-ky-vong-buc-tranh-mau-sang-trong-nam-2021-4256224.html\n",
      "url :  https://vnexpress.net/bat-dong-san-ky-vong-buc-tranh-mau-sang-trong-nam-2021-4256224.html#box_comment_vne\n",
      "url :  https://vnexpress.net/dong-nam-huong-phong-thuy-uu-tien-cua-khach-mua-nha-4246502.html\n",
      "url :  https://vnexpress.net/dong-nam-huong-phong-thuy-uu-tien-cua-khach-mua-nha-4246502.html#box_comment_vne\n",
      "url :  https://vnexpress.net/my-pham-nuoc-hoa-hop-ngay-he-oi-buc-4256047.html\n",
      "url :  https://vnexpress.net/my-pham-nuoc-hoa-hop-ngay-he-oi-buc-4256047.html#box_comment_vne\n",
      "url :  https://vnexpress.net/thanh-pho-thong-minh-rong-700-000-m2-tai-nhat-ban-4256315.html#box_comment_vne\n",
      "url :  https://vnexpress.net/may-bay-sieu-thanh-toc-do-6-400-km-h-4255792.html#box_comment_vne\n",
      "url :  https://e.vnexpress.net/news/news/vietnam-to-borrow-2-bln-to-fortify-mekong-delta-against-climate-change-4256445.html\n",
      "url :  https://e.vnexpress.net/news/news/vietnam-to-borrow-2-bln-to-fortify-mekong-delta-against-climate-change-4256445.html#box_comment\n",
      "url :  https://e.vnexpress.net/news/business/economy/vietnam-exports-to-us-surge-4256486.html\n",
      "url :  https://e.vnexpress.net/news/business/economy/vietnam-exports-to-us-surge-4256486.html#box_comment\n",
      "url :  https://vnexpress.net/trum-truyen-thong-hong-kong-bi-ket-toi-4256526.html#box_comment_vne\n",
      "url :  https://vnexpress.net/chien-ham-canada-di-qua-bien-dong-4256471.html\n",
      "url :  https://vnexpress.net/chien-ham-canada-di-qua-bien-dong-4256471.html#box_comment_vne\n",
      "url :  https://vnexpress.net/cho-den-du-lieu-ngan-trung-quoc-thanh-quoc-gia-ky-thuat-so-4255523.html#box_comment_vne\n",
      "url :  https://vnexpress.net/xe-ban-tai-cua-hyundai-lo-dien-truoc-ngay-ra-mat-4256499.html#box_comment_vne\n",
      "url :  https://vnexpress.net/xe-cuu-hoa-hybrid-dau-tien-tren-the-gioi-4256403.html#box_comment_vne\n",
      "url :  https://vnexpress.net/cau-thu-quang-ninh-vay-tien-me-vo-de-tieu-4256528.html#box_comment_vne\n",
      "url :  https://vnexpress.net/canh-sat-giu-kin-nguyen-nhan-vu-tai-nan-cua-tiger-woods-4256587.html#box_comment_vne\n",
      "url :  https://vnexpress.net/mo-cong-dang-ky-giai-dong-doi-vm-hanoi-midnight-4256133.html\n",
      "url :  https://vnexpress.net/mo-cong-dang-ky-giai-dong-doi-vm-hanoi-midnight-4256133.html#box_comment_vne\n"
     ]
    }
   ],
   "source": [
    "vnexpress = newspaper.build('https://vnexpress.net/giai-tri')\n",
    "for article in vnexpress.articles:\n",
    "    print('url : ', article.url)"
   ]
  },
  {
   "cell_type": "code",
   "execution_count": 3,
   "metadata": {},
   "outputs": [
    {
     "name": "stdout",
     "output_type": "stream",
     "text": [
      "https://vnexpress.net/suc-khoe\n",
      "https://vnexpress.net/giai-tri\n",
      "https://vnexpress.net/hai\n",
      "https://vnexpress.net/y-kien\n",
      "https://vnexpress.net/suc-khoe\n",
      "https://vnexpress.net/goc-nhin\n",
      "https://vnexpress.net/thoi-su\n",
      "https://vnexpress.net/giao-duc\n",
      "https://vnexpress.net/du-lich\n",
      "https://vnexpress.net/tin-tuc-24h\n",
      "https://vnexpress.net/suc-khoe-p2\n",
      "https://vnexpress.net/kinh-doanh\n",
      "https://vnexpress.net/doi-song\n",
      "https://video.vnexpress.net\n",
      "https://vnexpress.net/phap-luat\n",
      "https://vnexpress.net/khoa-hoc\n",
      "https://e.vnexpress.net\n",
      "https://vnexpress.net/suc-khoe-p4\n",
      "https://vnexpress.net/the-gioi\n",
      "https://vnexpress.net/so-hoa\n",
      "https://vnexpress.net/suc-khoe-p3\n",
      "https://vnexpress.net/tam-su\n",
      "https://vnexpress.net/oto-xe-may\n",
      "https://vnexpress.net\n",
      "https://vnexpress.net/the-thao\n"
     ]
    }
   ],
   "source": [
    "for category in vnexpress.category_urls():\n",
    "    print(category)"
   ]
  },
  {
   "cell_type": "code",
   "execution_count": 4,
   "metadata": {},
   "outputs": [],
   "source": [
    "vnexpress = newspaper.build('https://vnexpress.net/y-kien')\n",
    "for article in vnexpress.articles:\n",
    "    print('url : ', article.url)"
   ]
  },
  {
   "cell_type": "markdown",
   "metadata": {},
   "source": [
    "## beautiful Soup"
   ]
  },
  {
   "cell_type": "code",
   "execution_count": 5,
   "metadata": {},
   "outputs": [],
   "source": [
    "import re  \n",
    "def is_valid(url):\n",
    "    return re.findall(r'\\.[a-z]{3}', url)"
   ]
  },
  {
   "cell_type": "code",
   "execution_count": 6,
   "metadata": {},
   "outputs": [
    {
     "name": "stdout",
     "output_type": "stream",
     "text": [
      "https://e.vnexpress.net/\n",
      "https://video.vnexpress.net\n",
      "https://vnexpress.net/hom-nay-trinh-mien-nhiem-thu-tuong-nguyen-xuan-phuc-4256475.html\n",
      "https://vnexpress.net/hom-nay-trinh-mien-nhiem-thu-tuong-nguyen-xuan-phuc-4256475.html#box_comment_vne\n",
      "https://vnexpress.net/can-bo-benh-vien-tam-than-tiep-tay-cho-benh-nhan-mo-phong-bay-lac-4256516.html\n",
      "https://vnexpress.net/can-bo-benh-vien-tam-than-tiep-tay-cho-benh-nhan-mo-phong-bay-lac-4256516.html#box_comment_vne\n",
      "https://vnexpress.net/hai-phuong-an-duong-sat-toc-do-cao-4255318.html\n",
      "https://vnexpress.net/hai-phuong-an-duong-sat-toc-do-cao-4255318.html#box_comment_vne\n",
      "https://vnexpress.net/lan-dot-bien-4256255.html\n",
      "https://vnexpress.net/tac-gia/nguyen-lan-dung-1203.html\n",
      "https://vnexpress.net/lan-dot-bien-4256255.html#box_comment_vne\n",
      "https://vnexpress.net/hon-70-xe-may-trong-bai-giu-csgt-thu-duc-bi-chay-rui-4256513.html\n",
      "https://vnexpress.net/hon-70-xe-may-trong-bai-giu-csgt-thu-duc-bi-chay-rui-4256513.html#box_comment_vne\n",
      "https://vnexpress.net/quoc-hoi-co-ba-pho-chu-tich-moi-4256215.html\n",
      "https://vnexpress.net/quoc-hoi-co-ba-pho-chu-tich-moi-4256215.html#box_comment_vne\n",
      "https://vnexpress.net/lo-ngai-bong-bong-khi-dong-tien-do-manh-vao-bat-dong-san-4256233.html\n",
      "https://vnexpress.net/lo-ngai-bong-bong-khi-dong-tien-do-manh-vao-bat-dong-san-4256233.html#box_comment_vne\n",
      "https://vnexpress.net/chien-ham-canada-di-qua-bien-dong-4256471.html\n",
      "https://vnexpress.net/chien-ham-canada-di-qua-bien-dong-4256471.html#box_comment_vne\n",
      "https://vnexpress.net/ngay-dau-xa-lo-ha-noi-thu-phi-4256431.html\n",
      "https://vnexpress.net/ngay-dau-xa-lo-ha-noi-thu-phi-4256431.html#box_comment_vne\n",
      "https://vnexpress.net/vn-index-vuot-dinh-4256482.html\n",
      "https://vnexpress.net/vn-index-vuot-dinh-4256482.html#box_comment_vne\n",
      "https://vnexpress.net/viet-nam-bat-dau-dam-nhiem-chuc-chu-tich-hoi-dong-bao-an-4256391.html\n",
      "https://vnexpress.net/viet-nam-bat-dau-dam-nhiem-chuc-chu-tich-hoi-dong-bao-an-4256391.html#box_comment_vne\n",
      "https://vnexpress.net/benh-nhan-lap-phong-bay-lac-tung-tron-vien-4256261.html\n",
      "https://vnexpress.net/benh-nhan-lap-phong-bay-lac-tung-tron-vien-4256261.html#box_comment_vne\n",
      "https://vnexpress.net/doanh-nghiep-viet-thiet-hai-ra-sao-sau-su-co-ever-given-4256264.html\n",
      "https://vnexpress.net/doanh-nghiep-viet-thiet-hai-ra-sao-sau-su-co-ever-given-4256264.html#box_comment_vne\n",
      "https://vnexpress.net/lo-dien-vf-e35-oto-dien-thu-hai-cua-vinfast-4256376.html\n",
      "https://vnexpress.net/lo-dien-vf-e35-oto-dien-thu-hai-cua-vinfast-4256376.html#box_comment_vne\n",
      "https://vnexpress.net/chinh-sach-co-hieu-luc-tu-thang-4-4255979.html\n",
      "https://vnexpress.net/chinh-sach-co-hieu-luc-tu-thang-4-4255979.html#box_comment_vne\n",
      "https://vnexpress.net/no-luc-chay-dua-voi-sieu-mat-trang-giai-cuu-tau-tren-kenh-suez-4255272.html\n",
      "https://vnexpress.net/no-luc-chay-dua-voi-sieu-mat-trang-giai-cuu-tau-tren-kenh-suez-4255272.html#box_comment_vne\n",
      "https://vnexpress.net/bo-gd-amp-dt-cong-bo-de-tham-khao-thi-tot-nghiep-thpt-4256272.html\n",
      "https://vnexpress.net/bo-gd-amp-dt-cong-bo-de-tham-khao-thi-tot-nghiep-thpt-4256272.html#box_comment_vne\n",
      "https://vnexpress.net/trung-quoc-moi-loat-ngoai-truong-chau-a-toi-hoi-dam-4256381.html\n",
      "https://vnexpress.net/trung-quoc-moi-loat-ngoai-truong-chau-a-toi-hoi-dam-4256381.html#box_comment_vne\n",
      "https://vnexpress.net/3-du-an-chong-ngap-san-bay-tan-son-nhat-4256274.html\n",
      "https://vnexpress.net/3-du-an-chong-ngap-san-bay-tan-son-nhat-4256274.html#box_comment_vne\n",
      "https://vnexpress.net/em-gai-nho-lan-noi-chuyen-cuoi-voi-trinh-cong-son-4255706.html\n",
      "https://vnexpress.net/em-gai-nho-lan-noi-chuyen-cuoi-voi-trinh-cong-son-4255706.html#box_comment_vne\n",
      "https://vnexpress.net/pagani-huayra-sieu-pham-trieu-usd-doc-nhat-viet-nam-4256084.html\n",
      "https://vnexpress.net/pagani-huayra-sieu-pham-trieu-usd-doc-nhat-viet-nam-4256084.html#box_comment_vne\n",
      "https://vnexpress.net/hon-129-trieu-ca-covid-19-toan-cau-who-noi-vaccine-trung-quoc-an-toan-4256292.html\n",
      "https://vnexpress.net/hon-129-trieu-ca-covid-19-toan-cau-who-noi-vaccine-trung-quoc-an-toan-4256292.html#box_comment_vne\n",
      "https://vnexpress.net/gia-vang-dao-chieu-tang-vot-4256298.html\n",
      "https://vnexpress.net/gia-vang-dao-chieu-tang-vot-4256298.html#box_comment_vne\n",
      "https://vnexpress.net/viet-nam-du-kien-vay-2-ty-usd-phat-trien-dong-bang-song-cuu-long-4256241.html\n",
      "https://vnexpress.net/viet-nam-du-kien-vay-2-ty-usd-phat-trien-dong-bang-song-cuu-long-4256241.html#box_comment_vne\n"
     ]
    }
   ],
   "source": [
    "from bs4 import BeautifulSoup\n",
    "import requests\n",
    "\n",
    "url_home = 'https://vnexpress.net/'\n",
    "\n",
    "respone = requests.get(url_home)\n",
    "soup = BeautifulSoup(respone.text, 'html.parser')\n",
    "\n",
    "dict_url = {}\n",
    "for a in soup.find_all('a', href=True):\n",
    "    url = a['href']\n",
    "    if url not in dict_url.keys() and is_valid(url):\n",
    "        dict_url[url] = 1\n",
    "\n",
    "print(*dict_url.keys(), sep='\\n')\n"
   ]
  },
  {
   "cell_type": "code",
   "execution_count": 7,
   "metadata": {},
   "outputs": [
    {
     "name": "stdout",
     "output_type": "stream",
     "text": [
      "title :  Khách cùng chuyến bay 'bệnh nhân 17' tỏa đi 10 tỉnh, thành\n",
      "content : ------------\n",
      "Hà Nội, TP HCM, Quảng Ninh, Quảng Bình, Thừa Thiên Huế... cách ly hàng trăm người cùng chuyến bay hoặc tiếp xúc gần \"bệnh nhân 17\"..\n",
      ".\n",
      "\"Bệnh nhân 17\" Nguyễn Hồng Nhung, 26 tuổi, đáp chuyến bay VN54 từ Anh về Nội Bài lúc 4h30 sáng 2/3. Chuyến bay chở 217 người, trong đó có 21 khách hạng thương gia, 180 khách hạng phổ thông, tổ bay và tiếp viên 16 người..\n",
      ".\n",
      "UBND TP Hà Nội cho biết mới xác minh nơi đến của 155 khách phổ thông, 21 khách thương gia. Trong đó, 60 người lưu trú tại Hà Nội, gồm quận Hoàn Kiếm 47 người; Đống Đa 9 người; Hai Bà Trưng 2 người; Ba Đình và Cầu Giấy mỗi quận một người. 42 trong số 60 người này đã tiếp tục đi những tỉnh khác..\n",
      ".\n",
      "Khu phố nhà bệnh nhân nhiễm nCoV thứ 21 ở Hà Nội bị cách ly sáng 8/3. Ảnh: Hoàng Phương.\n",
      ".\n",
      "Sở Y tế Hà Nội đã cách ly 20 người ở Bệnh viện Hồng Ngọc do tiếp xúc gần Hồng Nhung. Trong đó 19 người âm tính nCoV, một mẫu đang đợi kết quả..\n",
      ".\n",
      "\"Bệnh nhân 21\" được công bố sáng 8/3 cũng ngồi khoang VIP với Hồng Nhung. Ông công tác tại Viện Hàn lâm Khoa học Xã hội Việt Nam..\n",
      ".\n",
      "Trả lời VnExpress, ông cho biết đã chủ động báo Bộ Y tế khi hay tin về \"bệnh nhân 17\". Sáng 7/3, ông được Trung tâm kiểm soát bệnh tật Hà Nội lấy mẫu xét nghiệm, hiện cách ly và điều trị tại Bệnh viện nhiệt đới trung ương. \"Sức khỏe tôi vẫn bình thường\", ông nói..\n",
      ".\n",
      "Tại TP HCM, 20 người cùng chuyến bay VN54 đã được cách ly. Kết quả xét nghiệm công bố 10h sáng nay thể hiện 13 người âm tính, 7 người chờ kết quả..\n",
      ".\n",
      "Ngoài ra, có 5 hành khách người nước ngoài khác cũng đi chuyến bay này (trong đó có một người ngồi ghế 3K - chung khoang với \"bệnh nhân 17\", sau đó từ Nội Bài vào TP HCM sáng 2/3. Nhóm khách này đã lên tàu Viking Cruise đi du lịch Campuchia từ ngày 4/3. Hiện, người ngồi ghế 3K bị cách ly trên tàu Viking Cruise, không được lên bờ ở Campuchia, sức khoẻ bình thường..\n",
      ".\n",
      "Quảng Ninh xác định được 52 du khách (48 người nước ngoài, 4 người Việt) đi trên chuyến VN54. Trong đó, 39 người nước ngoài đã rời thành phố Hạ Long trước sáng 7/3. Trong số người còn lại, 5 người đã lên tàu tham quan vịnh Hạ Long..\n",
      ".\n",
      "Đến 8/3, cơ quan y tế đã cách ly 13 người (4 người Việt, 9 người nước ngoài) tại các cơ sở y tế ở Cẩm Phả, Hạ Long hoặc chuyển tiếp về Hà Nội..\n",
      ".\n",
      "Quảng Bình xác định một chuyên gia hang động người Anh, 29 tuổi, đi cùng chuyến bay với Hồng Nhung, ngồi ghế số 17. Sau khi nhập cảnh Việt Nam, anh này tiếp tục bay vào sân bay Đồng Hới trên chuyến bay của hãng VASCO số hiệu OV8593 lúc 19h cùng ngày, lưu trú tại Charm's Homestay ở thị trấn Phong Nha (huyện Bố Trạch)..\n",
      ".\n",
      "Ngày 5/3, anh cùng 10 người đi khảo sát hang động ở Vườn quốc gia Phong Nha - Kẻ Bàng. Đoàn thám hiểm dự kiến ra khỏi rừng vào trưa hoặc chiều 8/3. Nhà chức trách cho biết, đoàn thám hiểm khi ra khỏi rừng sẽ phải cách ly và xét nghiệm..\n",
      ".\n",
      "Tại nơi lưu trú, 10 người tiếp xúc gần chuyên gia Anh, hiện tại sức khỏe bình thường. Ngành y tế đã yêu cầu 10 người tự cách ly tại nhà, phun thuốc khử trùng nơi lưu trú và ôtô vận chuyển du khách này từ sân bay Đồng Hới về Phong Nha..\n",
      ".\n",
      "Ban chỉ đạo phòng chống Covid-19 tỉnh Quảng Bình đề nghị Cảng hàng không Đồng Hới cung cấp danh sách và lộ trình của những người trên chuyến bay OV8593 ngày 2/3 từ Nội Bài đến Đồng Hới để theo dõi sức khỏe..\n",
      ".\n",
      "Sáng nay, tỉnh Thừa Thiên Huế cũng đưa hai người nước ngoài từ khách sạn đến Bệnh viện Trung ương Huế cơ sở 2 để cách ly. Hai du khách này ngồi khoang VIP cùng bệnh nhân Nhung..\n",
      ".\n",
      "Hai ngày trước, Thừa Thiên Huế đã yêu cầu 12 du khách cùng chuyến bay với cô Nhung tự cách ly tại khách sạn, đo thân nhiệt hàng ngày. Những nhân viên khách sạn tiếp xúc với 12 người này tự theo dõi sức khỏe..\n",
      ".\n",
      "Mẫu xét nghiệm của 12 hành khách đã được gửi Viện Pasteur và Bệnh viện Trung ương Huế xét nghiệm, hiện chưa có kết quả..\n",
      ".\n",
      "Nhân viên khách sạn nơi hai du khách cách ly đeo khẩu trang. Ảnh: Võ Thạnh.\n",
      ".\n",
      "Tại Hải Phòng, 23 người đi chuyến bay VN54 đã được cách ly tập trung. Người nước ngoài cách ly tại Bệnh viện Việt Tiệp cơ sở 2; người Việt cách ly tại Trung tâm giáo dục quốc phòng thuộc Trường đại học Hải Phòng. Gần một trăm người khác tiếp xúc với những người trên cũng buộc phải cách ly..\n",
      ".\n",
      "Quảng Nam cũng cách ly tại chỗ 40 người nước ngoài liên quan Hồng Nhung, gồm 33 người bay cùng, 7 người đi cùng 33 người từ Hà Nội đến Quảng Nam..\n",
      ".\n",
      "\"Mẫu dịch phẩm đã được gửi đến Viện Pasteur Nha Trang và đang chờ kết quả xét nghiệm\", ông Nguyễn Văn Hai, Giám đốc Sở Y tế Quảng Nam nói..\n",
      ".\n",
      "Khánh Hòa có bốn người quốc tịch Anh đi chung chuyến bay VN54. Sau khi đến Hà Nội, hôm 2/3, họ lên chuyến bay khác tới Khánh Hòa, rồi vào resort ở Cam Ranh, thị xã Ninh Hòa. Họ được cách ly tại chỗ để theo dõi sức khỏe..\n",
      ".\n",
      "Ngoài ra, một bác sĩ ở Hà Nội từng khám cho bệnh nhân Nhung rồi vào Nha Trang thăm người thân, khi hay tin cô gái nhiễm bệnh đã đến Bệnh viện Nhiệt đới Khánh Hòa kiểm tra, cách ly. Hiện, cả 5 người sức khỏe đều ổn định, không có dấu hiệu ho, sốt..\n",
      ".\n",
      "Đà Nẵng, Lào Cai mỗi tỉnh ghi nhận ít nhất 2 du khách nước ngoài cùng chuyến bay với \"bệnh nhân 17\"..\n",
      ".\n",
      "Lịch trình của \"bệnh nhân 17\" Ngày 15/2, Nguyễn Hồng Nhung, 26 tuổi bay từ Nội Bài (Hà Nội) đi London thăm gia đình. Hai ngày sau, cô sang Milan (Italy) 2 ngày; đến 20/2, quay lại Anh, ở đây 2 ngày rồi đến 25/2, đi tàu sang Paris (Pháp). Ngày 26/2, cô gái quay lại London. Trong thời gian ở châu Âu, cô gái tiếp xúc với nhiều người có biểu hiện ho, hắt hơi. Ngày 28/2 tại London (Anh), cô gái xuất hiện triệu chứng ho, không rõ sốt tuy nhiên không đi khám ở đâu chỉ ở tại nhà người thân. Ngày 1/3, ngoài ho, Nhung xuất hiện thêm đau mỏi người, vẫn không rõ sốt. Nhung lên máy bay trở về Việt Nam và hạ cánh xuống Nội Bài lúc 4h30 sáng 2/3, sau đó được lái xe riêng của gia đình đưa về nhà ở phố Trúc Bạch. Ngày 3/3, Nhung xuất hiện sốt, vẫn tiếp tục ho, đau mỏi người. Ngày 4/3 Nhung thấy đỡ hơn nên vẫn ở nhà. Đến 5/3, bệnh nhân sốt cao trở lại và được đưa vào Bệnh viện Bệnh nhiệt đới trung ương khám; xét nghiệm cho kết quả dương tính với nCoV. Nhung trở thành bệnh nhân thứ 17 nhiễm nCoV, sau 23 ngày Việt Nam không ghi nhận ca nhiễm nào..\n",
      ".\n",
      "Tất Định - Hoàng Táo - Viết Tuân - Võ Thạnh - Đắc Thành\n",
      "date :  None\n",
      "active nlp -----------\n",
      "keywords :  ['thành', 'đã', 'đi', 'tỏa', 'nhân', 'người', 'cách', 'bay', 'ở', 'cùng', 'ly', 'nội', 'tỉnh', 'khách', 'chuyến', 'bệnh', 'ngày']\n",
      "len keywords :  17\n",
      "sumary : \n",
      " Hà Nội, TP HCM, Quảng Ninh, Quảng Bình, Thừa Thiên Huế... cách ly hàng trăm người cùng chuyến bay hoặc tiếp xúc gần \"bệnh nhân 17\".\n",
      "Khu phố nhà bệnh nhân nhiễm nCoV thứ 21 ở Hà Nội bị cách ly sáng 8/3.\n",
      "Ảnh: Hoàng PhươngSở Y tế Hà Nội đã cách ly 20 người ở Bệnh viện Hồng Ngọc do tiếp xúc gần Hồng Nhung.\n",
      "Nhân viên khách sạn nơi hai du khách cách ly đeo khẩu trang.\n",
      "Đà Nẵng, Lào Cai mỗi tỉnh ghi nhận ít nhất 2 du khách nước ngoài cùng chuyến bay với \"bệnh nhân 17\".\n",
      "url article :  https://vnexpress.net/khach-cung-chuyen-bay-benh-nhan-17-toa-di-10-tinh-thanh-4065969.html\n"
     ]
    }
   ],
   "source": [
    "\n",
    "# url = 'https://vnexpress.net/hom-nay-trinh-mien-nhiem-thu-tuong-nguyen-xuan-phuc-4256475.html'\n",
    "# url = 'https://vnexpress.net/sang-1-4-khong-ca-nhiem-gan-50-000-nguoi-da-tiem-vaccine-covid-19-4256286.html'\n",
    "url = 'https://vnexpress.net/khach-cung-chuyen-bay-benh-nhan-17-toa-di-10-tinh-thanh-4065969.html'\n",
    "article = Article(url)\n",
    "article.download()\n",
    "article.parse()\n",
    "\n",
    "text = article.text.replace('\\n', '.\\n')\n",
    "text \n",
    "\n",
    "\n",
    "print('title : ', article.title)\n",
    "print('content : ------------')\n",
    "print(text)\n",
    "print('date : ', article.publish_date)\n",
    "\n",
    "print('active nlp -----------')\n",
    "article.nlp()\n",
    "print('keywords : ', article.keywords)\n",
    "print('len keywords : ', len(article.keywords))\n",
    "\n",
    "print('sumary : \\n', article.summary)\n",
    "print('url article : ', article.url)\n",
    "\n"
   ]
  },
  {
   "cell_type": "code",
   "execution_count": 8,
   "metadata": {},
   "outputs": [
    {
     "data": {
      "text/plain": "386"
     },
     "execution_count": 8,
     "metadata": {},
     "output_type": "execute_result"
    }
   ],
   "source": [
    "from pyvi import ViTokenizer\n",
    "from collections import Counter\n",
    "\n",
    "tokens = ViTokenizer.tokenize(text)\n",
    "tokens = ViTokenizer.spacy_tokenize(tokens)[0]\n",
    "tokens = list(filter(lambda x: len(x)>1, tokens))\n",
    "# print(tokens)\n",
    "\n",
    "counter_tokens = Counter(tokens)\n",
    "counter_tokens.most_common(5)\n",
    "counter_tokens = dict(counter_tokens)\n",
    "counter_tokens = dict(sorted(counter_tokens.items(), key=lambda x:-x[1]))\n",
    "len(counter_tokens)"
   ]
  }
 ],
 "metadata": {
  "kernelspec": {
   "display_name": "Python 3.8.5 64-bit",
   "metadata": {
    "interpreter": {
     "hash": "31f2aee4e71d21fbe5cf8b01ff0e069b9275f58929596ceb00d14d90e3e16cd6"
    }
   },
   "name": "python3"
  },
  "language_info": {
   "codemirror_mode": {
    "name": "ipython",
    "version": 3
   },
   "file_extension": ".py",
   "mimetype": "text/x-python",
   "name": "python",
   "nbconvert_exporter": "python",
   "pygments_lexer": "ipython3",
   "version": "3.8.5"
  },
  "orig_nbformat": 2
 },
 "nbformat": 4,
 "nbformat_minor": 2
}
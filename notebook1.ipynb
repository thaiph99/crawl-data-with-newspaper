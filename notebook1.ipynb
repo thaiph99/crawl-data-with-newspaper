{
 "cells": [
  {
   "cell_type": "code",
   "execution_count": 1,
   "metadata": {},
   "outputs": [],
   "source": [
    "from newspaperedited import Article\n",
    "import numpy as np  \n",
    "import tokenize\n",
    "import newspaper"
   ]
  },
  {
   "cell_type": "code",
   "execution_count": 5,
   "metadata": {},
   "outputs": [],
   "source": [
    "vnexpress = newspaper.build('https://vnexpress.net/')\n",
    "for article in vnexpress.articles:\n",
    "    print('url : ', article.url)"
   ]
  },
  {
   "cell_type": "code",
   "execution_count": 7,
   "metadata": {},
   "outputs": [
    {
     "name": "stdout",
     "output_type": "stream",
     "text": [
      "https://vnexpress.net/\n",
      "https://vnexpress.net/suc-khoe\n",
      "https://e.vnexpress.net\n",
      "https://vnexpress.net/the-thao\n",
      "https://vnexpress.net/phap-luat\n",
      "https://vnexpress.net/du-lich\n",
      "https://vnexpress.net/the-gioi\n",
      "https://vnexpress.net/so-hoa\n",
      "https://vnexpress.net/tin-tuc-24h\n",
      "https://vnexpress.net/giao-duc\n",
      "https://vnexpress.net\n",
      "https://vnexpress.net/thoi-su\n",
      "https://vnexpress.net/doi-song\n",
      "https://vnexpress.net/kinh-doanh\n",
      "https://vnexpress.net/y-kien\n",
      "https://vnexpress.net/goc-nhin\n",
      "https://vnexpress.net/hai\n",
      "https://vnexpress.net/oto-xe-may\n",
      "https://vnexpress.net/giai-tri\n",
      "https://vnexpress.net/tam-su\n",
      "https://vnexpress.net/khoa-hoc\n",
      "https://video.vnexpress.net\n"
     ]
    }
   ],
   "source": [
    "for category in vnexpress.category_urls():\n",
    "    print(category)"
   ]
  },
  {
   "cell_type": "code",
   "execution_count": null,
   "metadata": {},
   "outputs": [],
   "source": [
    "vnexpress = newspaper.build('https://vnexpress.net/y-kien')\n",
    "for article in vnexpress.articles:\n",
    "    print('url : ', article.url)"
   ]
  }
 ],
 "metadata": {
  "language_info": {
   "name": "python",
   "nbconvert_exporter": "python"
  },
  "orig_nbformat": 2
 },
 "nbformat": 4,
 "nbformat_minor": 2
}
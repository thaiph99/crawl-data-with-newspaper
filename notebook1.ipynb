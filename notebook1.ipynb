{
 "cells": [
  {
   "cell_type": "code",
   "execution_count": 1,
   "metadata": {},
   "outputs": [],
   "source": [
    "from newspaperedited import Article\n",
    "import numpy as np  \n",
    "import newspaper"
   ]
  },
  {
   "cell_type": "markdown",
   "metadata": {},
   "source": [
    "## newspaper"
   ]
  },
  {
   "cell_type": "code",
   "execution_count": 2,
   "metadata": {},
   "outputs": [
    {
     "name": "stdout",
     "output_type": "stream",
     "text": [
      "url :  https://vnexpress.net/hang-quan-hoi-an-e-khach-vi-dau-4256052.html\n",
      "url :  https://vnexpress.net/hang-quan-hoi-an-e-khach-vi-dau-4256052.html#box_comment_vne\n",
      "url :  https://vnexpress.net/diem-luu-tru-cho-gia-dinh-tai-mui-ne-4249811.html\n",
      "url :  https://vnexpress.net/diem-luu-tru-cho-gia-dinh-tai-mui-ne-4249811.html#box_comment_vne\n",
      "url :  https://e.vnexpress.net/news/business/economy/foreign-investors-sell-out-keep-cash-as-they-wait-for-stocks-to-get-cheaper-4256530.html\n",
      "url :  https://e.vnexpress.net/news/business/economy/foreign-investors-sell-out-keep-cash-as-they-wait-for-stocks-to-get-cheaper-4256530.html#box_comment\n"
     ]
    }
   ],
   "source": [
    "vnexpress = newspaper.build('https://vnexpress.net/giai-tri')\n",
    "for article in vnexpress.articles:\n",
    "    print('url : ', article.url)"
   ]
  },
  {
   "cell_type": "code",
   "execution_count": 3,
   "metadata": {},
   "outputs": [
    {
     "name": "stdout",
     "output_type": "stream",
     "text": [
      "https://vnexpress.net/suc-khoe\n",
      "https://vnexpress.net/giai-tri\n",
      "https://vnexpress.net/hai\n",
      "https://vnexpress.net/y-kien\n",
      "https://vnexpress.net/suc-khoe\n",
      "https://vnexpress.net/goc-nhin\n",
      "https://vnexpress.net/thoi-su\n",
      "https://vnexpress.net/giao-duc\n",
      "https://vnexpress.net/du-lich\n",
      "https://vnexpress.net/tin-tuc-24h\n",
      "https://vnexpress.net/suc-khoe-p2\n",
      "https://vnexpress.net/kinh-doanh\n",
      "https://vnexpress.net/doi-song\n",
      "https://video.vnexpress.net\n",
      "https://vnexpress.net/phap-luat\n",
      "https://vnexpress.net/khoa-hoc\n",
      "https://e.vnexpress.net\n",
      "https://vnexpress.net/suc-khoe-p4\n",
      "https://vnexpress.net/the-gioi\n",
      "https://vnexpress.net/so-hoa\n",
      "https://vnexpress.net/suc-khoe-p3\n",
      "https://vnexpress.net/tam-su\n",
      "https://vnexpress.net/oto-xe-may\n",
      "https://vnexpress.net\n",
      "https://vnexpress.net/the-thao\n"
     ]
    }
   ],
   "source": [
    "for category in vnexpress.category_urls():\n",
    "    print(category)"
   ]
  },
  {
   "cell_type": "code",
   "execution_count": 4,
   "metadata": {},
   "outputs": [
    {
     "name": "stdout",
     "output_type": "stream",
     "text": [
      "url :  https://vnexpress.net/quang-dung-ra-dia-than-nhac-trinh-4256565.html\n",
      "url :  https://vnexpress.net/quang-dung-ra-dia-than-nhac-trinh-4256565.html#box_comment_vne\n"
     ]
    }
   ],
   "source": [
    "vnexpress = newspaper.build('https://vnexpress.net/y-kien')\n",
    "for article in vnexpress.articles:\n",
    "    print('url : ', article.url)"
   ]
  },
  {
   "cell_type": "markdown",
   "metadata": {},
   "source": [
    "## beautiful Soup"
   ]
  },
  {
   "cell_type": "code",
   "execution_count": 5,
   "metadata": {},
   "outputs": [],
   "source": [
    "import re  \n",
    "def is_valid(url):\n",
    "    return re.findall(r'\\.[a-z]{3}', url)"
   ]
  },
  {
   "cell_type": "code",
   "execution_count": 6,
   "metadata": {},
   "outputs": [
    {
     "name": "stdout",
     "output_type": "stream",
     "text": [
      "https://e.vnexpress.net/\n",
      "https://video.vnexpress.net\n",
      "https://vnexpress.net/hom-nay-trinh-mien-nhiem-thu-tuong-nguyen-xuan-phuc-4256475.html\n",
      "https://vnexpress.net/hom-nay-trinh-mien-nhiem-thu-tuong-nguyen-xuan-phuc-4256475.html#box_comment_vne\n",
      "https://vnexpress.net/can-bo-benh-vien-tam-than-tiep-tay-cho-benh-nhan-mo-phong-bay-lac-4256516.html\n",
      "https://vnexpress.net/can-bo-benh-vien-tam-than-tiep-tay-cho-benh-nhan-mo-phong-bay-lac-4256516.html#box_comment_vne\n",
      "https://vnexpress.net/hai-phuong-an-duong-sat-toc-do-cao-4255318.html\n",
      "https://vnexpress.net/hai-phuong-an-duong-sat-toc-do-cao-4255318.html#box_comment_vne\n",
      "https://vnexpress.net/lan-dot-bien-4256255.html\n",
      "https://vnexpress.net/tac-gia/nguyen-lan-dung-1203.html\n",
      "https://vnexpress.net/lan-dot-bien-4256255.html#box_comment_vne\n",
      "https://vnexpress.net/hon-70-xe-may-trong-bai-giu-csgt-thu-duc-bi-chay-rui-4256513.html\n",
      "https://vnexpress.net/hon-70-xe-may-trong-bai-giu-csgt-thu-duc-bi-chay-rui-4256513.html#box_comment_vne\n",
      "https://vnexpress.net/quoc-hoi-co-ba-pho-chu-tich-moi-4256215.html\n",
      "https://vnexpress.net/quoc-hoi-co-ba-pho-chu-tich-moi-4256215.html#box_comment_vne\n",
      "https://vnexpress.net/lo-ngai-bong-bong-khi-dong-tien-do-manh-vao-bat-dong-san-4256233.html\n",
      "https://vnexpress.net/lo-ngai-bong-bong-khi-dong-tien-do-manh-vao-bat-dong-san-4256233.html#box_comment_vne\n",
      "https://vnexpress.net/chien-ham-canada-di-qua-bien-dong-4256471.html\n",
      "https://vnexpress.net/chien-ham-canada-di-qua-bien-dong-4256471.html#box_comment_vne\n",
      "https://vnexpress.net/ngay-dau-xa-lo-ha-noi-thu-phi-4256431.html\n",
      "https://vnexpress.net/ngay-dau-xa-lo-ha-noi-thu-phi-4256431.html#box_comment_vne\n",
      "https://vnexpress.net/vn-index-vuot-dinh-4256482.html\n",
      "https://vnexpress.net/vn-index-vuot-dinh-4256482.html#box_comment_vne\n",
      "https://vnexpress.net/viet-nam-bat-dau-dam-nhiem-chuc-chu-tich-hoi-dong-bao-an-4256391.html\n",
      "https://vnexpress.net/viet-nam-bat-dau-dam-nhiem-chuc-chu-tich-hoi-dong-bao-an-4256391.html#box_comment_vne\n",
      "https://vnexpress.net/benh-nhan-lap-phong-bay-lac-tung-tron-vien-4256261.html\n",
      "https://vnexpress.net/benh-nhan-lap-phong-bay-lac-tung-tron-vien-4256261.html#box_comment_vne\n",
      "https://vnexpress.net/doanh-nghiep-viet-thiet-hai-ra-sao-sau-su-co-ever-given-4256264.html\n",
      "https://vnexpress.net/doanh-nghiep-viet-thiet-hai-ra-sao-sau-su-co-ever-given-4256264.html#box_comment_vne\n",
      "https://vnexpress.net/lo-dien-vf-e35-oto-dien-thu-hai-cua-vinfast-4256376.html\n",
      "https://vnexpress.net/lo-dien-vf-e35-oto-dien-thu-hai-cua-vinfast-4256376.html#box_comment_vne\n",
      "https://vnexpress.net/chinh-sach-co-hieu-luc-tu-thang-4-4255979.html\n",
      "https://vnexpress.net/chinh-sach-co-hieu-luc-tu-thang-4-4255979.html#box_comment_vne\n",
      "https://vnexpress.net/no-luc-chay-dua-voi-sieu-mat-trang-giai-cuu-tau-tren-kenh-suez-4255272.html\n",
      "https://vnexpress.net/no-luc-chay-dua-voi-sieu-mat-trang-giai-cuu-tau-tren-kenh-suez-4255272.html#box_comment_vne\n",
      "https://vnexpress.net/bo-gd-amp-dt-cong-bo-de-tham-khao-thi-tot-nghiep-thpt-4256272.html\n",
      "https://vnexpress.net/bo-gd-amp-dt-cong-bo-de-tham-khao-thi-tot-nghiep-thpt-4256272.html#box_comment_vne\n",
      "https://vnexpress.net/trung-quoc-moi-loat-ngoai-truong-chau-a-toi-hoi-dam-4256381.html\n",
      "https://vnexpress.net/trung-quoc-moi-loat-ngoai-truong-chau-a-toi-hoi-dam-4256381.html#box_comment_vne\n",
      "https://vnexpress.net/3-du-an-chong-ngap-san-bay-tan-son-nhat-4256274.html\n",
      "https://vnexpress.net/3-du-an-chong-ngap-san-bay-tan-son-nhat-4256274.html#box_comment_vne\n",
      "https://vnexpress.net/em-gai-nho-lan-noi-chuyen-cuoi-voi-trinh-cong-son-4255706.html\n",
      "https://vnexpress.net/em-gai-nho-lan-noi-chuyen-cuoi-voi-trinh-cong-son-4255706.html#box_comment_vne\n",
      "https://vnexpress.net/pagani-huayra-sieu-pham-trieu-usd-doc-nhat-viet-nam-4256084.html\n",
      "https://vnexpress.net/pagani-huayra-sieu-pham-trieu-usd-doc-nhat-viet-nam-4256084.html#box_comment_vne\n",
      "https://vnexpress.net/hon-129-trieu-ca-covid-19-toan-cau-who-noi-vaccine-trung-quoc-an-toan-4256292.html\n",
      "https://vnexpress.net/hon-129-trieu-ca-covid-19-toan-cau-who-noi-vaccine-trung-quoc-an-toan-4256292.html#box_comment_vne\n",
      "https://vnexpress.net/gia-vang-dao-chieu-tang-vot-4256298.html\n",
      "https://vnexpress.net/gia-vang-dao-chieu-tang-vot-4256298.html#box_comment_vne\n",
      "https://vnexpress.net/viet-nam-du-kien-vay-2-ty-usd-phat-trien-dong-bang-song-cuu-long-4256241.html\n",
      "https://vnexpress.net/viet-nam-du-kien-vay-2-ty-usd-phat-trien-dong-bang-song-cuu-long-4256241.html#box_comment_vne\n"
     ]
    }
   ],
   "source": [
    "from bs4 import BeautifulSoup\n",
    "import requests\n",
    "\n",
    "url_home = 'https://vnexpress.net/'\n",
    "\n",
    "respone = requests.get(url_home)\n",
    "soup = BeautifulSoup(respone.text, 'html.parser')\n",
    "\n",
    "dict_url = {}\n",
    "for a in soup.find_all('a', href=True):\n",
    "    url = a['href']\n",
    "    if url not in dict_url.keys() and is_valid(url):\n",
    "        dict_url[url] = 1\n",
    "\n",
    "print(*dict_url.keys(), sep='\\n')\n"
   ]
  },
  {
   "cell_type": "code",
   "execution_count": 7,
   "metadata": {},
   "outputs": [
    {
     "name": "stdout",
     "output_type": "stream",
     "text": [
      "title :  Khách cùng chuyến bay 'bệnh nhân 17' tỏa đi 10 tỉnh, thành\n",
      "content : ------------\n",
      "Hà Nội, TP HCM, Quảng Ninh, Quảng Bình, Thừa Thiên Huế... cách ly hàng trăm người cùng chuyến bay hoặc tiếp xúc gần \"bệnh nhân 17\"..\n",
      ".\n",
      "\"Bệnh nhân 17\" Nguyễn Hồng Nhung, 26 tuổi, đáp chuyến bay VN54 từ Anh về Nội Bài lúc 4h30 sáng 2/3. Chuyến bay chở 217 người, trong đó có 21 khách hạng thương gia, 180 khách hạng phổ thông, tổ bay và tiếp viên 16 người..\n",
      ".\n",
      "UBND TP Hà Nội cho biết mới xác minh nơi đến của 155 khách phổ thông, 21 khách thương gia. Trong đó, 60 người lưu trú tại Hà Nội, gồm quận Hoàn Kiếm 47 người; Đống Đa 9 người; Hai Bà Trưng 2 người; Ba Đình và Cầu Giấy mỗi quận một người. 42 trong số 60 người này đã tiếp tục đi những tỉnh khác..\n",
      ".\n",
      "Khu phố nhà bệnh nhân nhiễm nCoV thứ 21 ở Hà Nội bị cách ly sáng 8/3. Ảnh: Hoàng Phương.\n",
      ".\n",
      "Sở Y tế Hà Nội đã cách ly 20 người ở Bệnh viện Hồng Ngọc do tiếp xúc gần Hồng Nhung. Trong đó 19 người âm tính nCoV, một mẫu đang đợi kết quả..\n",
      ".\n",
      "\"Bệnh nhân 21\" được công bố sáng 8/3 cũng ngồi khoang VIP với Hồng Nhung. Ông công tác tại Viện Hàn lâm Khoa học Xã hội Việt Nam..\n",
      ".\n",
      "Trả lời VnExpress, ông cho biết đã chủ động báo Bộ Y tế khi hay tin về \"bệnh nhân 17\". Sáng 7/3, ông được Trung tâm kiểm soát bệnh tật Hà Nội lấy mẫu xét nghiệm, hiện cách ly và điều trị tại Bệnh viện nhiệt đới trung ương. \"Sức khỏe tôi vẫn bình thường\", ông nói..\n",
      ".\n",
      "Tại TP HCM, 20 người cùng chuyến bay VN54 đã được cách ly. Kết quả xét nghiệm công bố 10h sáng nay thể hiện 13 người âm tính, 7 người chờ kết quả..\n",
      ".\n",
      "Ngoài ra, có 5 hành khách người nước ngoài khác cũng đi chuyến bay này (trong đó có một người ngồi ghế 3K - chung khoang với \"bệnh nhân 17\", sau đó từ Nội Bài vào TP HCM sáng 2/3. Nhóm khách này đã lên tàu Viking Cruise đi du lịch Campuchia từ ngày 4/3. Hiện, người ngồi ghế 3K bị cách ly trên tàu Viking Cruise, không được lên bờ ở Campuchia, sức khoẻ bình thường..\n",
      ".\n",
      "Quảng Ninh xác định được 52 du khách (48 người nước ngoài, 4 người Việt) đi trên chuyến VN54. Trong đó, 39 người nước ngoài đã rời thành phố Hạ Long trước sáng 7/3. Trong số người còn lại, 5 người đã lên tàu tham quan vịnh Hạ Long..\n",
      ".\n",
      "Đến 8/3, cơ quan y tế đã cách ly 13 người (4 người Việt, 9 người nước ngoài) tại các cơ sở y tế ở Cẩm Phả, Hạ Long hoặc chuyển tiếp về Hà Nội..\n",
      ".\n",
      "Quảng Bình xác định một chuyên gia hang động người Anh, 29 tuổi, đi cùng chuyến bay với Hồng Nhung, ngồi ghế số 17. Sau khi nhập cảnh Việt Nam, anh này tiếp tục bay vào sân bay Đồng Hới trên chuyến bay của hãng VASCO số hiệu OV8593 lúc 19h cùng ngày, lưu trú tại Charm's Homestay ở thị trấn Phong Nha (huyện Bố Trạch)..\n",
      ".\n",
      "Ngày 5/3, anh cùng 10 người đi khảo sát hang động ở Vườn quốc gia Phong Nha - Kẻ Bàng. Đoàn thám hiểm dự kiến ra khỏi rừng vào trưa hoặc chiều 8/3. Nhà chức trách cho biết, đoàn thám hiểm khi ra khỏi rừng sẽ phải cách ly và xét nghiệm..\n",
      ".\n",
      "Tại nơi lưu trú, 10 người tiếp xúc gần chuyên gia Anh, hiện tại sức khỏe bình thường. Ngành y tế đã yêu cầu 10 người tự cách ly tại nhà, phun thuốc khử trùng nơi lưu trú và ôtô vận chuyển du khách này từ sân bay Đồng Hới về Phong Nha..\n",
      ".\n",
      "Ban chỉ đạo phòng chống Covid-19 tỉnh Quảng Bình đề nghị Cảng hàng không Đồng Hới cung cấp danh sách và lộ trình của những người trên chuyến bay OV8593 ngày 2/3 từ Nội Bài đến Đồng Hới để theo dõi sức khỏe..\n",
      ".\n",
      "Sáng nay, tỉnh Thừa Thiên Huế cũng đưa hai người nước ngoài từ khách sạn đến Bệnh viện Trung ương Huế cơ sở 2 để cách ly. Hai du khách này ngồi khoang VIP cùng bệnh nhân Nhung..\n",
      ".\n",
      "Hai ngày trước, Thừa Thiên Huế đã yêu cầu 12 du khách cùng chuyến bay với cô Nhung tự cách ly tại khách sạn, đo thân nhiệt hàng ngày. Những nhân viên khách sạn tiếp xúc với 12 người này tự theo dõi sức khỏe..\n",
      ".\n",
      "Mẫu xét nghiệm của 12 hành khách đã được gửi Viện Pasteur và Bệnh viện Trung ương Huế xét nghiệm, hiện chưa có kết quả..\n",
      ".\n",
      "Nhân viên khách sạn nơi hai du khách cách ly đeo khẩu trang. Ảnh: Võ Thạnh.\n",
      ".\n",
      "Tại Hải Phòng, 23 người đi chuyến bay VN54 đã được cách ly tập trung. Người nước ngoài cách ly tại Bệnh viện Việt Tiệp cơ sở 2; người Việt cách ly tại Trung tâm giáo dục quốc phòng thuộc Trường đại học Hải Phòng. Gần một trăm người khác tiếp xúc với những người trên cũng buộc phải cách ly..\n",
      ".\n",
      "Quảng Nam cũng cách ly tại chỗ 40 người nước ngoài liên quan Hồng Nhung, gồm 33 người bay cùng, 7 người đi cùng 33 người từ Hà Nội đến Quảng Nam..\n",
      ".\n",
      "\"Mẫu dịch phẩm đã được gửi đến Viện Pasteur Nha Trang và đang chờ kết quả xét nghiệm\", ông Nguyễn Văn Hai, Giám đốc Sở Y tế Quảng Nam nói..\n",
      ".\n",
      "Khánh Hòa có bốn người quốc tịch Anh đi chung chuyến bay VN54. Sau khi đến Hà Nội, hôm 2/3, họ lên chuyến bay khác tới Khánh Hòa, rồi vào resort ở Cam Ranh, thị xã Ninh Hòa. Họ được cách ly tại chỗ để theo dõi sức khỏe..\n",
      ".\n",
      "Ngoài ra, một bác sĩ ở Hà Nội từng khám cho bệnh nhân Nhung rồi vào Nha Trang thăm người thân, khi hay tin cô gái nhiễm bệnh đã đến Bệnh viện Nhiệt đới Khánh Hòa kiểm tra, cách ly. Hiện, cả 5 người sức khỏe đều ổn định, không có dấu hiệu ho, sốt..\n",
      ".\n",
      "Đà Nẵng, Lào Cai mỗi tỉnh ghi nhận ít nhất 2 du khách nước ngoài cùng chuyến bay với \"bệnh nhân 17\"..\n",
      ".\n",
      "Lịch trình của \"bệnh nhân 17\" Ngày 15/2, Nguyễn Hồng Nhung, 26 tuổi bay từ Nội Bài (Hà Nội) đi London thăm gia đình. Hai ngày sau, cô sang Milan (Italy) 2 ngày; đến 20/2, quay lại Anh, ở đây 2 ngày rồi đến 25/2, đi tàu sang Paris (Pháp). Ngày 26/2, cô gái quay lại London. Trong thời gian ở châu Âu, cô gái tiếp xúc với nhiều người có biểu hiện ho, hắt hơi. Ngày 28/2 tại London (Anh), cô gái xuất hiện triệu chứng ho, không rõ sốt tuy nhiên không đi khám ở đâu chỉ ở tại nhà người thân. Ngày 1/3, ngoài ho, Nhung xuất hiện thêm đau mỏi người, vẫn không rõ sốt. Nhung lên máy bay trở về Việt Nam và hạ cánh xuống Nội Bài lúc 4h30 sáng 2/3, sau đó được lái xe riêng của gia đình đưa về nhà ở phố Trúc Bạch. Ngày 3/3, Nhung xuất hiện sốt, vẫn tiếp tục ho, đau mỏi người. Ngày 4/3 Nhung thấy đỡ hơn nên vẫn ở nhà. Đến 5/3, bệnh nhân sốt cao trở lại và được đưa vào Bệnh viện Bệnh nhiệt đới trung ương khám; xét nghiệm cho kết quả dương tính với nCoV. Nhung trở thành bệnh nhân thứ 17 nhiễm nCoV, sau 23 ngày Việt Nam không ghi nhận ca nhiễm nào..\n",
      ".\n",
      "Tất Định - Hoàng Táo - Viết Tuân - Võ Thạnh - Đắc Thành\n",
      "date :  None\n",
      "active nlp -----------\n",
      "keywords :  ['ly', 'cách', 'tỏa', 'thành', 'nhân', 'nội', 'chuyến', 'đi', 'bay', 'bệnh', 'đã', 'ở', 'khách', 'ngày', 'tỉnh', 'người', 'cùng']\n",
      "len keywords :  17\n",
      "sumary : \n",
      " Hà Nội, TP HCM, Quảng Ninh, Quảng Bình, Thừa Thiên Huế... cách ly hàng trăm người cùng chuyến bay hoặc tiếp xúc gần \"bệnh nhân 17\".\n",
      "Khu phố nhà bệnh nhân nhiễm nCoV thứ 21 ở Hà Nội bị cách ly sáng 8/3.\n",
      "Ảnh: Hoàng PhươngSở Y tế Hà Nội đã cách ly 20 người ở Bệnh viện Hồng Ngọc do tiếp xúc gần Hồng Nhung.\n",
      "Nhân viên khách sạn nơi hai du khách cách ly đeo khẩu trang.\n",
      "Đà Nẵng, Lào Cai mỗi tỉnh ghi nhận ít nhất 2 du khách nước ngoài cùng chuyến bay với \"bệnh nhân 17\".\n",
      "url article :  https://vnexpress.net/khach-cung-chuyen-bay-benh-nhan-17-toa-di-10-tinh-thanh-4065969.html\n"
     ]
    }
   ],
   "source": [
    "\n",
    "# url = 'https://vnexpress.net/hom-nay-trinh-mien-nhiem-thu-tuong-nguyen-xuan-phuc-4256475.html'\n",
    "# url = 'https://vnexpress.net/sang-1-4-khong-ca-nhiem-gan-50-000-nguoi-da-tiem-vaccine-covid-19-4256286.html'\n",
    "url = 'https://vnexpress.net/khach-cung-chuyen-bay-benh-nhan-17-toa-di-10-tinh-thanh-4065969.html'\n",
    "article = Article(url)\n",
    "article.download()\n",
    "article.parse()\n",
    "\n",
    "text = article.text.replace('\\n', '.\\n')\n",
    "text \n",
    "\n",
    "\n",
    "print('title : ', article.title)\n",
    "print('content : ------------')\n",
    "print(text)\n",
    "print('date : ', article.publish_date)\n",
    "\n",
    "print('active nlp -----------')\n",
    "article.nlp()\n",
    "print('keywords : ', article.keywords)\n",
    "print('len keywords : ', len(article.keywords))\n",
    "\n",
    "print('sumary : \\n', article.summary)\n",
    "print('url article : ', article.url)\n",
    "\n"
   ]
  },
  {
   "cell_type": "code",
   "execution_count": 8,
   "metadata": {},
   "outputs": [
    {
     "data": {
      "text/plain": "{'người': 45,\n 'cách_ly': 18,\n 'bay': 17,\n 'đã': 14,\n 'chuyến': 13,\n 'tại': 12,\n 'đi': 12,\n 'Hà_Nội': 11,\n 'được': 11,\n 'cùng': 10,\n 'bệnh_nhân': 10,\n 'và': 10,\n 'đến': 9,\n 'với': 9,\n '17': 8,\n 'từ': 8,\n 'nước_ngoài': 8,\n 'ngày': 8,\n 'sáng': 7,\n 'đó': 7,\n 'có': 7,\n 'này': 7,\n 'Bệnh_viện': 7,\n 'xét_nghiệm': 7,\n 'Ngày': 7,\n 'Nhung': 7,\n 'tiếp_xúc': 6,\n 'Anh': 6,\n 'về': 6,\n 'của': 6,\n 'một': 6,\n 'vào': 6,\n 'không': 6,\n 'du_khách': 6,\n 'cô': 6,\n 'VN54': 5,\n 'khách': 5,\n 'cho': 5,\n 'Trong': 5,\n 'Hai': 5,\n 'nhà': 5,\n 'kết_quả': 5,\n 'cũng': 5,\n 'ngồi': 5,\n 'khi': 5,\n 'lên': 5,\n 'trên': 5,\n 'sức_khỏe': 5,\n 'sốt': 5,\n 'TP': 4,\n '21': 4,\n 'nơi': 4,\n 'lưu_trú': 4,\n 'tỉnh': 4,\n 'khác': 4,\n 'nCoV': 4,\n 'Hồng_Nhung': 4,\n 'Việt_Nam': 4,\n 'ông': 4,\n 'vẫn': 4,\n 'sau': 4,\n 'tàu': 4,\n 'Đồng_Hới': 4,\n 'khách_sạn': 4,\n 'gái': 4,\n 'ho': 4,\n 'HCM': 3,\n 'Quảng_Bình': 3,\n 'Thừa_Thiên_Huế': 3,\n 'hoặc': 3,\n 'gần': 3,\n '26': 3,\n 'tuổi': 3,\n 'Nội': 3,\n 'Bài': 3,\n 'lúc': 3,\n 'trong': 3,\n 'biết': 3,\n 'số': 3,\n 'tiếp_tục': 3,\n 'những': 3,\n 'nhiễm': 3,\n 'Y_tế': 3,\n '20': 3,\n 'khoang': 3,\n 'bình_thường': 3,\n 'Tại': 3,\n 'ghế': 3,\n 'Hạ_Long': 3,\n 'lại': 3,\n 'y_tế': 3,\n 'cơ_sở': 3,\n 'Phong_Nha': 3,\n '10': 3,\n 'để': 3,\n 'theo_dõi': 3,\n 'đưa': 3,\n '12': 3,\n 'Quảng_Nam': 3,\n 'rồi': 3,\n 'khám': 3,\n 'London': 3,\n 'xuất_hiện': 3,\n 'Quảng_Ninh': 2,\n 'hàng': 2,\n 'trăm': 2,\n 'Bệnh_nhân': 2,\n 'Nguyễn_Hồng_Nhung': 2,\n '4h30': 2,\n 'hạng': 2,\n 'thương_gia': 2,\n 'phổ_thông': 2,\n '60': 2,\n 'gồm': 2,\n 'quận': 2,\n 'mỗi': 2,\n 'thứ': 2,\n 'bị': 2,\n 'Ảnh': 2,\n 'Sở': 2,\n '19': 2,\n 'âm_tính': 2,\n 'mẫu': 2,\n 'đang': 2,\n 'công_bố': 2,\n 'VIP': 2,\n 'Viện': 2,\n 'hay': 2,\n 'tin': 2,\n 'Sáng': 2,\n 'Trung_tâm': 2,\n 'hiện': 2,\n 'nhiệt_đới': 2,\n 'trung_ương': 2,\n 'nói': 2,\n 'nay': 2,\n '13': 2,\n 'chờ': 2,\n 'Ngoài_ra': 2,\n 'hành_khách': 2,\n '3K': 2,\n 'chung': 2,\n 'Campuchia': 2,\n 'Hiện': 2,\n 'xác_định': 2,\n 'Việt': 2,\n 'Đến': 2,\n 'chuyên_gia': 2,\n 'hang': 2,\n 'động': 2,\n 'Sau': 2,\n 'anh': 2,\n 'sân_bay': 2,\n 'OV8593': 2,\n 'thám_hiểm': 2,\n 'ra': 2,\n 'khỏi': 2,\n 'rừng': 2,\n 'phải': 2,\n 'yêu_cầu': 2,\n 'tự': 2,\n 'Nội_Bài': 2,\n 'hai': 2,\n 'Trung_ương': 2,\n 'Huế': 2,\n 'Mẫu': 2,\n 'gửi': 2,\n 'Võ_Thạnh': 2,\n 'Hải_Phòng': 2,\n '23': 2,\n '33': 2,\n 'Khánh_Hòa': 2,\n 'thăm': 2,\n 'người_thân': 2,\n 'ghi_nhận': 2,\n 'gia_đình': 2,\n 'sang': 2,\n 'quay': 2,\n 'rõ': 2,\n 'đau': 2,\n 'mỏi': 2,\n '...': 1,\n 'đáp': 1,\n 'Chuyến': 1,\n 'chở': 1,\n '217': 1,\n '180': 1,\n 'tổ': 1,\n 'tiếp_viên': 1,\n '16': 1,\n 'UBND': 1,\n 'mới': 1,\n 'xác_minh': 1,\n '155': 1,\n 'Hoàn_Kiếm': 1,\n '47': 1,\n 'Đống_Đa': 1,\n 'Bà': 1,\n 'Trưng': 1,\n 'Ba_Đình': 1,\n 'Cầu': 1,\n 'Giấy': 1,\n '42': 1,\n 'Khu_phố': 1,\n 'Hoàng_Phương': 1,\n 'Hồng_Ngọc': 1,\n 'do': 1,\n 'đợi': 1,\n 'Ông': 1,\n 'công_tác': 1,\n 'Hàn_lâm': 1,\n 'Khoa_học': 1,\n 'Xã_hội': 1,\n 'Trả_lời': 1,\n 'VnExpress': 1,\n 'chủ_động': 1,\n 'báo': 1,\n 'Bộ': 1,\n 'kiểm_soát': 1,\n 'bệnh_tật': 1,\n 'lấy': 1,\n 'điều_trị': 1,\n 'Sức_khỏe': 1,\n 'tôi': 1,\n 'Kết_quả': 1,\n '10h': 1,\n 'thể_hiện': 1,\n 'Nhóm': 1,\n 'Viking': 1,\n 'Cruise': 1,\n 'du_lịch': 1,\n 'Viking_Cruise': 1,\n 'bờ': 1,\n 'sức_khoẻ': 1,\n '52': 1,\n '48': 1,\n '39': 1,\n 'rời': 1,\n 'thành_phố': 1,\n 'trước': 1,\n 'còn': 1,\n 'tham_quan': 1,\n 'vịnh': 1,\n 'cơ_quan': 1,\n 'các': 1,\n 'Cẩm_Phả': 1,\n 'chuyển_tiếp': 1,\n '29': 1,\n 'nhập_cảnh': 1,\n 'hãng': 1,\n 'VASCO': 1,\n 'số_hiệu': 1,\n '19h': 1,\n 'Charm': 1,\n 'Homestay': 1,\n 'thị_trấn': 1,\n 'huyện': 1,\n 'Bố_Trạch': 1,\n 'khảo_sát': 1,\n 'Vườn': 1,\n 'quốc_gia': 1,\n 'Kẻ_Bàng': 1,\n 'Đoàn': 1,\n 'dự_kiến': 1,\n 'trưa': 1,\n 'chiều': 1,\n 'Nhà_chức_trách': 1,\n 'đoàn': 1,\n 'sẽ': 1,\n 'hiện_tại': 1,\n 'Ngành': 1,\n 'phun': 1,\n 'thuốc': 1,\n 'khử_trùng': 1,\n 'ôtô': 1,\n 'vận_chuyển': 1,\n 'Ban': 1,\n 'chỉ_đạo': 1,\n 'phòng_chống': 1,\n 'Covid': 1,\n 'đề_nghị': 1,\n 'Cảng': 1,\n 'hàng_không': 1,\n 'cung_cấp': 1,\n 'danh_sách': 1,\n 'lộ_trình': 1,\n 'ngày_trước': 1,\n 'Nhung_tự': 1,\n 'đo': 1,\n 'thân_nhiệt': 1,\n 'Những': 1,\n 'nhân_viên': 1,\n 'Pasteur': 1,\n 'chưa': 1,\n 'Nhân_viên': 1,\n 'đeo': 1,\n 'khẩu_trang': 1,\n 'tập_trung': 1,\n 'Người': 1,\n 'Việt_Tiệp': 1,\n 'Việt_cách_ly': 1,\n 'giáo_dục': 1,\n 'quốc_phòng': 1,\n 'thuộc': 1,\n 'Trường': 1,\n 'đại_học': 1,\n 'Gần': 1,\n 'buộc': 1,\n 'chỗ': 1,\n '40': 1,\n 'liên_quan': 1,\n 'dịch': 1,\n 'phẩm': 1,\n 'Viện_Pasteur_Nha_Trang': 1,\n 'Nguyễn_Văn': 1,\n 'Giám_đốc': 1,\n 'bốn': 1,\n 'quốc_tịch': 1,\n 'hôm': 1,\n 'họ': 1,\n 'tới': 1,\n 'resort': 1,\n 'Cam_Ranh': 1,\n 'thị_xã': 1,\n 'Ninh_Hòa': 1,\n 'Họ': 1,\n 'tại_chỗ': 1,\n 'bác_sĩ': 1,\n 'từng': 1,\n 'Nha_Trang': 1,\n 'nhiễm_bệnh': 1,\n 'Nhiệt_đới': 1,\n 'Khánh_Hòa_kiểm_tra': 1,\n 'cả': 1,\n 'đều': 1,\n 'ổn_định': 1,\n 'dấu_hiệu': 1,\n 'Đà_Nẵng': 1,\n 'Lào_Cai': 1,\n 'ít_nhất': 1,\n 'Lịch_trình': 1,\n '15': 1,\n 'Milan': 1,\n 'Italy': 1,\n 'đây': 1,\n '25': 1,\n 'Paris': 1,\n 'Pháp': 1,\n 'thời_gian': 1,\n 'châu': 1,\n 'Âu': 1,\n 'nhiều': 1,\n 'biểu_hiện': 1,\n 'hắt_hơi': 1,\n '28': 1,\n 'triệu_chứng_ho': 1,\n 'tuy_nhiên': 1,\n 'đâu': 1,\n 'chỉ': 1,\n 'ngoài': 1,\n 'thêm': 1,\n 'máy_bay': 1,\n 'trở': 1,\n 'hạ_cánh': 1,\n 'xuống': 1,\n 'lái_xe': 1,\n 'riêng': 1,\n 'phố': 1,\n 'Trúc': 1,\n 'Bạch': 1,\n 'thấy': 1,\n 'đỡ': 1,\n 'hơn': 1,\n 'nên': 1,\n 'cao': 1,\n 'trở_lại': 1,\n 'Bệnh': 1,\n 'dương_tính': 1,\n 'trở_thành': 1,\n 'ca': 1,\n 'nào': 1,\n 'Tất_Định': 1,\n 'Hoàng_Táo': 1,\n 'Viết': 1,\n 'Tuân': 1,\n 'Đắc_Thành': 1}"
     },
     "execution_count": 8,
     "metadata": {},
     "output_type": "execute_result"
    }
   ],
   "source": [
    "from pyvi import ViTokenizer\n",
    "from collections import Counter\n",
    "\n",
    "tokens = ViTokenizer.tokenize(text)\n",
    "tokens = ViTokenizer.spacy_tokenize(tokens)[0]\n",
    "tokens = list(filter(lambda x: len(x)>1, tokens))\n",
    "# print(tokens)\n",
    "\n",
    "counter_tokens = Counter(tokens)\n",
    "\n",
    "counter_tokens = dict(counter_tokens)\n",
    "counter_tokens = dict(sorted(counter_tokens.items(), key=lambda x:-x[1]))\n",
    "counter_tokens"
   ]
  },
  {
   "cell_type": "code",
   "execution_count": 9,
   "metadata": {},
   "outputs": [],
   "source": [
    "def split_sentences(text):\n",
    "    import nltk.data\n",
    "    tokenizer = nltk.data.load('tokenizers/punkt/english.pickle')\n",
    "\n",
    "    sentences = tokenizer.tokenize(text)\n",
    "    sentences = [x.replace('\\n', '') for x in sentences if len(x) > 10]\n",
    "    return sentences\n",
    "\n"
   ]
  },
  {
   "cell_type": "code",
   "execution_count": 10,
   "metadata": {},
   "outputs": [
    {
     "name": "stdout",
     "output_type": "stream",
     "text": [
      "Hà Nội, TP HCM, Quảng Ninh, Quảng Bình, Thừa Thiên Huế... cách ly hàng trăm người cùng chuyến bay hoặc tiếp xúc gần \"bệnh nhân 17\"...\n",
      "\"Bệnh nhân 17\" Nguyễn Hồng Nhung, 26 tuổi, đáp chuyến bay VN54 từ Anh về Nội Bài lúc 4h30 sáng 2/3.\n",
      "Chuyến bay chở 217 người, trong đó có 21 khách hạng thương gia, 180 khách hạng phổ thông, tổ bay và tiếp viên 16 người...\n",
      "UBND TP Hà Nội cho biết mới xác minh nơi đến của 155 khách phổ thông, 21 khách thương gia.\n",
      "Trong đó, 60 người lưu trú tại Hà Nội, gồm quận Hoàn Kiếm 47 người; Đống Đa 9 người; Hai Bà Trưng 2 người; Ba Đình và Cầu Giấy mỗi quận một người.\n",
      "42 trong số 60 người này đã tiếp tục đi những tỉnh khác...\n",
      "Khu phố nhà bệnh nhân nhiễm nCoV thứ 21 ở Hà Nội bị cách ly sáng 8/3.\n",
      "Ảnh: Hoàng Phương.\n",
      "Sở Y tế Hà Nội đã cách ly 20 người ở Bệnh viện Hồng Ngọc do tiếp xúc gần Hồng Nhung.\n",
      "Trong đó 19 người âm tính nCoV, một mẫu đang đợi kết quả...\n",
      "\"Bệnh nhân 21\" được công bố sáng 8/3 cũng ngồi khoang VIP với Hồng Nhung.\n",
      "Ông công tác tại Viện Hàn lâm Khoa học Xã hội Việt Nam...\n",
      "Trả lời VnExpress, ông cho biết đã chủ động báo Bộ Y tế khi hay tin về \"bệnh nhân 17\".\n",
      "Sáng 7/3, ông được Trung tâm kiểm soát bệnh tật Hà Nội lấy mẫu xét nghiệm, hiện cách ly và điều trị tại Bệnh viện nhiệt đới trung ương.\n",
      "\"Sức khỏe tôi vẫn bình thường\", ông nói...\n",
      "Tại TP HCM, 20 người cùng chuyến bay VN54 đã được cách ly.\n",
      "Kết quả xét nghiệm công bố 10h sáng nay thể hiện 13 người âm tính, 7 người chờ kết quả...\n",
      "Ngoài ra, có 5 hành khách người nước ngoài khác cũng đi chuyến bay này (trong đó có một người ngồi ghế 3K - chung khoang với \"bệnh nhân 17\", sau đó từ Nội Bài vào TP HCM sáng 2/3.\n",
      "Nhóm khách này đã lên tàu Viking Cruise đi du lịch Campuchia từ ngày 4/3.\n",
      "Hiện, người ngồi ghế 3K bị cách ly trên tàu Viking Cruise, không được lên bờ ở Campuchia, sức khoẻ bình thường...\n",
      "Quảng Ninh xác định được 52 du khách (48 người nước ngoài, 4 người Việt) đi trên chuyến VN54.\n",
      "Trong đó, 39 người nước ngoài đã rời thành phố Hạ Long trước sáng 7/3.\n",
      "Trong số người còn lại, 5 người đã lên tàu tham quan vịnh Hạ Long...\n",
      "Đến 8/3, cơ quan y tế đã cách ly 13 người (4 người Việt, 9 người nước ngoài) tại các cơ sở y tế ở Cẩm Phả, Hạ Long hoặc chuyển tiếp về Hà Nội...\n",
      "Quảng Bình xác định một chuyên gia hang động người Anh, 29 tuổi, đi cùng chuyến bay với Hồng Nhung, ngồi ghế số 17.\n",
      "Sau khi nhập cảnh Việt Nam, anh này tiếp tục bay vào sân bay Đồng Hới trên chuyến bay của hãng VASCO số hiệu OV8593 lúc 19h cùng ngày, lưu trú tại Charm's Homestay ở thị trấn Phong Nha (huyện Bố Trạch)...\n",
      "Ngày 5/3, anh cùng 10 người đi khảo sát hang động ở Vườn quốc gia Phong Nha - Kẻ Bàng.\n",
      "Đoàn thám hiểm dự kiến ra khỏi rừng vào trưa hoặc chiều 8/3.\n",
      "Nhà chức trách cho biết, đoàn thám hiểm khi ra khỏi rừng sẽ phải cách ly và xét nghiệm...\n",
      "Tại nơi lưu trú, 10 người tiếp xúc gần chuyên gia Anh, hiện tại sức khỏe bình thường.\n",
      "Ngành y tế đã yêu cầu 10 người tự cách ly tại nhà, phun thuốc khử trùng nơi lưu trú và ôtô vận chuyển du khách này từ sân bay Đồng Hới về Phong Nha...\n",
      "Ban chỉ đạo phòng chống Covid-19 tỉnh Quảng Bình đề nghị Cảng hàng không Đồng Hới cung cấp danh sách và lộ trình của những người trên chuyến bay OV8593 ngày 2/3 từ Nội Bài đến Đồng Hới để theo dõi sức khỏe...\n",
      "Sáng nay, tỉnh Thừa Thiên Huế cũng đưa hai người nước ngoài từ khách sạn đến Bệnh viện Trung ương Huế cơ sở 2 để cách ly.\n",
      "Hai du khách này ngồi khoang VIP cùng bệnh nhân Nhung...\n",
      "Hai ngày trước, Thừa Thiên Huế đã yêu cầu 12 du khách cùng chuyến bay với cô Nhung tự cách ly tại khách sạn, đo thân nhiệt hàng ngày.\n",
      "Những nhân viên khách sạn tiếp xúc với 12 người này tự theo dõi sức khỏe...\n",
      "Mẫu xét nghiệm của 12 hành khách đã được gửi Viện Pasteur và Bệnh viện Trung ương Huế xét nghiệm, hiện chưa có kết quả...\n",
      "Nhân viên khách sạn nơi hai du khách cách ly đeo khẩu trang.\n",
      "Ảnh: Võ Thạnh.\n",
      "Tại Hải Phòng, 23 người đi chuyến bay VN54 đã được cách ly tập trung.\n",
      "Người nước ngoài cách ly tại Bệnh viện Việt Tiệp cơ sở 2; người Việt cách ly tại Trung tâm giáo dục quốc phòng thuộc Trường đại học Hải Phòng.\n",
      "Gần một trăm người khác tiếp xúc với những người trên cũng buộc phải cách ly...\n",
      "Quảng Nam cũng cách ly tại chỗ 40 người nước ngoài liên quan Hồng Nhung, gồm 33 người bay cùng, 7 người đi cùng 33 người từ Hà Nội đến Quảng Nam...\n",
      "\"Mẫu dịch phẩm đã được gửi đến Viện Pasteur Nha Trang và đang chờ kết quả xét nghiệm\", ông Nguyễn Văn Hai, Giám đốc Sở Y tế Quảng Nam nói...\n",
      "Khánh Hòa có bốn người quốc tịch Anh đi chung chuyến bay VN54.\n",
      "Sau khi đến Hà Nội, hôm 2/3, họ lên chuyến bay khác tới Khánh Hòa, rồi vào resort ở Cam Ranh, thị xã Ninh Hòa.\n",
      "Họ được cách ly tại chỗ để theo dõi sức khỏe...\n",
      "Ngoài ra, một bác sĩ ở Hà Nội từng khám cho bệnh nhân Nhung rồi vào Nha Trang thăm người thân, khi hay tin cô gái nhiễm bệnh đã đến Bệnh viện Nhiệt đới Khánh Hòa kiểm tra, cách ly.\n",
      "Hiện, cả 5 người sức khỏe đều ổn định, không có dấu hiệu ho, sốt...\n",
      "Đà Nẵng, Lào Cai mỗi tỉnh ghi nhận ít nhất 2 du khách nước ngoài cùng chuyến bay với \"bệnh nhân 17\"...\n",
      "Lịch trình của \"bệnh nhân 17\" Ngày 15/2, Nguyễn Hồng Nhung, 26 tuổi bay từ Nội Bài (Hà Nội) đi London thăm gia đình.\n",
      "Hai ngày sau, cô sang Milan (Italy) 2 ngày; đến 20/2, quay lại Anh, ở đây 2 ngày rồi đến 25/2, đi tàu sang Paris (Pháp).\n",
      "Ngày 26/2, cô gái quay lại London.\n",
      "Trong thời gian ở châu Âu, cô gái tiếp xúc với nhiều người có biểu hiện ho, hắt hơi.\n",
      "Ngày 28/2 tại London (Anh), cô gái xuất hiện triệu chứng ho, không rõ sốt tuy nhiên không đi khám ở đâu chỉ ở tại nhà người thân.\n",
      "Ngày 1/3, ngoài ho, Nhung xuất hiện thêm đau mỏi người, vẫn không rõ sốt.\n",
      "Nhung lên máy bay trở về Việt Nam và hạ cánh xuống Nội Bài lúc 4h30 sáng 2/3, sau đó được lái xe riêng của gia đình đưa về nhà ở phố Trúc Bạch.\n",
      "Ngày 3/3, Nhung xuất hiện sốt, vẫn tiếp tục ho, đau mỏi người.\n",
      "Ngày 4/3 Nhung thấy đỡ hơn nên vẫn ở nhà.\n",
      "Đến 5/3, bệnh nhân sốt cao trở lại và được đưa vào Bệnh viện Bệnh nhiệt đới trung ương khám; xét nghiệm cho kết quả dương tính với nCoV.\n",
      "Nhung trở thành bệnh nhân thứ 17 nhiễm nCoV, sau 23 ngày Việt Nam không ghi nhận ca nhiễm nào...\n",
      "Tất Định - Hoàng Táo - Viết Tuân - Võ Thạnh - Đắc Thành\n"
     ]
    },
    {
     "data": {
      "text/plain": "'Hà Nội, TP HCM, Quảng Ninh, Quảng Bình, Thừa Thiên Huế cách ly hàng trăm người cùng chuyến bay hoặc tiếp xúc gần \"bệnh nhân 17\"'"
     },
     "execution_count": 10,
     "metadata": {},
     "output_type": "execute_result"
    }
   ],
   "source": [
    "\n",
    "text_splited = split_sentences(text)\n",
    "print(*text_splited, sep='\\n')\n",
    "# nomarlize text\n",
    "\n",
    "test_text = text_splited[0]\n",
    "test_text = test_text.replace('.', '')\n",
    "test_text\n"
   ]
  },
  {
   "cell_type": "markdown",
   "metadata": {},
   "source": [
    "## crawl vnexpress"
   ]
  },
  {
   "cell_type": "code",
   "execution_count": null,
   "metadata": {},
   "outputs": [],
   "source": []
  }
 ],
 "metadata": {
  "kernelspec": {
   "display_name": "Python 3.8.5 64-bit",
   "name": "python385jvsc74a57bd031f2aee4e71d21fbe5cf8b01ff0e069b9275f58929596ceb00d14d90e3e16cd6"
  },
  "language_info": {
   "name": "python",
   "version": ""
  },
  "metadata": {
   "interpreter": {
    "hash": "31f2aee4e71d21fbe5cf8b01ff0e069b9275f58929596ceb00d14d90e3e16cd6"
   }
  },
  "orig_nbformat": 2
 },
 "nbformat": 4,
 "nbformat_minor": 2
}
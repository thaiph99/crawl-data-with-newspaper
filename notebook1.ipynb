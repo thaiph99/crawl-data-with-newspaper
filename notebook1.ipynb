{
 "cells": [
  {
   "cell_type": "code",
   "execution_count": 1,
   "metadata": {},
   "outputs": [],
   "source": [
    "from newspaperedited import Article\n",
    "import numpy as np  \n",
    "import newspaper"
   ]
  },
  {
   "cell_type": "markdown",
   "metadata": {},
   "source": [
    "## test"
   ]
  },
  {
   "cell_type": "code",
   "execution_count": 2,
   "metadata": {},
   "outputs": [
    {
     "name": "stdout",
     "output_type": "stream",
     "text": [
      "url :  https://vnexpress.net/811-200-lieu-vaccine-covid-19-dau-tien-tu-covax-ve-viet-nam-4256487.html\n",
      "url :  https://vnexpress.net/811-200-lieu-vaccine-covid-19-dau-tien-tu-covax-ve-viet-nam-4256487.html#box_comment_vne\n",
      "url :  https://vnexpress.net/gui-cha-me-vao-dau-4246569.html\n",
      "url :  https://vnexpress.net/xe-un-u-ngay-dau-xa-lo-ha-noi-thu-phi-4256431.html\n",
      "url :  https://vnexpress.net/xe-un-u-ngay-dau-xa-lo-ha-noi-thu-phi-4256431.html#box_comment_vne\n",
      "url :  https://vnexpress.net/thanh-pho-thong-minh-rong-700-000-m2-tai-nhat-ban-4256315.html\n",
      "url :  https://vnexpress.net/chien-ham-canada-ap-sat-truong-sa-4256471.html\n",
      "url :  https://vnexpress.net/tau-starship-sn11-cua-spacex-phat-no-khi-ha-canh-4255788.html#box_comment_vne\n",
      "url :  https://vnexpress.net/chien-ham-canada-ap-sat-truong-sa-4256471.html#box_comment_vne\n"
     ]
    }
   ],
   "source": [
    "vnexpress = newspaper.build('https://vnexpress.net/giai-tri')\n",
    "for article in vnexpress.articles:\n",
    "    print('url : ', article.url)"
   ]
  },
  {
   "cell_type": "code",
   "execution_count": 3,
   "metadata": {},
   "outputs": [
    {
     "name": "stdout",
     "output_type": "stream",
     "text": [
      "https://vnexpress.net/suc-khoe\n",
      "https://vnexpress.net/giai-tri\n",
      "https://vnexpress.net/hai\n",
      "https://vnexpress.net/y-kien\n",
      "https://vnexpress.net/suc-khoe\n",
      "https://vnexpress.net/goc-nhin\n",
      "https://vnexpress.net/thoi-su\n",
      "https://vnexpress.net/giao-duc\n",
      "https://vnexpress.net/du-lich\n",
      "https://vnexpress.net/tin-tuc-24h\n",
      "https://vnexpress.net/suc-khoe-p2\n",
      "https://vnexpress.net/kinh-doanh\n",
      "https://vnexpress.net/doi-song\n",
      "https://video.vnexpress.net\n",
      "https://vnexpress.net/phap-luat\n",
      "https://vnexpress.net/khoa-hoc\n",
      "https://e.vnexpress.net\n",
      "https://vnexpress.net/suc-khoe-p4\n",
      "https://vnexpress.net/the-gioi\n",
      "https://vnexpress.net/so-hoa\n",
      "https://vnexpress.net/suc-khoe-p3\n",
      "https://vnexpress.net/tam-su\n",
      "https://vnexpress.net/oto-xe-may\n",
      "https://vnexpress.net\n",
      "https://vnexpress.net/the-thao\n"
     ]
    }
   ],
   "source": [
    "for category in vnexpress.category_urls():\n",
    "    print(category)"
   ]
  },
  {
   "cell_type": "code",
   "execution_count": 4,
   "metadata": {},
   "outputs": [],
   "source": [
    "vnexpress = newspaper.build('https://vnexpress.net/y-kien')\n",
    "for article in vnexpress.articles:\n",
    "    print('url : ', article.url)"
   ]
  },
  {
   "cell_type": "markdown",
   "metadata": {},
   "source": [
    "## beautiful Soup"
   ]
  },
  {
   "cell_type": "code",
   "execution_count": 5,
   "metadata": {},
   "outputs": [],
   "source": [
    "import re  \n",
    "def is_valid(url):\n",
    "    return re.findall(r'\\.[a-z]{3}', url)"
   ]
  },
  {
   "cell_type": "code",
   "execution_count": 10,
   "metadata": {},
   "outputs": [
    {
     "name": "stdout",
     "output_type": "stream",
     "text": [
      "https://e.vnexpress.net/\n",
      "https://video.vnexpress.net\n",
      "https://vnexpress.net/hom-nay-trinh-mien-nhiem-thu-tuong-nguyen-xuan-phuc-4256475.html\n",
      "https://vnexpress.net/hom-nay-trinh-mien-nhiem-thu-tuong-nguyen-xuan-phuc-4256475.html#box_comment_vne\n",
      "https://vnexpress.net/quoc-hoi-co-ba-pho-chu-tich-moi-4256215.html\n",
      "https://vnexpress.net/quoc-hoi-co-ba-pho-chu-tich-moi-4256215.html#box_comment_vne\n",
      "https://vnexpress.net/lo-ngai-bong-bong-khi-dong-tien-do-manh-vao-bat-dong-san-4256233.html\n",
      "https://vnexpress.net/lo-ngai-bong-bong-khi-dong-tien-do-manh-vao-bat-dong-san-4256233.html#box_comment_vne\n",
      "https://vnexpress.net/lan-dot-bien-4256255.html\n",
      "https://vnexpress.net/tac-gia/nguyen-lan-dung-1203.html\n",
      "https://vnexpress.net/lan-dot-bien-4256255.html#box_comment_vne\n",
      "https://vnexpress.net/doanh-nghiep-viet-thiet-hai-ra-sao-sau-su-co-ever-given-4256264.html\n",
      "https://vnexpress.net/doanh-nghiep-viet-thiet-hai-ra-sao-sau-su-co-ever-given-4256264.html#box_comment_vne\n",
      "https://vnexpress.net/benh-nhan-lap-phong-bay-lac-tung-tron-vien-tam-than-4256261.html\n",
      "https://vnexpress.net/benh-nhan-lap-phong-bay-lac-tung-tron-vien-tam-than-4256261.html#box_comment_vne\n",
      "https://vnexpress.net/vn-index-vuot-dinh-4256482.html\n",
      "https://vnexpress.net/vn-index-vuot-dinh-4256482.html#box_comment_vne\n",
      "https://vnexpress.net/viet-nam-bat-dau-dam-nhiem-chuc-chu-tich-hoi-dong-bao-an-4256391.html\n",
      "https://vnexpress.net/viet-nam-bat-dau-dam-nhiem-chuc-chu-tich-hoi-dong-bao-an-4256391.html#box_comment_vne\n",
      "https://vnexpress.net/chinh-sach-co-hieu-luc-tu-thang-4-4255979.html\n",
      "https://vnexpress.net/chinh-sach-co-hieu-luc-tu-thang-4-4255979.html#box_comment_vne\n",
      "https://vnexpress.net/no-luc-chay-dua-voi-sieu-mat-trang-giai-cuu-tau-tren-kenh-suez-4255272.html\n",
      "https://vnexpress.net/no-luc-chay-dua-voi-sieu-mat-trang-giai-cuu-tau-tren-kenh-suez-4255272.html#box_comment_vne\n",
      "https://vnexpress.net/bo-gd-amp-dt-cong-bo-de-tham-khao-thi-tot-nghiep-thpt-4256272.html\n",
      "https://vnexpress.net/bo-gd-amp-dt-cong-bo-de-tham-khao-thi-tot-nghiep-thpt-4256272.html#box_comment_vne\n",
      "https://vnexpress.net/trung-quoc-moi-loat-ngoai-truong-chau-a-toi-hoi-dam-4256381.html\n",
      "https://vnexpress.net/trung-quoc-moi-loat-ngoai-truong-chau-a-toi-hoi-dam-4256381.html#box_comment_vne\n",
      "https://vnexpress.net/3-du-an-chong-ngap-san-bay-tan-son-nhat-4256274.html\n",
      "https://vnexpress.net/3-du-an-chong-ngap-san-bay-tan-son-nhat-4256274.html#box_comment_vne\n",
      "https://vnexpress.net/em-gai-nho-lan-noi-chuyen-cuoi-voi-trinh-cong-son-4255706.html\n",
      "https://vnexpress.net/em-gai-nho-lan-noi-chuyen-cuoi-voi-trinh-cong-son-4255706.html#box_comment_vne\n",
      "https://vnexpress.net/viet-nam-du-kien-vay-2-ty-usd-phat-trien-dong-bang-song-cuu-long-4256241.html\n",
      "https://vnexpress.net/viet-nam-du-kien-vay-2-ty-usd-phat-trien-dong-bang-song-cuu-long-4256241.html#box_comment_vne\n",
      "https://vnexpress.net/hon-129-trieu-ca-covid-19-toan-cau-who-noi-vaccine-trung-quoc-an-toan-4256292.html\n",
      "https://vnexpress.net/hon-129-trieu-ca-covid-19-toan-cau-who-noi-vaccine-trung-quoc-an-toan-4256292.html#box_comment_vne\n",
      "https://vnexpress.net/gia-vang-the-gioi-dao-chieu-tang-vot-4256298.html\n",
      "https://vnexpress.net/gia-vang-the-gioi-dao-chieu-tang-vot-4256298.html#box_comment_vne\n",
      "https://vnexpress.net/thieu-tuong-to-an-xo-co-bao-ke-trong-dai-an-xang-gia-4256231.html\n",
      "https://vnexpress.net/thieu-tuong-to-an-xo-co-bao-ke-trong-dai-an-xang-gia-4256231.html#box_comment_vne\n",
      "https://vnexpress.net/pagani-huayra-sieu-pham-trieu-usd-doc-nhat-viet-nam-4256084.html\n",
      "https://vnexpress.net/pagani-huayra-sieu-pham-trieu-usd-doc-nhat-viet-nam-4256084.html#box_comment_vne\n",
      "https://vnexpress.net/15-trieu-lieu-vaccine-johnson-amp-johnson-bi-hong-4256290.html\n",
      "https://vnexpress.net/15-trieu-lieu-vaccine-johnson-amp-johnson-bi-hong-4256290.html#box_comment_vne\n",
      "https://vnexpress.net/tuyen-duc-dut-mach-bat-bai-20-nam-4256283.html\n",
      "https://vnexpress.net/tuyen-duc-dut-mach-bat-bai-20-nam-4256283.html#box_comment_vne\n",
      "https://vnexpress.net/viet-nam-vao-top-thi-truong-thue-kho-bai-gia-re-4256212.html\n",
      "https://vnexpress.net/viet-nam-vao-top-thi-truong-thue-kho-bai-gia-re-4256212.html#box_comment_vne\n",
      "https://vnexpress.net/vi-sao-du-an-chong-ngap-10-000-ty-dong-ngung-thi-cong-4256210.html\n",
      "https://vnexpress.net/vi-sao-du-an-chong-ngap-10-000-ty-dong-ngung-thi-cong-4256210.html#box_comment_vne\n",
      "https://vnexpress.net/mo-bong-bong-phap-ly-sau-vu-tac-kenh-dao-suez-4255786.html\n",
      "https://vnexpress.net/mo-bong-bong-phap-ly-sau-vu-tac-kenh-dao-suez-4255786.html#box_comment_vne\n"
     ]
    }
   ],
   "source": [
    "from bs4 import BeautifulSoup\n",
    "import requests\n",
    "\n",
    "url_home = 'https://vnexpress.net/'\n",
    "\n",
    "respone = requests.get(url_home)\n",
    "soup = BeautifulSoup(respone.text, 'html.parser')\n",
    "\n",
    "dict_url = {}\n",
    "for a in soup.find_all('a', href=True):\n",
    "    url = a['href']\n",
    "    if url not in dict_url.keys() and is_valid(url):\n",
    "        dict_url[url] = 1\n",
    "\n",
    "print(*dict_url.keys(), sep='\\n')\n"
   ]
  },
  {
   "cell_type": "code",
   "execution_count": 40,
   "metadata": {},
   "outputs": [
    {
     "name": "stdout",
     "output_type": "stream",
     "text": [
      "title :  Hôm nay trình miễn nhiệm Thủ tướng Nguyễn Xuân Phúc\n",
      "content : ------------\n",
      "Chủ tịch nước sẽ trình Quốc hội việc miễn nhiệm Thủ tướng Nguyễn Xuân Phúc trong phiên làm việc chiều nay 1/4..\n",
      ".\n",
      "Các đại biểu thảo luận ở Đoàn trước khi bỏ phiếu kín miễn nhiệm Thủ tướng vào sáng hôm sau (2/4)..\n",
      ".\n",
      "Theo chương trình làm việc, chiều mai, các đại biểu bỏ phiếu miễn nhiệm Chủ tịch nước Nguyễn Phú Trọng và trình danh sách đề cử để Quốc hội bầu Chủ tịch nước mới. Trước đó, Tổng thư ký Quốc hội Nguyễn Hạnh Phúc xác nhận ông Nguyễn Xuân Phúc là nhân sự được giới thiệu để bầu Chủ tịch nước..\n",
      ".\n",
      "\"Đây là lần đầu tiên đương kim Thủ tướng được giới thiệu để bầu làm người đứng đầu Nhà nước\", ông Nguyễn Hạnh Phúc nói..\n",
      ".\n",
      "Sau khi Quốc hội bầu tân Chủ tịch nước (sáng 5/4), vị này sẽ trình danh sách đề cử để các đại biểu bầu Thủ tướng..\n",
      ".\n",
      "Hiện nhân sự đề cử vào chức danh Thủ tướng chưa được cơ quan có thẩm quyền công bố. Tuy nhiên, danh sách sơ bộ người các cơ quan Trung ương ứng cử đại biểu Quốc hội khóa XV cho thấy, Trưởng ban Tổ chức Trung ương Phạm Minh Chính ứng cử khối Chính phủ..\n",
      ".\n",
      "Việc miễn nhiệm và bầu, phê chuẩn nhân sự tại kỳ họp lần này thực hiện theo yêu cầu bố trí, sắp xếp nhân sự cấp cao của Đảng, Nhà nước sau Đại hội XIII, với khoảng 25 chức danh được kiện toàn hoặc thay đổi vị trí công tác..\n",
      ".\n",
      "Thủ tướng Nguyễn Xuân Phúc. Ảnh: Giang Huy.\n",
      ".\n",
      "Thủ tướng Nguyễn Xuân Phúc 67 tuổi, cử nhân Kinh tế, quê ở Quảng Nam. Ông là Uỷ viên Trung ương Đảng khoá X, XI, XII, XIII; Uỷ viên Bộ Chính trị khóa XI, XII, XIII; đại biểu Quốc hội 3 khoá XI, XIII và XIV..\n",
      ".\n",
      "Sau khi tốt nghiệp Đại học Kinh tế quốc dân Hà Nội, ông trở về làm cán bộ Ban Quản lý kinh tế tỉnh Quảng Nam - Đà Nẵng, từng bước trưởng thành với nhiều vị trí công tác ở quê nhà. Từ chuyên viên, phó văn phòng, chánh văn phòng UBND tỉnh Quảng Nam - Đà Nẵng, Chủ tịch Hội khoa học kinh tế Quảng Nam - Đà Nẵng, ông làm Giám đốc Sở Du lịch kiêm Chủ tịch Hội đồng quản trị Khu du lịch Furama Đà Nẵng; Giám đốc Sở Kế hoạch và Đầu tư tỉnh Quảng Nam - Đà Nẵng..\n",
      ".\n",
      "Từ năm 1997 đến 2006, ông làm Phó Chủ tịch UBND tỉnh kiêm Trưởng Ban Quản lý các khu công nghiệp tỉnh, Chủ tịch Liên minh Hợp tác xã tỉnh Quảng Nam; Phó bí thư Tỉnh ủy, Chủ tịch UBND tỉnh, Chủ tịch Liên hiệp các Hội Khoa học kỹ thuật tỉnh Quảng Nam..\n",
      ".\n",
      "Tháng 3/2006, ông giữ chức Phó tổng Thanh tra Chính phủ, sau đó làm Phó Chủ nhiệm thường trực Văn phòng Chính phủ, rồi Bộ trưởng, Chủ nhiệm Văn phòng Chính phủ. Tháng 8/2011, ông được bổ nhiệm làm Phó thủ tướng, 5 năm sau được Quốc hội bầu làm Thủ tướng..\n",
      ".\n",
      "Tại Đại hội XIII, Thủ tướng Nguyễn Xuân Phúc cùng Tổng bí thư, Chủ tịch nước Nguyễn Phú Trọng là hai \"trường hợp đặc biệt\" tái cử Trung ương và được bầu vào Bộ Chính trị..\n",
      ".\n",
      "Chiều 31/3, Thủ tướng Nguyễn Xuân Phúc đã chủ trì phiên họp cuối cùng của Chính phủ khóa XIV trước khi kiện toàn. Ông nói, \"kinh tế vĩ mô hiện ổn định, các cân đối lớn được bảo đảm, lạm phát thấp\". Quy mô nền kinh tế gấp 1,4 lần so với năm 2015. \"Chúng ta đã mở ra không gian, cơ hội lớn cho phát triển thông qua các hiệp định thương mại lớn, song phương và đa phương\", Thủ tướng nhấn mạnh và nêu rõ, Việt Nam đã tăng 20 bậc trên bảng xếp hạng môi trường kinh doanh của Ngân hàng Thế giới (WB), tăng 10 bậc trên bảng xếp hạng về năng lực cạnh tranh toàn cầu của IMF, tăng 17 bậc trên bảng xếp hạng về đổi mới sáng tạo toàn cầu (WIPO), tăng 3 bậc trên bảng xếp hạng Chính phủ điện tử của Liên Hợp Quốc... Việt Nam cũng đã thành công trong việc thực hiện \"mục tiêu kép\", phòng chống Covid-19 và đảm bảo phát triển kinh tế - xã hội..\n",
      ".\n",
      "Hoàng Thùy\n",
      "date :  None\n",
      "active nlp -----------\n",
      "keywords :  ['thủ', 'tướng', 'trình', 'nhiệm', 'nguyễn', 'ông', 'làm', 'tịch', 'chủ', 'phúc', 'hôm', 'quốc', 'xuân', 'nay', 'tỉnh', 'miễn', 'hội']\n",
      "len keywords :  17\n",
      "sumary : \n",
      " Chủ tịch nước sẽ trình Quốc hội việc miễn nhiệm Thủ tướng Nguyễn Xuân Phúc trong phiên làm việc chiều nay 1/4.\n",
      "Các đại biểu thảo luận ở Đoàn trước khi bỏ phiếu kín miễn nhiệm Thủ tướng vào sáng hôm sau (2/4).\n",
      "Trước đó, Tổng thư ký Quốc hội Nguyễn Hạnh Phúc xác nhận ông Nguyễn Xuân Phúc là nhân sự được giới thiệu để bầu Chủ tịch nước.\n",
      "Thủ tướng Nguyễn Xuân Phúc.\n",
      "Tháng 8/2011, ông được bổ nhiệm làm Phó thủ tướng, 5 năm sau được Quốc hội bầu làm Thủ tướng.\n",
      "url article :  https://vnexpress.net/hom-nay-trinh-mien-nhiem-thu-tuong-nguyen-xuan-phuc-4256475.html\n"
     ]
    }
   ],
   "source": [
    "\n",
    "url = 'https://vnexpress.net/hom-nay-trinh-mien-nhiem-thu-tuong-nguyen-xuan-phuc-4256475.html'\n",
    "article = Article(url)\n",
    "article.download()\n",
    "article.parse()\n",
    "\n",
    "text = article.text.replace('\\n', '.\\n')\n",
    "text \n",
    "\n",
    "\n",
    "print('title : ', article.title)\n",
    "print('content : ------------')\n",
    "print(text)\n",
    "print('date : ', article.publish_date)\n",
    "\n",
    "print('active nlp -----------')\n",
    "article.nlp()\n",
    "print('keywords : ', article.keywords)\n",
    "print('len keywords : ', len(article.keywords))\n",
    "\n",
    "print('sumary : \\n', article.summary)\n",
    "print('url article : ', article.url)\n",
    "\n"
   ]
  },
  {
   "cell_type": "code",
   "execution_count": 37,
   "metadata": {},
   "outputs": [
    {
     "name": "stdout",
     "output_type": "stream",
     "text": [
      "['Chủ_tịch', 'nước', 'sẽ', 'trình', 'Quốc_hội']\n"
     ]
    },
    {
     "data": {
      "text/plain": "[('Chủ_tịch', 11), ('Thủ_tướng', 9), ('bầu', 8), ('tỉnh', 8), ('Quốc_hội', 7)]"
     },
     "execution_count": 37,
     "metadata": {},
     "output_type": "execute_result"
    }
   ],
   "source": [
    "from pyvi import ViTokenizer\n",
    "from collections import Counter\n",
    "\n",
    "tokens = ViTokenizer.tokenize(text)\n",
    "tokens = ViTokenizer.spacy_tokenize(tokens)[0]\n",
    "tokens = list(filter(lambda x: len(x)>1, tokens))\n",
    "print(tokens[:5])\n",
    "\n",
    "counter_tokens = Counter(tokens)\n",
    "counter_tokens.most_common(5)"
   ]
  }
 ],
 "metadata": {
  "kernelspec": {
   "display_name": "Python 3.8.5 64-bit",
   "metadata": {
    "interpreter": {
     "hash": "31f2aee4e71d21fbe5cf8b01ff0e069b9275f58929596ceb00d14d90e3e16cd6"
    }
   },
   "name": "python3"
  },
  "language_info": {
   "codemirror_mode": {
    "name": "ipython",
    "version": 3
   },
   "file_extension": ".py",
   "mimetype": "text/x-python",
   "name": "python",
   "nbconvert_exporter": "python",
   "pygments_lexer": "ipython3",
   "version": "3.8.5"
  },
  "orig_nbformat": 2
 },
 "nbformat": 4,
 "nbformat_minor": 2
}
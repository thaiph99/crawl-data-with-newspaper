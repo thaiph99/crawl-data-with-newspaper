{
 "cells": [
  {
   "cell_type": "code",
   "execution_count": 1,
   "metadata": {},
   "outputs": [],
   "source": [
    "from api import News\n",
    "from api import Keyword\n",
    "from api import Url\n",
    "from api import Category"
   ]
  },
  {
   "cell_type": "code",
   "execution_count": 2,
   "metadata": {},
   "outputs": [],
   "source": [
    "url = Url('urls.txt')\n",
    "key = Keyword('keywords.txt')\n",
    "categorys = Category()"
   ]
  },
  {
   "cell_type": "code",
   "execution_count": 3,
   "metadata": {},
   "outputs": [],
   "source": [
    "news = News()"
   ]
  },
  {
   "cell_type": "code",
   "execution_count": 4,
   "metadata": {},
   "outputs": [
    {
     "name": "stdout",
     "output_type": "stream",
     "text": [
      "926\n",
      "926\n"
     ]
    }
   ],
   "source": [
    "news.load_data('datatemporary')\n",
    "print(len(news.list_url_news))\n",
    "print(len(news.list_text_news))"
   ]
  },
  {
   "cell_type": "code",
   "execution_count": 5,
   "metadata": {},
   "outputs": [],
   "source": [
    "# news.write_data('data temporary')"
   ]
  },
  {
   "cell_type": "code",
   "execution_count": 6,
   "metadata": {},
   "outputs": [],
   "source": [
    "# print(news.list_text_news[0])"
   ]
  },
  {
   "cell_type": "code",
   "execution_count": 7,
   "metadata": {},
   "outputs": [
    {
     "name": "stdout",
     "output_type": "stream",
     "text": [
      "926\n",
      "Done\n"
     ]
    }
   ],
   "source": [
    "news.load_key()\n",
    "print(len(news.list_counter_keys))\n",
    "print('Done')"
   ]
  },
  {
   "cell_type": "code",
   "execution_count": 8,
   "metadata": {},
   "outputs": [],
   "source": [
    "# news.list_counter_keys[0]"
   ]
  },
  {
   "cell_type": "code",
   "execution_count": 9,
   "metadata": {},
   "outputs": [
    {
     "name": "stdout",
     "output_type": "stream",
     "text": [
      "857476\n",
      "926\n"
     ]
    }
   ],
   "source": [
    "list_score = []\n",
    "# print(news.list_counter_keys)\n",
    "cnti= 0\n",
    "for i in news.list_counter_keys:\n",
    "    cntj = 0\n",
    "    for j in news.list_counter_keys:\n",
    "        list_score.append((news.compare(i, j), cnti, cntj))\n",
    "        cntj += 1\n",
    "    cnti += 1\n",
    "print(len(list_score))\n",
    "print(cnti)"
   ]
  },
  {
   "cell_type": "code",
   "execution_count": 10,
   "metadata": {},
   "outputs": [
    {
     "name": "stdout",
     "output_type": "stream",
     "text": [
      "[(11.532562594670797, 788, 808), (11.532562594670797, 808, 788), (13.114877048604, 731, 788), (13.114877048604, 788, 731), (14.66287829861518, 731, 808), (14.66287829861518, 808, 731), (16.0, 494, 606), (16.0, 606, 494), (16.401219466856727, 508, 530), (16.401219466856727, 530, 508), (16.46207763315433, 549, 731), (16.46207763315433, 731, 549), (16.911534525287763, 494, 819), (16.911534525287763, 819, 494), (17.26267650163207, 606, 819), (17.26267650163207, 819, 606), (17.944358444926362, 60, 682), (17.944358444926362, 682, 60), (18.05547008526779, 606, 749), (18.05547008526779, 749, 606)]\n"
     ]
    }
   ],
   "source": [
    "list_score = list(filter(lambda x : x[0]!=0.0, list_score))\n",
    "list_score = sorted(list_score, key=lambda x : x[0])\n",
    "print(list_score[:20])"
   ]
  },
  {
   "cell_type": "code",
   "execution_count": 11,
   "metadata": {},
   "outputs": [
    {
     "name": "stdout",
     "output_type": "stream",
     "text": [
      "Bộ Y tế sáng 18/4 không ghi nhận ca dương tính nCoV. Số ca nhiễm cộng đồng cả nước trong 80 ngày qua duy trì 910.. . 24 giờ qua thêm 8 ca nhiễm đều là người nhập cảnh cách ly ngay. Tổng số ca nhiễm lên 2.781, số khỏi 2.475. Các bệnh nhân đang điều trị đa số sức khỏe ổn định, trong đó 16 người xét nghiệm âm tính nCoV lần một, 18 người âm tính lần hai và 18 người âm tính lần ba.. . Tổng số người tiếp xúc gần và nhập cảnh từ vùng dịch đang được theo dõi sức khỏe cách ly là hơn 40.000. Trong đó, số người cách ly tập trung tại bệnh viện là 531, tại cơ sở khác là hơn 24.000, còn lại cách ly tại nhà, nơi lưu trú.. . Hơn 20 ngày qua cả nước không ghi nhận ca nhiễm mới trong cộng đồng, song số ca nhiễm nhập cảnh tăng hàng ngày, có hôm hơn 25 ca. Kể từ ngày 27/1 bùng phát đợt dịch liên quan Hải Dương, Quảng Ninh đến nay, tổng ca nhiễm cộng đồng duy trì 910. Nhiều tỉnh thành hơn hai tháng qua không thêm ca nhiễm mới.. . Theo Chương trình Tiêm chủng Mở rộng quốc gia, ngày 17/4 thêm 1.423 người được tiêm vaccine Covid-19 tại 6 tỉnh, thành phố. Cụ thể, Quảng Ninh 195 người, Hải Phòng 60, Hải Dương 477, Bắc Giang 83, Hà Tĩnh 526 (đợt hai), Cao Bằng 82 người (đợt hai).. . Như vậy, tổng cộng đã thực hiện tiêm đợt một và hai tại 22 tỉnh, thành phố cho 67.789 người. Họ đều là cán bộ, nhân viên y tế đang trực tiếp điều trị bệnh nhân Covid-19, các nhân viên y tế thực hiện các nhiệm vụ như lấy mẫu bệnh phẩm, xét nghiệm, truy vết, thành viên các tổ Covid-19 cộng đồng, Ban Chỉ đạo phòng chống dịch, công an.. . Ngày 17/4, Hải Phòng đã kết thúc triển khai đợt một. Các tỉnh Quảng Ninh, Hải Dương đang nỗ lực để hoàn thành triển khai đợt một.. . Người dân được khuyến cáo tiếp tục thực hiện nghiêm yêu cầu 5K, đặc biệt là đeo khẩu trang, không tụ tập đông người và thực hiện nghiêm các hướng dẫn phòng chống dịch tại công sở, cơ quan, nhà máy, xí nghiệp, cơ sở sản xuất đảm bảo an toàn khi làm việc.. . Theo Trung tâm Đáp ứng khẩn cấp sự kiện y tế công cộng Việt Nam, thế giới ghi nhận hơn 3 triệu người chết vì Covid-19 trong hơn 140 triệu người nhiễm. Mỹ là quốc gia chịu ảnh hưởng nghiêm trọng nhất của dịch, tiếp theo là Ấn Độ và Brazil.. . Lê Nga\n",
      "\n",
      "Bộ Y tế sáng 20/4 không ghi nhận ca dương tính nCoV, số ca nhiễm cộng đồng của cả nước trong 82 ngày qua duy trì 910.. . 24 giờ qua thêm 6 ca nhiễm, tổng số ca nhiễm lên 2.791, số khỏi 2.475. Các bệnh nhân đang điều trị đa số sức khỏe ổn định, trong đó 11 người xét nghiệm âm tính nCoV lần một, 16 người âm tính lần hai và 18 người âm tính lần ba.. . Tổng số người tiếp xúc gần và nhập cảnh từ vùng dịch đang được theo dõi sức khỏe cách ly là hơn 40.000. Trong đó, số người cách ly tập trung tại bệnh viện là 531, tại cơ sở khác là hơn 24.000, còn lại cách ly tại nhà, nơi lưu trú.. . Hơn 20 ngày qua cả nước không ghi nhận ca nhiễm mới trong cộng đồng, song số ca nhiễm nhập cảnh tăng hàng ngày, có hôm hơn 25 ca. Kể từ ngày 27/1 bùng phát đợt dịch liên quan Hải Dương, Quảng Ninh đến nay, tổng ca nhiễm cộng đồng duy trì 910. Nhiều tỉnh thành hơn hai tháng qua không thêm ca nhiễm mới.. . Theo Chương trình Tiêm chủng Mở rộng quốc gia, ngày 19/4 có thêm 3.812 người được tiêm chủng vaccine Covid-19. Cụ thể, đợt 1 là 822 người, trong đó Hà Nội 67 người, Quảng Ninh 472, TP Hồ Chí Minh 283. Đợt 2 là 2.990 người, trong đó Quảng Ninh 401, Bắc Ninh 936, Cao Bằng 107, Thừa Thiên Huế 434, Phú Yên 966, TP Hồ Chí Minh 91 người, Cần Thơ 55.. . Như vậy, tính đến nay tổng cộng đã thực hiện tiêm đợt 1 và 2 tại 22 tỉnh, thành phố cho 80.857 người. Họ là cán bộ, nhân viên y tế đang trực tiếp điều trị bệnh nhân Covid-19, các nhân viên y tế thực hiện các nhiệm vụ như lấy mẫu bệnh phẩm, xét nghiệm, truy vết, thành viên các tổ Covid-19 cộng đồng, Ban Chỉ đạo phòng chống dịch, công an, bộ đội.. . Người dân được khuyến cáo tiếp tục thực hiện nghiêm yêu cầu 5K, đặc biệt là đeo khẩu trang, không tụ tập đông người và thực hiện nghiêm các hướng dẫn phòng chống dịch tại công sở, cơ quan, nhà máy, xí nghiệp, cơ sở sản xuất đảm bảo an toàn khi làm việc.. . Theo Trung tâm Đáp ứng khẩn cấp sự kiện y tế công cộng Việt Nam, thế giới ghi nhận hơn 3 triệu người chết vì Covid-19 trong hơn 140 triệu người nhiễm. Mỹ là quốc gia chịu ảnh hưởng nghiêm trọng nhất của dịch, tiếp theo là Ấn Độ và Brazil.. . Lê Nga\n",
      "\n"
     ]
    }
   ],
   "source": [
    "print(news.list_text_news[788])\n",
    "print(news.list_text_news[808])"
   ]
  },
  {
   "cell_type": "code",
   "execution_count": 12,
   "metadata": {},
   "outputs": [],
   "source": [
    "threshold = 10"
   ]
  },
  {
   "cell_type": "code",
   "execution_count": 13,
   "metadata": {},
   "outputs": [
    {
     "name": "stdout",
     "output_type": "stream",
     "text": [
      "https://vnexpress.net/mau-kho-dong-benh-nha-giau-thuong-truyen-cho-con-trai-4264414.html\n",
      "\n",
      "https://vnexpress.net/them-20-000-lieu-vaccine-covid-19-cho-ha-noi-cac-vien-4265434.html\n",
      "\n"
     ]
    }
   ],
   "source": [
    "print(news.list_url_news[788])\n",
    "print(news.list_url_news[808])"
   ]
  },
  {
   "cell_type": "code",
   "execution_count": 20,
   "metadata": {},
   "outputs": [
    {
     "name": "stdout",
     "output_type": "stream",
     "text": [
      "926\n",
      "926\n",
      "926\n",
      "https://vnexpress.net/mau-kho-dong-benh-nha-giau-thuong-truyen-cho-con-trai-4264414.html\n",
      "\n",
      "Bộ Y tế sáng 18/4 không ghi nhận ca dương tính nCoV. Số ca nhiễm cộng đồng cả nước trong 80 ngày qua duy trì 910.. . 24 giờ qua thêm 8 ca nhiễm đều là người nhập cảnh cách ly ngay. Tổng số ca nhiễm lên 2.781, số khỏi 2.475. Các bệnh nhân đang điều trị đa số sức khỏe ổn định, trong đó 16 người xét nghiệm âm tính nCoV lần một, 18 người âm tính lần hai và 18 người âm tính lần ba.. . Tổng số người tiếp xúc gần và nhập cảnh từ vùng dịch đang được theo dõi sức khỏe cách ly là hơn 40.000. Trong đó, số người cách ly tập trung tại bệnh viện là 531, tại cơ sở khác là hơn 24.000, còn lại cách ly tại nhà, nơi lưu trú.. . Hơn 20 ngày qua cả nước không ghi nhận ca nhiễm mới trong cộng đồng, song số ca nhiễm nhập cảnh tăng hàng ngày, có hôm hơn 25 ca. Kể từ ngày 27/1 bùng phát đợt dịch liên quan Hải Dương, Quảng Ninh đến nay, tổng ca nhiễm cộng đồng duy trì 910. Nhiều tỉnh thành hơn hai tháng qua không thêm ca nhiễm mới.. . Theo Chương trình Tiêm chủng Mở rộng quốc gia, ngày 17/4 thêm 1.423 người được tiêm vaccine Covid-19 tại 6 tỉnh, thành phố. Cụ thể, Quảng Ninh 195 người, Hải Phòng 60, Hải Dương 477, Bắc Giang 83, Hà Tĩnh 526 (đợt hai), Cao Bằng 82 người (đợt hai).. . Như vậy, tổng cộng đã thực hiện tiêm đợt một và hai tại 22 tỉnh, thành phố cho 67.789 người. Họ đều là cán bộ, nhân viên y tế đang trực tiếp điều trị bệnh nhân Covid-19, các nhân viên y tế thực hiện các nhiệm vụ như lấy mẫu bệnh phẩm, xét nghiệm, truy vết, thành viên các tổ Covid-19 cộng đồng, Ban Chỉ đạo phòng chống dịch, công an.. . Ngày 17/4, Hải Phòng đã kết thúc triển khai đợt một. Các tỉnh Quảng Ninh, Hải Dương đang nỗ lực để hoàn thành triển khai đợt một.. . Người dân được khuyến cáo tiếp tục thực hiện nghiêm yêu cầu 5K, đặc biệt là đeo khẩu trang, không tụ tập đông người và thực hiện nghiêm các hướng dẫn phòng chống dịch tại công sở, cơ quan, nhà máy, xí nghiệp, cơ sở sản xuất đảm bảo an toàn khi làm việc.. . Theo Trung tâm Đáp ứng khẩn cấp sự kiện y tế công cộng Việt Nam, thế giới ghi nhận hơn 3 triệu người chết vì Covid-19 trong hơn 140 triệu người nhiễm. Mỹ là quốc gia chịu ảnh hưởng nghiêm trọng nhất của dịch, tiếp theo là Ấn Độ và Brazil.. . Lê Nga\n",
      "\n",
      "Không thêm ca nhiễm, gần 68.000 người đã tiêm vaccine Covid-19\n",
      "\n"
     ]
    }
   ],
   "source": [
    "print(len(news.list_url_news))\n",
    "print(len(news.list_text_news))\n",
    "print(len(news.list_title))\n",
    "print((news.list_url_news[788]))\n",
    "print((news.list_text_news[788]))\n",
    "print((news.list_title[788]))"
   ]
  },
  {
   "cell_type": "code",
   "execution_count": 14,
   "metadata": {},
   "outputs": [
    {
     "name": "stdout",
     "output_type": "stream",
     "text": [
      "Done\n"
     ]
    }
   ],
   "source": [
    "news.load_score(key.list_keys)\n",
    "print('Done')"
   ]
  },
  {
   "cell_type": "code",
   "execution_count": 15,
   "metadata": {},
   "outputs": [],
   "source": [
    "list_score = sorted(news.list_score_news, key=lambda x: -x)"
   ]
  },
  {
   "cell_type": "code",
   "execution_count": 16,
   "metadata": {},
   "outputs": [
    {
     "data": {
      "text/plain": "[0, 0, 0, 0, 0, 0, 0, 0, 0, 0, 0, 0, 0, 0, 0, 0, 0, 0, 0, 0]"
     },
     "execution_count": 16,
     "metadata": {},
     "output_type": "execute_result"
    }
   ],
   "source": [
    "list_score[:20]"
   ]
  }
 ],
 "metadata": {
  "kernelspec": {
   "display_name": "Python 3.8.5 64-bit",
   "name": "python385jvsc74a57bd0916dbcbb3f70747c44a77c7bcd40155683ae19c65e1c03b4aa3499c5328201f1"
  },
  "language_info": {
   "codemirror_mode": {
    "name": "ipython",
    "version": 3
   },
   "file_extension": ".py",
   "mimetype": "text/x-python",
   "name": "python",
   "nbconvert_exporter": "python",
   "pygments_lexer": "ipython3",
   "version": "3.8.5"
  },
  "metadata": {
   "interpreter": {
    "hash": "916dbcbb3f70747c44a77c7bcd40155683ae19c65e1c03b4aa3499c5328201f1"
   }
  },
  "orig_nbformat": 2
 },
 "nbformat": 4,
 "nbformat_minor": 2
}
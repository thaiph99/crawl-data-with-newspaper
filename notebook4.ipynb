{
 "cells": [
  {
   "cell_type": "code",
   "execution_count": 1,
   "metadata": {},
   "outputs": [],
   "source": [
    "from api import News\n",
    "from api import Keyword\n",
    "from api import Url\n",
    "from api import Category"
   ]
  },
  {
   "cell_type": "code",
   "execution_count": 2,
   "metadata": {},
   "outputs": [],
   "source": [
    "url = Url('urls.txt')\n",
    "key = Keyword('keywords.txt')\n",
    "categorys = Category()"
   ]
  },
  {
   "cell_type": "code",
   "execution_count": 3,
   "metadata": {},
   "outputs": [],
   "source": [
    "news = News()"
   ]
  },
  {
   "cell_type": "code",
   "execution_count": 4,
   "metadata": {},
   "outputs": [
    {
     "name": "stdout",
     "output_type": "stream",
     "text": [
      "74\n",
      "74\n"
     ]
    }
   ],
   "source": [
    "news.load_data('datatemporary')\n",
    "print(len(news.list_url_news))\n",
    "print(len(news.list_text_news))"
   ]
  },
  {
   "cell_type": "code",
   "execution_count": 5,
   "metadata": {},
   "outputs": [],
   "source": [
    "# news.write_data('data temporary')"
   ]
  },
  {
   "cell_type": "code",
   "execution_count": 6,
   "metadata": {},
   "outputs": [],
   "source": [
    "# print(news.list_text_news[0])"
   ]
  },
  {
   "cell_type": "code",
   "execution_count": 7,
   "metadata": {},
   "outputs": [
    {
     "name": "stdout",
     "output_type": "stream",
     "text": [
      "74\n",
      "Done\n"
     ]
    }
   ],
   "source": [
    "news.load_key()\n",
    "print(len(news.list_text_news))\n",
    "print('Done')"
   ]
  },
  {
   "cell_type": "code",
   "execution_count": 8,
   "metadata": {},
   "outputs": [],
   "source": [
    "# news.list_counter_keys[0]"
   ]
  },
  {
   "cell_type": "code",
   "execution_count": 9,
   "metadata": {},
   "outputs": [
    {
     "name": "stdout",
     "output_type": "stream",
     "text": [
      "5476\n",
      "74\n"
     ]
    }
   ],
   "source": [
    "list_score = []\n",
    "# print(news.list_counter_keys)\n",
    "cnti= 0\n",
    "for i in news.list_counter_keys:\n",
    "    cntj = 0\n",
    "    for j in news.list_counter_keys:\n",
    "        list_score.append((news.compare(i, j), cnti, cntj))\n",
    "        cntj += 1\n",
    "    cnti += 1\n",
    "print(len(list_score))\n",
    "print(cnti)"
   ]
  },
  {
   "cell_type": "code",
   "execution_count": 10,
   "metadata": {},
   "outputs": [
    {
     "name": "stdout",
     "output_type": "stream",
     "text": [
      "[(9.486832980505138, 29, 56), (9.486832980505138, 56, 29), (20.493901531919196, 21, 71), (20.493901531919196, 71, 21), (20.639767440550294, 21, 26), (20.639767440550294, 26, 21), (21.118712081942874, 21, 56), (21.118712081942874, 56, 21), (21.354156504062622, 56, 71), (21.354156504062622, 71, 56), (21.633307652783937, 21, 29), (21.633307652783937, 29, 21), (21.72556098240043, 26, 56), (21.72556098240043, 56, 26), (21.817424229271428, 26, 71), (21.817424229271428, 71, 26), (21.863211109075447, 29, 71), (21.863211109075447, 71, 29), (21.95449840010015, 26, 29), (21.95449840010015, 29, 26)]\n"
     ]
    }
   ],
   "source": [
    "list_score = list(filter(lambda x : x[0]!=0.0, list_score))\n",
    "list_score = sorted(list_score, key=lambda x : x[0])\n",
    "print(list_score[:20])"
   ]
  },
  {
   "cell_type": "code",
   "execution_count": 11,
   "metadata": {},
   "outputs": [
    {
     "name": "stdout",
     "output_type": "stream",
     "text": [
      "Bão Surigae với gió giật lên tới 250 km/h sắp đổ bộ miền trung Philippines, buộc nước này sơ tán hơn 5.100 hộ gia đình.. . Theo Trung tâm Cảnh báo Bão Liên quân Mỹ (JTWC), bão Surigae đã mạnh lên thành siêu bão cấp 5, cấp độ mạnh nhất, vào ngày 18/4, với sức gió hơn 300 km/h ở vùng biển phía đông Philippines.. . tử vong.. . Sáng 19/4, thi thể nam sinh cuối cùng đã được lực lượng chức năng phát hiện trôi dạt cách hiện trường chừng 15 m.. . Chiều hôm qua, em này cùng 7 học sinh khác rủ nhau đến bãi biển tại phường Cam Nghĩa, cách trường hơn 10 km chơi. Lúc sau, bốn em xuống tắm, bị sóng cuốn.. . Nhóm còn lại ở trên bờ phát hiện đi gọi người ứng cứu. Khi người dân chạy đến, đưa được hai em lên bờ sơ cứu, chuyển đến bệnh viện nhưng không qua khỏi. Nhiều giờ sau, thi thể nam sinh 14 tuổi, được tìm thấy cách đó gần 10 m.. . Ông Lê Ngọc Thạch, Phó chủ tịch UBND TP Cam Ranh, cho biết khu vực nhóm nam sinh gặp nạn thường xuất hiện sóng lớn tạo thành những dòng nước xoáy. Chính quyền địa phương đã cắm biển cảnh báo dọc bãi biển, đồng thời yêu cầu các trường học tuyên truyền, nhắc nhở học sinh không tắm ở đây.. . Xuân Ngọc\n",
      "\n",
      "Khánh HòaNhóm học sinh lớp 8 trường THCS Nguyễn Thị Minh Khai, TP Cam Ranh, ra khu vực Bãi Dài chơi, bốn em xuống tắm biển bị sóng cuốn trôi, tử vong.. . Sáng 19/4, thi thể nam sinh cuối cùng đã được lực lượng chức năng phát hiện trôi dạt cách hiện trường chừng 15 m.. . Chiều hôm qua, em này cùng 7 học sinh khác rủ nhau đến bãi biển tại phường Cam Nghĩa, cách trường hơn 10 km chơi. Lúc sau, bốn em xuống tắm, bị sóng cuốn.. . Nhóm còn lại ở trên bờ phát hiện đi gọi người ứng cứu. Khi người dân chạy đến, đưa được hai em lên bờ sơ cứu, chuyển đến bệnh viện nhưng không qua khỏi. Nhiều giờ sau, thi thể nam sinh 14 tuổi, được tìm thấy cách đó gần 10 m.. . Ông Lê Ngọc Thạch, Phó chủ tịch UBND TP Cam Ranh, cho biết khu vực nhóm nam sinh gặp nạn thường xuất hiện sóng lớn tạo thành những dòng nước xoáy. Chính quyền địa phương đã cắm biển cảnh báo dọc bãi biển, đồng thời yêu cầu các trường học tuyên truyền, nhắc nhở học sinh không tắm ở đây.. . Xuân Ngọc\n",
      "\n"
     ]
    }
   ],
   "source": [
    "print(news.list_text_news[29])\n",
    "print(news.list_text_news[56])"
   ]
  },
  {
   "cell_type": "code",
   "execution_count": 12,
   "metadata": {},
   "outputs": [],
   "source": [
    "threshold = 10"
   ]
  },
  {
   "cell_type": "code",
   "execution_count": 15,
   "metadata": {},
   "outputs": [
    {
     "name": "stdout",
     "output_type": "stream",
     "text": [
      "https://vnexpress.net/hon-100-canh-sat-vay-bat-pham-nhan-vuot-nguc-4265065.html\n",
      "\n",
      "https://vnexpress.net/hong-dao-luon-mang-ong-xit-hoi-cay-trong-tui-4264304.html\n",
      "\n"
     ]
    }
   ],
   "source": [
    "print(news.list_url_news[21])\n",
    "print(news.list_url_news[26])"
   ]
  }
 ],
 "metadata": {
  "kernelspec": {
   "display_name": "Python 3.8.5 64-bit",
   "name": "python385jvsc74a57bd0916dbcbb3f70747c44a77c7bcd40155683ae19c65e1c03b4aa3499c5328201f1"
  },
  "language_info": {
   "codemirror_mode": {
    "name": "ipython",
    "version": 3
   },
   "file_extension": ".py",
   "mimetype": "text/x-python",
   "name": "python",
   "nbconvert_exporter": "python",
   "pygments_lexer": "ipython3",
   "version": "3.8.5"
  },
  "metadata": {
   "interpreter": {
    "hash": "916dbcbb3f70747c44a77c7bcd40155683ae19c65e1c03b4aa3499c5328201f1"
   }
  },
  "orig_nbformat": 2
 },
 "nbformat": 4,
 "nbformat_minor": 2
}
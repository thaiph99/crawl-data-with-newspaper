{
 "cells": [
  {
   "cell_type": "code",
   "execution_count": 1,
   "metadata": {},
   "outputs": [],
   "source": [
    "from api import News\n",
    "from api import Keyword\n",
    "from api import Url\n",
    "from api import Category"
   ]
  },
  {
   "cell_type": "code",
   "execution_count": 2,
   "metadata": {},
   "outputs": [],
   "source": [
    "url = Url('urls.txt')\n",
    "key = Keyword('keywords.txt')\n",
    "categorys = Category()"
   ]
  },
  {
   "cell_type": "code",
   "execution_count": 3,
   "metadata": {},
   "outputs": [
    {
     "data": {
      "text/plain": "['https://vnexpress.net/\\n',\n 'https://vnexpress.net/phap-luat',\n 'https://vnexpress.net/the-gioi',\n 'https://vnexpress.net/doi-song',\n 'https://vnexpress.net/tin-tuc-24h',\n 'https://vnexpress.net/oto-xe-may',\n 'https://vnexpress.net/goc-nhin',\n 'https://vnexpress.net/tam-su',\n 'https://vnexpress.net/hai',\n 'https://vnexpress.net/giao-duc',\n 'https://vnexpress.net/y-kien',\n 'https://vnexpress.net',\n 'https://vnexpress.net/du-lich',\n 'https://vnexpress.net/khoa-hoc',\n 'https://vnexpress.net/so-hoa',\n 'https://video.vnexpress.net',\n 'https://e.vnexpress.net',\n 'https://vnexpress.net/kinh-doanh',\n 'https://vnexpress.net/suc-khoe',\n 'https://vnexpress.net/giai-tri',\n 'https://vnexpress.net/thoi-su',\n 'https://vnexpress.net/the-thao',\n 'https://vnexpress.net/\\n']"
     },
     "execution_count": 3,
     "metadata": {},
     "output_type": "execute_result"
    }
   ],
   "source": [
    "list_category = []\n",
    "for url_home in url.list_url:\n",
    "    list_category += categorys.get_category_url_from_url(url_home)\n",
    "list_category"
   ]
  },
  {
   "cell_type": "code",
   "execution_count": 4,
   "metadata": {},
   "outputs": [
    {
     "data": {
      "text/plain": "23"
     },
     "execution_count": 4,
     "metadata": {},
     "output_type": "execute_result"
    }
   ],
   "source": [
    "len(list_category)"
   ]
  },
  {
   "cell_type": "code",
   "execution_count": 5,
   "metadata": {},
   "outputs": [],
   "source": [
    "news = News()"
   ]
  },
  {
   "cell_type": "code",
   "execution_count": 6,
   "metadata": {},
   "outputs": [
    {
     "name": "stdout",
     "output_type": "stream",
     "text": [
      "\n",
      "Done\n"
     ]
    },
    {
     "data": {
      "text/plain": "857"
     },
     "execution_count": 6,
     "metadata": {},
     "output_type": "execute_result"
    }
   ],
   "source": [
    "news.load_urls(list_category)\n",
    "len(news.list_url_news)"
   ]
  },
  {
   "cell_type": "code",
   "execution_count": 7,
   "metadata": {},
   "outputs": [
    {
     "name": "stdout",
     "output_type": "stream",
     "text": []
    }
   ],
   "source": [
    "news.load_text()"
   ]
  }
 ],
 "metadata": {
  "kernelspec": {
   "display_name": "Python 3.8.5 64-bit",
   "name": "python385jvsc74a57bd0916dbcbb3f70747c44a77c7bcd40155683ae19c65e1c03b4aa3499c5328201f1"
  },
  "language_info": {
   "codemirror_mode": {
    "name": "ipython",
    "version": 3
   },
   "file_extension": ".py",
   "mimetype": "text/x-python",
   "name": "python",
   "nbconvert_exporter": "python",
   "pygments_lexer": "ipython3",
   "version": "3.8.5"
  },
  "metadata": {
   "interpreter": {
    "hash": "916dbcbb3f70747c44a77c7bcd40155683ae19c65e1c03b4aa3499c5328201f1"
   }
  },
  "orig_nbformat": 2
 },
 "nbformat": 4,
 "nbformat_minor": 2
}
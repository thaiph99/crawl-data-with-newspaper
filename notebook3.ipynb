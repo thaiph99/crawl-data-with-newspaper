{
 "cells": [
  {
   "cell_type": "code",
   "execution_count": 1,
   "metadata": {},
   "outputs": [],
   "source": [
    "from api import News\n",
    "from api import Keyword\n",
    "from api import Url\n",
    "from api import Category"
   ]
  },
  {
   "cell_type": "code",
   "execution_count": 2,
   "metadata": {},
   "outputs": [],
   "source": [
    "url = Url('urls.txt')\n",
    "key = Keyword('keywords.txt')\n",
    "categorys = Category()"
   ]
  },
  {
   "cell_type": "code",
   "execution_count": 3,
   "metadata": {},
   "outputs": [
    {
     "data": {
      "text/plain": "['https://vnexpress.net/\\n',\n 'https://vnexpress.net/the-thao',\n 'https://vnexpress.net/tin-tuc-24h',\n 'https://video.vnexpress.net',\n 'https://vnexpress.net/phap-luat',\n 'https://vnexpress.net/giao-duc',\n 'https://vnexpress.net/giai-tri',\n 'https://vnexpress.net/oto-xe-may',\n 'https://vnexpress.net/thoi-su',\n 'https://vnexpress.net/suc-khoe',\n 'https://vnexpress.net/tam-su',\n 'https://vnexpress.net',\n 'https://vnexpress.net/so-hoa',\n 'https://vnexpress.net/kinh-doanh',\n 'https://vnexpress.net/khoa-hoc',\n 'https://vnexpress.net/goc-nhin',\n 'https://e.vnexpress.net',\n 'https://vnexpress.net/doi-song',\n 'https://vnexpress.net/hai',\n 'https://vnexpress.net/y-kien',\n 'https://vnexpress.net/du-lich',\n 'https://vnexpress.net/the-gioi',\n 'https://vnexpress.net/\\n',\n 'https://www.24h.com.vn/\\n',\n 'https://www.24h.com.vn/\\n',\n 'https://tuoitre.vn/',\n 'https://dulich.tuoitre.vn',\n 'https://tuoitre.vn/van-hoa.htm',\n 'https://cuoituan.tuoitre.vn',\n 'https://tuoitre.vn/can-biet.htm',\n 'https://tv.tuoitre.vn',\n 'https://tuoitre.vn/cong-nghe.htm',\n 'https://beta.tuoitre.vn',\n 'https://tuoitre.vn/photo.htm',\n 'https://thethao.tuoitre.vn',\n 'https://tuoitre.vn/khoa-hoc.htm',\n 'https://tuoitre.vn/nha-dat.htm',\n 'https://tuoitre.vn/giao-duc.htm',\n 'https://tuoitre.vn/suc-khoe.htm',\n 'https://cuoi.tuoitre.vn',\n 'https://congnghe.tuoitre.vn',\n 'https://tuoitre.vn/the-gioi.htm',\n 'https://tuyensinh.tuoitre.vn',\n 'https://quangcao.tuoitre.vn',\n 'https://nhadat.tuoitre.vn',\n 'https://tuoitre.vn/gia-that.htm',\n 'https://tuoitre.vn/giai-tri.htm',\n 'https://tuoitre.vn/xe.htm',\n 'http://id.tuoitre.vn',\n 'https://tuoitre.vn/thoi-su.htm',\n 'https://tuoitre.vn',\n 'http://pay.tuoitre.vn',\n 'https://tuoitre.vn/the-thao.htm',\n 'https://tuoitre.vn/dien-dan.html',\n 'https://tuoitre.vn/media.htm',\n 'https://tuoitre.vn/phap-luat.htm',\n 'https://tuoitre.vn/video.htm',\n 'https://tuoitre.vn/']"
     },
     "execution_count": 3,
     "metadata": {},
     "output_type": "execute_result"
    }
   ],
   "source": [
    "list_category = []\n",
    "for url_home in url.list_url:\n",
    "    list_category += categorys.get_category_url_from_url(url_home)\n",
    "list_category"
   ]
  },
  {
   "cell_type": "code",
   "execution_count": 4,
   "metadata": {},
   "outputs": [
    {
     "data": {
      "text/plain": "58"
     },
     "execution_count": 4,
     "metadata": {},
     "output_type": "execute_result"
    }
   ],
   "source": [
    "len(list_category)"
   ]
  },
  {
   "cell_type": "code",
   "execution_count": 5,
   "metadata": {},
   "outputs": [],
   "source": [
    "news = News()"
   ]
  },
  {
   "cell_type": "code",
   "execution_count": 6,
   "metadata": {},
   "outputs": [
    {
     "name": "stdout",
     "output_type": "stream",
     "text": [
      "\n",
      "Done\n"
     ]
    },
    {
     "data": {
      "text/plain": "932"
     },
     "execution_count": 6,
     "metadata": {},
     "output_type": "execute_result"
    }
   ],
   "source": [
    "news.load_urls(list_category)\n",
    "len(news.list_url_news)"
   ]
  },
  {
   "cell_type": "code",
   "execution_count": 7,
   "metadata": {},
   "outputs": [
    {
     "name": "stdout",
     "output_type": "stream",
     "text": [
      "Loading 100.0%\n",
      "Done\n",
      "Done\n"
     ]
    }
   ],
   "source": [
    "news.load_text()\n",
    "print('Done')"
   ]
  },
  {
   "cell_type": "code",
   "execution_count": 8,
   "metadata": {},
   "outputs": [
    {
     "name": "stdout",
     "output_type": "stream",
     "text": [
      "932\n",
      "926\n",
      "926\n"
     ]
    }
   ],
   "source": [
    "print(len(news.list_url_news))\n",
    "print(len(news.list_title))\n",
    "print(len(news.list_text_news))"
   ]
  },
  {
   "cell_type": "code",
   "execution_count": 9,
   "metadata": {},
   "outputs": [
    {
     "name": "stdout",
     "output_type": "stream",
     "text": [
      "926\n",
      "Done\n"
     ]
    }
   ],
   "source": [
    "news.load_key()\n",
    "print(len(news.list_text_news))\n",
    "print('Done')"
   ]
  },
  {
   "cell_type": "code",
   "execution_count": 10,
   "metadata": {},
   "outputs": [],
   "source": [
    "news.write_data('datatemporary')"
   ]
  },
  {
   "cell_type": "code",
   "execution_count": 11,
   "metadata": {},
   "outputs": [
    {
     "name": "stdout",
     "output_type": "stream",
     "text": [
      "744769\n",
      "863\n"
     ]
    }
   ],
   "source": [
    "list_score = []\n",
    "# print(news.list_counter_keys)\n",
    "cnti= 0\n",
    "for i in news.list_counter_keys:\n",
    "    cntj = 0\n",
    "    for j in news.list_counter_keys:\n",
    "        list_score.append((news.compare(i, j), cnti, cntj))\n",
    "        cntj += 1\n",
    "    cnti += 1\n",
    "print(len(list_score))\n",
    "print(cnti)"
   ]
  },
  {
   "cell_type": "code",
   "execution_count": 12,
   "metadata": {},
   "outputs": [
    {
     "name": "stdout",
     "output_type": "stream",
     "text": [
      "[(11.532562594670797, 320, 360), (11.532562594670797, 360, 320), (13.114877048604, 339, 360), (13.114877048604, 360, 339), (14.66287829861518, 320, 339), (14.66287829861518, 339, 320), (16.0, 408, 725), (16.0, 725, 408), (16.401219466856727, 124, 137), (16.401219466856727, 137, 124), (16.46207763315433, 339, 352), (16.46207763315433, 352, 339), (16.911534525287763, 725, 858), (16.911534525287763, 858, 725), (17.26267650163207, 408, 858), (17.26267650163207, 858, 408), (17.944358444926362, 262, 276), (17.944358444926362, 276, 262), (18.05547008526779, 408, 803), (18.05547008526779, 803, 408)]\n"
     ]
    }
   ],
   "source": [
    "list_score = list(filter(lambda x : x[0]!=0.0, list_score))\n",
    "list_score = sorted(list_score, key=lambda x : x[0])\n",
    "print(list_score[:20])"
   ]
  },
  {
   "cell_type": "code",
   "execution_count": 13,
   "metadata": {},
   "outputs": [
    {
     "name": "stdout",
     "output_type": "stream",
     "text": [
      "Võ Nhật Vinh hiện là Nghiên cứu viên Đại học Caen Normandie, Pháp. Ông nhận bằng Tiến sĩ chuyên ngành Toán - Tin tại Đại học Tours (Pháp). Ông từng làm công tác nghiên cứu, giảng dạy tại Đại học Mở TP HCM, Đại học Tours (Pháp), Đại học Kỹ thuật Vienna (Áo), Đại học Kỹ thuật Hamburg (Đức), Đại học Valenciennes (Pháp). Các nghiên cứu của ông liên quan đến tối ưu lịch sản xuất, tối ưu hóa quan hệ giữa giá điện và hành vi sử dụng điện.\n",
      "-------------------\n",
      "Các nhà nghiên cứu chia sẻ hình ảnh quan sát trực tiếp hố đen siêu khối lượng ở trung tâm thiên hà M87 ở nhiều dải bước sóng của quang phổ điện từ..\n",
      ".\n",
      "Hố đen khổng lồ quan sát từ loạt kính viễn vọng mạnh nhất Các kính viễn vọng hợp lực quan sát hố đen M87. Video: Science Alert/EHT..\n",
      ".\n",
      "Cách đây hai năm, các nhà thiên văn học làm việc trong dự án Kính viễn vọng Chân trời sự kiện (EHT) công bố ảnh chụp hố đen M87 ở cách Trái Đất 55 triệu năm ánh sáng và có khối lượng lớn bằng 6,5 tỷ Mặt Trời. Bức ảnh này là hình ảnh quan sát trực tiếp đầu tiên của hố đen mà nhân loại từng ghi lại được. Vào mùa xuân năm 2017, nhóm nghiên cứu EHT thu thập một số dữ liệu giúp tạo ra bức ảnh đi vào lịch sử với gần 20 kính viễn vọng cực mạnh trên mặt đất và trong không gian đang dùng để nghiên cứu hố đen M87..\n",
      ".\n",
      "Nghiên cứu mới mô tả bộ dữ liệu khổng lồ này, bao gồm những quan sát ở nhiều dải bước sóng, thu thập thông qua Kính viễn vọng không gian Hubble của NASA, Đài quan sát tia X Chandra, Đài quan sát nhanh Neil Gehrels, Tập hợp kính viễn vọng phổ học hạt nhân (NuSTAR) và Kính viễn vọng không gian tia gamma Fermi, cùng với nhiều kính khác..\n",
      ".\n",
      "\"Chúng tôi biết bức ảnh trực tiếp đầu tiên của hố đen sẽ gây chấn động\", đồng tác giả nghiên cứu Kazuhiro Hada ở Đài quan sát Thiên văn Quốc gia Nhật Bản, cho biết. \"Nhưng để tìm hiểu nhiều nhất từ bức ảnh đặc biệt này, chúng tôi cần biết mọi thứ về hành vi của hố đen ở thời điểm đó bằng cách quan sát toàn bộ quang phổ điện từ\"..\n",
      ".\n",
      "Hành vi đó bao gồm phóng những luồng tia, hay chùm bức xạ và hạt di chuyển nhanh phun ra từ hố đen M87. Giới thiên văn học cho rằng luồng tia như vậy là nguồn tia vũ trụ mang năng lượng cao nhất với các hạt bay qua vũ trụ nhanh gần bằng tốc độ ánh sáng. Dữ liệu mới tổng hợp từ các đợt quan sát đồng thời trên quy mô rộng nhất từng được tiến hành với hố đen và luồng tia. Kết quả nghiên cứu được công bố trên tạp chí The Astrophysical Journal Letters..\n",
      ".\n",
      "Trong nghiên cứu, hình ảnh phóng to hé lộ chiếc bóng của M87 và hào quang ở bên trên. Hố đen siêu khối lượng đang hoạt động, phun ra vật chất từ đĩa khí và bụi nóng bao quanh. Một trong những quá trình phức tạp đang diễn ra là luồng tia tương đối phóng ra từ vùng cực của hố đen. Hiện nay, các nhà nghiên cứu cho rằng không thứ gì có thể thoát khỏi hố đen một khi tới quá gần, nhưng không phải mọi vật chất ở đĩa bồi tụ xoay quanh hố đen đều bị cuốn vào chân trời sự kiện. Vẫn có một lượng nhỏ vật chất di chuyển từ vùng phía trong đĩa bồi tụ tới vùng cực bằng cách nào đó, tại đó chúng bắn vào không gian dưới dạng luồng tia plasma ion hóa, ở tốc độ gần bằng vận tốc ánh sáng..\n",
      ".\n",
      "Các nhà nghiên cứu cho rằng từ trường của hố đen cũng góp phần vào quá trình trên. Theo giả thuyết này, những đường từ trường đóng vai trò như máy gia tốc thúc đẩy vật chất trước khi phóng chúng đi ở tốc độ cực lớn. Trong trường hợp của M87, tốc độ luồng tia tương đối bằng 99% vận tốc ánh sáng. Ánh sáng từ luồng tia trải khắp quang phổ điện từ. Do đó, quan sát luồng tia ở một dải bước sóng có thể dẫn tới sót thông tin về năng lượng của cấu trúc..\n",
      ".\n",
      "Phân tích đầu tiên của nhóm nghiên cứu về bộ dữ liệu rất thú vị. Kết quả phân tích hé lộ ở thời điểm Kính viễn vọng Chân trời sự kiện tiến hành các quan sát vào tháng 4/2017, vùng xung quanh hố đen đang ở thời kỳ mờ nhất, có nghĩa hố đen M87 trở thành vật sáng nhất trong môi trường xung quanh. Bức xạ gamma, có thể sinh ra từ tương tác với tia vũ trụ, không phát ra gần chân trời sự kiện của hố đen mà ở khu vực xa hơn..\n",
      ".\n",
      "An Khang (Theo Space)\n"
     ]
    }
   ],
   "source": [
    "print(news.list_text_news[561])\n",
    "print('-------------------')\n",
    "print(news.list_text_news[526])"
   ]
  },
  {
   "cell_type": "code",
   "execution_count": 14,
   "metadata": {},
   "outputs": [
    {
     "name": "stdout",
     "output_type": "stream",
     "text": [
      "{'các': 19, 'cho': 16, 'là': 15, 'miền': 14, 'của': 13, 'được': 13, 'không': 12, 'để': 11, 'những': 10, 'nông_sản': 10, 'có': 9, 'bán': 9, 'sẽ': 9, 'và': 9, 'Tây': 8, 'tôi': 8, 'với': 8, 'giá': 8, 'chị': 7, 'nước': 7, 'đưa': 7, 'tiền': 6, 'người': 6, 'biết': 6, 'họ': 6, 'một': 6, 'hơn': 6, 'nông_dân': 6, 'con': 6, 'dừa': 5, 'Tôi': 5, 'còn': 5, 'rồi': 5, 'trên': 5, 'có_thể': 5, 'khi': 4, 'hàng': 4, 'từ': 4, 'dì': 4, 'cũng': 4, 'vườn': 4, 'thấp': 4, 'Nếu': 4, 'nải': 4, 'chuối': 4, 'hay': 4, 'mình': 4, 'cả': 4, 'cách': 4, 'trong': 4, 'nông_nghiệp': 4, 'bền_vững': 4, 'cao': 4, 'cách_mạng': 4, 'nhiều': 4, 'đến': 4, 'gì': 4, 'bốn': 4, 'chấm': 4, 'phát_triển': 4, 'nhất': 3, 'hai': 3, 'Người': 3, 'Nam': 3, 'gọi': 3, 'về': 3, 'bằng': 3, 'vào': 3, 'quán': 3, 'hỏi': 3, 'này': 3, 'nên': 3, 'đây': 3, 'ra': 3, 'chỉ': 3, 'đồng': 3, 'chợ': 3, 'trái_cây': 3, 'cam': 3, 'bao_nhiêu': 3, 'đi': 3, '4.0': 3, 'giúp': 3, 'nghèo': 3, 'rất': 3, 'phải': 3, 'mà': 3, 'đầu_tư': 3, 'đường': 3, 'nâng_cấp': 3, 'tổ_chức': 3, 'mô_hình': 3, 'chính_sách': 3, 'thồi': 2, 'thối': 2, 'vừa': 2, 'Những': 2, 'đối_tác': 2, 'bước': 2, 'vùng': 2, 'menu': 2, 'quá': 2, 'rẻ': 2, 'sao': 2, 'đem': 2, 'trái': 2, 'tại': 2, 'nghìn': 2, 'nhiêu': 2, 'khu': 2, 'bạn': 2, 'nhỏ': 2, 'ít': 2, 'trước': 2, 'trưa': 2, 'mớ': 2, 'Họ': 2, 'mảnh': 2, 'theo': 2, 'nào': 2, 'tất_yếu': 2, 'thu_nhập': 2, 'việc': 2, 'làm': 2, 'di_cư': 2, 'lớn': 2, 'Việt_Nam': 2, 'năm': 2, 'đồng_bằng': 2, 'sông': 2, 'Cửu_Long': 2, 'coi': 2, 'giá_trị': 2, 'Mỹ': 2, 'cần': 2, 'nguồn': 2, 'chịu': 2, 'vì': 2, 'canh_tác': 2, 'nền': 2, 'công_nghiệp': 2, 'thực_sự': 2, 'mới_đây': 2, 'mobile': 2, 'money': 2, 'quả': 2, 'thành_phố': 2, 'thực_phẩm': 2, 'sạch': 2, 'ngồi': 2, 'online': 2, 'lựa_chọn': 2, 'nhấp': 2, 'chuột': 2, 'đó': 2, 'thích_ứng': 2, 'luôn': 2, 'hôm_nay': 2, 'cây': 2, 'nữa': 2, 'giảm': 2, 'tích_hợp': 2, 'sản_xuất': 2, 'tri_thức': 2, 'mở': 2, 'kết_nối': 2, 'thông_tin': 2, 'dữ_liệu': 2, 'chính': 2, 'nhà_nước': 2, 'hỗ_trợ': 2, 'đã': 2, 'ngay': 2, 'business': 2, 'to': 2, 'đang': 2, 'Bắc': 2, 'hiệp_sĩ': 2, 'Mỗi': 1, 'mua': 1, 'nhớ': 1, 'nói_chung': 1, 'trừ': 1, 'Tây_kêu': 1, 'nghe': 1, 'ngồ_ngộ': 1, 'gần_gũi': 1, 'dễ_thương': 1, 'lần': 1, 'Tây_làm_việc': 1, 'mọi': 1, 'mua_bán': 1, 'giao_dịch': 1, 'tiền_mặt': 1, 'Trong': 1, 'chuyến': 1, 'công_tác': 1, 'Bến_Tre': 1, 'năm_ngoái': 1, 'xuất_khẩu': 1, 'nhưng': 1, 'tại_sao': 1, 'món': 1, 'bạn_hàng': 1, 'địa_phương': 1, 'giải_thích': 1, 'tính': 1, 'Chủ': 1, 'cuối_cùng': 1, 'Chị': 1, 'bảo': 1, 'muốn': 1, 'rảo': 1, 'thấy': 1, 'chiếc': 1, 'rổ': 1, 'bày': 1, 'mặt': 1, 'Chục': 1, 'qủa': 1, 'xoài': 1, 'vú_sữa': 1, 'vài': 1, 'ba': 1, 'chục': 1, 'ngàn': 1, 'Gần': 1, 'trả': 1, 'mười': 1, 'gật': 1, 'đầu': 1, 'nhanh': 1, 'tất_tả': 1, 'nấu': 1, 'cơm': 1, 'tụi': 1, 'cá_thể': 1, 'thu': 1, 'hoa_lợi': 1, 'kiếm': 1, 'thêm': 1, 'mấy': 1, 'mắm_muối': 1, 'Ngoài': 1, 'thương_lái': 1, 'mùa': 1, 'chẳng': 1, 'phân_phối': 1, 'ngoài': 1, 'Và': 1, 'bao_giờ': 1, 'hôm': 1, 'ấy': 1, 'Như': 1, 'hệ_quả': 1, 'ruộng': 1, 'cha_ông': 1, 'lại': 1, 'so': 1, 'sức': 1, 'công_nhân': 1, 'Bình_Dương': 1, 'tạo': 1, 'dòng': 1, 'nội_địa': 1, 'vòng': 1, '10': 1, 'gần': 1, 'Nhiều': 1, 'lĩnh_vực': 1, 'sản_phẩm': 1, 'châu': 1, 'Âu': 1, 'chất_lượng': 1, 'hẳn': 1, 'khác': 1, 'thiếu': 1, 'quy_trình': 1, 'Hiện_tượng': 1, 'kết_quả': 1, 'Cuộc': 1, 'Bộ_trưởng': 1, 'Thông_tin': 1, 'truyền_thông': 1, 'chia_sẻ': 1, 'Ông': 1, 'rằng': 1, 'phù_hợp': 1, 'trung_bình': 1, 'vấn_đề': 1, 'lời_giải': 1, 'đột_phá': 1, 'Ví_dụ': 1, 'bà_con': 1, 'sẵn_sàng': 1, 'trả_giá': 1, 'chờ': 1, 'vị': 1, 'khách': 1, 'thì': 1, 'cá': 1, 'lên': 1, 'siêu_thị': 1, 'ship': 1, 'tận': 1, 'nhà': 1, 'Việc': 1, 'Tiền': 1, 'tài_khoản': 1, 'thẳng': 1, 'trường_học': 1, 'Miền': 1, 'Tây_ngày_càng': 1, 'thiệt_hại': 1, 'bởi': 1, 'thay_đổi': 1, 'tiêu_cực': 1, 'khí_hậu': 1, 'tin': 1, 'tìm': 1, 'như': 1, 'nay': 1, 'vẫn': 1, 'hồn_nhiên': 1, 'kho': 1, 'lương_thực': 1, 'Vấn_đề': 1, 'trồng': 1, 'nuôi': 1, 'nuôi_trồng': 1, 'xong': 1, 'Câu': 1, 'vùng_đất': 1, 'gắn': 1, 'liền': 1, 'câu': 1, 'làm_sao': 1, 'Tây_bán': 1, 'dễ': 1, 'tốt': 1, 'Nó': 1, 'trả_lời': 1, 'nếu': 1, 'cuộc': 1, 'Hai': 1, 'tỷ': 1, 'USD': 1, 'chính_phủ': 1, 'quyết_định': 1, 'tin_vui': 1, 'nông_thôn': 1, 'Tây_thông_qua': 1, 'hành_động': 1, 'nâng': 1, 'nhận_thức': 1, 'năng_lực': 1, 'dân': 1, 'xây_dựng': 1, 'chuỗi': 1, 'đường_bộ': 1, 'Internet': 1, 'ứng_dụng': 1, 'phần_mềm': 1, 'Thay_vì': 1, 'kêu_gọi': 1, 'Đồng_bằng': 1, 'gấp_rút': 1, 'bổ_sung': 1, 'kinh_tế': 1, 'mong_muốn': 1, 'tập_huấn': 1, 'đào_tạo': 1, 'bài_bản': 1, 'trở_thành': 1, 'chuyên_nghiệp': 1, 'Đồng_Tháp': 1, 'lớp': 1, 'huấn_luyện': 1, 'như_vậy': 1, 'Bà_con': 1, 'học': 1, 'thế_nào': 1, 'an_toàn': 1, 'vệ_sinh': 1, 'quy_luật': 1, 'cung_cầu': 1, 'tới': 1, 'kênh': 1, 'thương_mại': 1, 'điện_tử': 1, 'Xây_dựng': 1, 'cơ_sở': 1, 'mạng_lưới': 1, 'đáng': 1, 'lúc': 1, 'hình_dung': 1, 'thời_đại': 1, 'nay_mai': 1, 'thôi': 1, 'mời': 1, 'vô': 1, 'sàn': 1, 'B2B': 1, 'B2C': 1, 'buniness': 1, 'customer': 1, 'quẹt': 1, 'điện_thoại': 1, 'hợp_tác_xã': 1, 'thằng': 1, 'chả': 1, 'Đức': 1, 'đâu': 1, 'qua': 1, 'cổng': 1, 'cơ_quan': 1, 'chuyên_trách': 1, 'liên_tục': 1, 'cập_nhật': 1, 'Để': 1, 'tự_tin': 1, 'chốt': 1, 'đơn': 1, 'đồng_ruộng': 1, 'Đây': 1, 'giấc': 1, 'mơ': 1, 'hoàn_toàn': 1, 'có_thể_hiện_thực': 1, 'Đang': 1, 'xã_hội': 1, 'phi_chính_phủ': 1, 'thí_điểm': 1, 'tương_tự_tại': 1, 'tài_trợ': 1, 'quốc_tế': 1, 'khái_niệm': 1, 'tức': 1, 'dự_án': 1, 'cấu': 1, 'phần': 1, 'vận_động': 1, 'hoặc': 1, 'chính_sách_hóa': 1, 'mong_mỏi': 1, 'người_làm': 1, 'ngành': 1, 'chủ_động': 1, 'tiếp_cận': 1, 'Chúng_ta': 1, 'đường_phố': 1, 'liệu': 1, 'mơ_mộng': 1, 'mong': 1, 'Kiến_thiết': 1, 'Khi': 1, 'Trần_Ban_Hùng': 1}\n",
      "{'the': 28, 'in': 10, 'of': 9, 'quarter': 7, 'and': 7, 'million': 6, 'year': 6, '19': 5, 'first': 5, 'percent': 5, 'Covid': 4, 'with': 4, 'GSO': 4, 'by': 4, 'on': 4, 'was': 4, 'or': 3, 'their': 3, 'reduced': 3, 'against': 3, 'previous': 3, 'to': 3, 'Vietnam': 3, 'as': 3, 'new': 2, 'had': 2, 'incomes': 2, 'affected': 2, 'labor': 2, 'government': 2, 'many': 2, 'down': 2, 'percentage': 2, 'points': 2, 'up': 2, 'impacts': 2, 'outbreak': 1, 'late': 1, 'January': 1, 'left': 1, '9.1': 1, 'Vietnamese': 1, 'aged': 1, '15': 1, 'above': 1, 'unemployed': 1, 'having': 1, 'Among': 1, '540,000': 1, 'lost': 1, 'jobs': 1, 'during': 1, 'period': 1, 'while': 1, '3.1': 1, 'working': 1, 'hours': 1, 'took': 1, 'unpaid': 1, 'leave': 1, '6.5': 1, 'others': 1, 'reporting': 1, 'General_Statistics_Office': 1, 'reported': 1, 'Friday': 1, 'The_country': 1, 'force': 1, 'shrunk': 1, '1.1': 1, '51': 1, 'report': 1, 'stated': 1, 'Pham_Hoai_Nam': 1, 'head': 1, 'department': 1, 'population': 1, 'statistics': 1, 'blamed': 1, 'dark': 1, 'picture': 1, 'resurgence': 1, 'before': 1, 'Lunar_New_Year': 1, 'country': 1, 'biggest': 1, 'festival': 1, 'encountered': 1, 'wave': 1, 'Jan': 1, '28': 1, 'what': 1, 'said': 1, 'caused': 1, 'U.': 1, 'K.': 1, 'originated': 1, 'variant': 1, 'In_February': 1, 'areas': 1, 'were': 1, 'placed': 1, 'under': 1, 'lockdown': 1, 'authorities': 1, 'raced': 1, 'time': 1, 'contain': 1, 'spread': 1, 'virus': 1, 'The_service': 1, 'sector': 1, 'hit': 1, 'hardest': 1, 'crisis': 1, '20.4': 1, 'workers': 1, 'followed': 1, 'processing': 1, 'manufacturing': 1, 'industries': 1, 'along': 1, 'agriculture': 1, 'The_average': 1, 'monthly': 1, 'income': 1, 'VND6': 1, '272.95': 1, '2.3': 1, 'over': 1, 'According': 1, 'unemployment': 1, 'rate': 1, '2.42': 1, '0.21': 1, '0.08': 1, 'Severe_Covid': 1, 'have': 1, 'seen': 1, '40,300': 1, 'companies': 1, 'shut': 1, 'shop': 1, 'increase': 1, '16': 1, 'hoped': 1, 'would': 1, 'soon': 1, 'implement': 1, 'vaccine': 1, 'passport': 1, 'so': 1, 'aviation': 1, 'tourism': 1, 'services': 1, 'could': 1, 'recover': 1, 'from': 1, 'pandemic': 1, 'The_government': 1, 'closed': 1, 'borders': 1, 'canceled': 1, 'all': 1, 'international': 1, 'flights': 1, 'March': 1, 'last': 1, 'allowing': 1, 'only': 1, 'certain': 1, 'categories': 1, 'people': 1, 'including': 1, 'foreign': 1, 'diplomats': 1, 'specialists': 1, 'stringent': 1, 'conditions': 1, 'GDP': 1, 'grew': 1, '4.48': 1}\n"
     ]
    }
   ],
   "source": [
    "# 526, 561\n",
    "print(news.list_counter_keys[526])\n",
    "print(news.list_counter_keys[561])"
   ]
  },
  {
   "cell_type": "code",
   "execution_count": 15,
   "metadata": {},
   "outputs": [],
   "source": [
    "# news.load_data('datatemporary')\n",
    "# print(len(news.list_url_news))\n",
    "# print(len(news.list_text_news))"
   ]
  },
  {
   "cell_type": "code",
   "execution_count": 16,
   "metadata": {},
   "outputs": [],
   "source": [
    "# news.write_data('datatemporary')"
   ]
  }
 ],
 "metadata": {
  "kernelspec": {
   "display_name": "Python 3.8.5 64-bit",
   "name": "python385jvsc74a57bd0916dbcbb3f70747c44a77c7bcd40155683ae19c65e1c03b4aa3499c5328201f1"
  },
  "language_info": {
   "codemirror_mode": {
    "name": "ipython",
    "version": 3
   },
   "file_extension": ".py",
   "mimetype": "text/x-python",
   "name": "python",
   "nbconvert_exporter": "python",
   "pygments_lexer": "ipython3",
   "version": "3.8.5"
  },
  "metadata": {
   "interpreter": {
    "hash": "916dbcbb3f70747c44a77c7bcd40155683ae19c65e1c03b4aa3499c5328201f1"
   }
  },
  "orig_nbformat": 2
 },
 "nbformat": 4,
 "nbformat_minor": 2
}
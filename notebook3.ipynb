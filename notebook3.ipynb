{
 "cells": [
  {
   "cell_type": "code",
   "execution_count": 2,
   "metadata": {},
   "outputs": [],
   "source": [
    "from api import News\n",
    "from api import Keyword\n",
    "from api import Url\n",
    "from api import Category"
   ]
  },
  {
   "cell_type": "code",
   "execution_count": 3,
   "metadata": {},
   "outputs": [],
   "source": [
    "url = Url('urls.txt')\n",
    "key = Keyword('keywords.txt')\n",
    "categorys = Category()"
   ]
  },
  {
   "cell_type": "code",
   "execution_count": 4,
   "metadata": {},
   "outputs": [
    {
     "data": {
      "text/plain": "['https://vnexpress.net/\\n',\n 'https://vnexpress.net/the-thao',\n 'https://vnexpress.net/doi-song',\n 'https://vnexpress.net/suc-khoe',\n 'https://vnexpress.net/oto-xe-may',\n 'https://vnexpress.net/thoi-su',\n 'https://video.vnexpress.net',\n 'https://e.vnexpress.net',\n 'https://vnexpress.net/tam-su',\n 'https://vnexpress.net/giai-tri',\n 'https://vnexpress.net/goc-nhin',\n 'https://vnexpress.net/khoa-hoc',\n 'https://vnexpress.net',\n 'https://vnexpress.net/kinh-doanh',\n 'https://vnexpress.net/y-kien',\n 'https://vnexpress.net/du-lich',\n 'https://vnexpress.net/so-hoa',\n 'https://vnexpress.net/the-gioi',\n 'https://vnexpress.net/giao-duc',\n 'https://vnexpress.net/hai',\n 'https://vnexpress.net/phap-luat',\n 'https://vnexpress.net/tin-tuc-24h',\n 'https://vnexpress.net/\\n',\n 'https://www.24h.com.vn/\\n',\n 'https://www.24h.com.vn/\\n',\n 'https://tuoitre.vn/',\n 'http://id.tuoitre.vn',\n 'https://tuoitre.vn/giai-tri.htm',\n 'https://tuoitre.vn/can-biet.htm',\n 'https://tuoitre.vn/photo.htm',\n 'https://tv.tuoitre.vn',\n 'https://dulich.tuoitre.vn',\n 'https://tuoitre.vn/gia-that.htm',\n 'https://cuoi.tuoitre.vn',\n 'https://tuoitre.vn/giao-duc.htm',\n 'https://tuoitre.vn',\n 'http://pay.tuoitre.vn',\n 'https://tuoitre.vn/phap-luat.htm',\n 'https://quangcao.tuoitre.vn',\n 'https://tuoitre.vn/khoa-hoc.htm',\n 'https://tuyensinh.tuoitre.vn',\n 'https://tuoitre.vn/the-thao.htm',\n 'https://thethao.tuoitre.vn',\n 'https://congnghe.tuoitre.vn',\n 'https://tuoitre.vn/van-hoa.htm',\n 'https://tuoitre.vn/thoi-su.htm',\n 'https://nhadat.tuoitre.vn',\n 'https://tuoitre.vn/cong-nghe.htm',\n 'https://tuoitre.vn/dien-dan.html',\n 'https://tuoitre.vn/video.htm',\n 'https://tuoitre.vn/nha-dat.htm',\n 'https://tuoitre.vn/suc-khoe.htm',\n 'https://beta.tuoitre.vn',\n 'https://tuoitre.vn/the-gioi.htm',\n 'https://tuoitre.vn/xe.htm',\n 'https://tuoitre.vn/media.htm',\n 'https://cuoituan.tuoitre.vn',\n 'https://tuoitre.vn/']"
     },
     "execution_count": 4,
     "metadata": {},
     "output_type": "execute_result"
    }
   ],
   "source": [
    "list_category = []\n",
    "for url_home in url.list_url:\n",
    "    list_category += categorys.get_category_url_from_url(url_home)\n",
    "list_category"
   ]
  },
  {
   "cell_type": "code",
   "execution_count": 5,
   "metadata": {},
   "outputs": [
    {
     "data": {
      "text/plain": "58"
     },
     "execution_count": 5,
     "metadata": {},
     "output_type": "execute_result"
    }
   ],
   "source": [
    "len(list_category)"
   ]
  },
  {
   "cell_type": "code",
   "execution_count": 6,
   "metadata": {},
   "outputs": [],
   "source": [
    "news = News()"
   ]
  },
  {
   "cell_type": "code",
   "execution_count": 7,
   "metadata": {},
   "outputs": [
    {
     "data": {
      "text/plain": "935"
     },
     "execution_count": 7,
     "metadata": {},
     "output_type": "execute_result"
    }
   ],
   "source": [
    "news.load_urls(list_category)\n",
    "len(news.list_url_news)"
   ]
  },
  {
   "cell_type": "code",
   "execution_count": 8,
   "metadata": {},
   "outputs": [],
   "source": [
    "news.load_text()\n",
    "print('Done')"
   ]
  },
  {
   "cell_type": "code",
   "execution_count": 9,
   "metadata": {},
   "outputs": [
    {
     "name": "stdout",
     "output_type": "stream",
     "text": [
      "Done\n",
      "935\n",
      "930\n",
      "930\n"
     ]
    }
   ],
   "source": [
    "print(len(news.list_url_news))\n",
    "print(len(news.list_title))\n",
    "print(len(news.list_text_news))"
   ]
  },
  {
   "cell_type": "code",
   "execution_count": 10,
   "metadata": {},
   "outputs": [
    {
     "name": "stdout",
     "output_type": "stream",
     "text": [
      "930\n",
      "Done\n"
     ]
    }
   ],
   "source": [
    "news.load_key()\n",
    "print(len(news.list_text_news))\n",
    "print('Done')"
   ]
  },
  {
   "cell_type": "code",
   "execution_count": 11,
   "metadata": {},
   "outputs": [],
   "source": [
    "# news.write_data('datatemporary')"
   ]
  },
  {
   "cell_type": "code",
   "execution_count": 12,
   "metadata": {},
   "outputs": [
    {
     "name": "stdout",
     "output_type": "stream",
     "text": [
      "751689\n",
      "867\n"
     ]
    }
   ],
   "source": [
    "list_score = []\n",
    "# print(news.list_counter_keys)\n",
    "cnti= 0\n",
    "for i in news.list_counter_keys:\n",
    "    cntj = 0\n",
    "    for j in news.list_counter_keys:\n",
    "        list_score.append((news.compare(i, j), cnti, cntj))\n",
    "        cntj += 1\n",
    "    cnti += 1\n",
    "print(len(list_score))\n",
    "print(cnti)"
   ]
  },
  {
   "cell_type": "code",
   "execution_count": 13,
   "metadata": {},
   "outputs": [
    {
     "name": "stdout",
     "output_type": "stream",
     "text": [
      "[(11.532562594670797, 634, 645), (11.532562594670797, 645, 634), (14.66287829861518, 807, 822), (14.66287829861518, 822, 807), (14.730919862656235, 613, 634), (14.730919862656235, 634, 613), (15.362291495737216, 613, 645), (15.362291495737216, 645, 613), (18.920887928424502, 87, 388), (18.920887928424502, 388, 87), (19.261360284258224, 193, 388), (19.261360284258224, 388, 193), (19.390719429665317, 353, 388), (19.390719429665317, 388, 353), (19.493588689617926, 193, 251), (19.493588689617926, 251, 193), (19.519221295943137, 99, 251), (19.519221295943137, 251, 99), (19.519221295943137, 251, 388), (19.519221295943137, 388, 251)]\n"
     ]
    }
   ],
   "source": [
    "list_score = list(filter(lambda x : x[0]!=0.0, list_score))\n",
    "list_score = sorted(list_score, key=lambda x : x[0])\n",
    "print(list_score[:20])"
   ]
  },
  {
   "cell_type": "code",
   "execution_count": 14,
   "metadata": {},
   "outputs": [
    {
     "name": "stdout",
     "output_type": "stream",
     "text": [
      "Volleyballer Nguyen Thi Bich Tuyen has scored 61 points in a National Volleyball Championship match to break the world record..\n",
      ".\n",
      "The 21-year-old was playing in the tournament for Ninh Binh Doveco against Than Quang Ninh on April 21. Ninh Binh won 3-2 to finish third in the tournament..\n",
      ".\n",
      "Nguyen Thi Bich Tuyen at the Vietnam National Volleyball Championship 2021. Photo courtesy of Vietnam Volleyball Federation..\n",
      ".\n",
      "The previous world record of 59 points was set by Cuban male player Leonardo Leyva in 2013..\n",
      ".\n",
      "Tuyen was hailed by the Asian Volleyball Confederation (AVC) for her stellar performance and stealing \"the limelight.\".\n",
      ".\n",
      "It said on its website: \"Bich Tuyen's strength lies in lightning-fast and powerful attacks described incredibly as the same destructive power as male athletes. It seems that Bich Tuyen was born to play volleyball.\".\n",
      ".\n",
      "Her appearance on the AVC website sparked off comments about her gender just as happened to Indonesian player Aprilia Manganang..\n",
      ".\n",
      "It turned out that Manganang was indeed a man after a gender test..\n",
      ".\n",
      "Some also defended Tuyen saying she looks like a woman.\n",
      "-------------------\n",
      "Tôi lấy chồng và có hai con. Chồng là người chu đáo, biết quan tâm và chăm sóc gia đình nhưng rất nóng tính, gia trưởng..\n",
      ".\n",
      "Cưới anh giống như định mệnh của cuộc đời tôi. Chúng tôi cưới được 11 năm rồi, cuộc sống vợ chồng không thể tránh những lúc cơm không lành canh không ngọt. Nhiều lúc anh tức giận và đánh tôi. Tôi nghĩ do anh yêu mình nên luôn chấp nhận và nghe theo lời anh. Có những lúc tôi tủi thân, rồi vì thương con và còn tình cảm với chồng nên lại như con mèo ngoan ngoãn, ra sức chăm sóc gia đình và yêu thương chồng con..\n",
      ".\n",
      "Rồi tôi càng cố gắng càng không thể đáp ứng được mẫu người vợ mà chồng mong muốn. Tôi bỏ rất nhiều tâm huyết nấu một bữa cơm ngon cho chồng, thế nhưng nhận lại là những lời chê bai, rất ít khi chồng khen những việc tôi làm. Tôi buồn và khóc một mình, nghĩ cuộc sống do mình lựa chọn nên chấp nhận tất cả, cố gắng hoàn thiện bản thân..\n",
      ".\n",
      "Cuộc sống tôi không có gì phải phàn nàn, đến khi sinh con đầu lòng tôi bận chăm con. Đứa đầu của tôi rất khó nuôi, khó ăn khó ngủ, tôi dường như bị trầm cảm. Rồi mọi việc cũng qua nhưng tình cảm vợ chồng tôi nhạt dần. Anh ngại gần gũi tôi, chuyện quan hệ của chúng tôi chỉ đếm trên đầu ngón tay. Tôi cứ nghĩ chắc do mình lo cho con quá, không có thời gian chăm sóc bản thân. Nhiều lúc tôi phát hiện chồng xem những đoạn phim cấp 3, hỏi thì chồng bảo thấy tôi mệt nên tự giải quyết. Tôi cũng không để tâm nhiều đến vấn đề này, cứ nghĩ anh nói thật. Thời gian cứ trôi đi, tôi tiếp tục sinh bé thứ hai, chuyện con cái cứ lặp lại như thế..\n",
      ".\n",
      "Vừa qua, tôi vô tình phát hiện chồng đã lừa dối 10 năm nay, anh quen rất nhiều cô gái bên ngoài. Nhiều đêm anh về khuya, bỏ tôi nằm một mình với con; cuối tuần anh dành thời gian cho những cô gái đó. Tôi hận mình vì đã tin tưởng chồng quá nhiều. Điện thoại anh cài mật khẩu, chăm chút bản thân nhiều hơn, thích chụp hình tự sướng. Tôi có thời gian dài trầm cảm, không còn muốn sống trên đời này nữa, thế nhưng vì thương con nên phải sống có trách nhiệm với chúng. Tôi chấp nhận và cố gắng làm lại từ đầu với chồng..\n",
      ".\n",
      "Từ đó, tôi sống cho mình nhiều hơn, tìm lại bản thân. Dường như mọi chuyện cũng không tiến triển gì mấy, chúng tôi hay cãi vã. Chồng luôn muốn tôi phải nghe lời anh mặc cảm xúc của tôi ra sao, suy nghĩ thế nào. Trước đây, do sợ bị đánh nên tôi tự nhủ để sống yên ổn thì chịu khó làm theo ý anh, nghĩ chồng là người tốt. Từ khi biết anh lừa dối, tôi không còn phải phục tùng, muốn phản kháng và cuối cùng lại bị đánh..\n",
      ".\n",
      "Tôi thương hai con nên nhẫn nhịn và chấp nhận ở lại, có điều vợ chồng không còn nói chuyện nữa. Anh dường như không quan tâm tôi như thế nào, mặc kệ tôi làm gì cũng được. Giờ đây, tôi cô đơn vô cùng, bế tắc, không biết phải làm gì để tìm hướng đi đúng nhất. Nếu ly dị, hai con tôi sẽ bị chia cắt, sống không đầy đủ tình thương. Anh em chúng quấn quýt bên nhau, tôi không thể nào tách rời chúng, rất tội..\n",
      ".\n",
      "Tôi buồn quá, không biết tâm sự với ai, mạo muội ghi những dòng chữ này để tìm những lời động viên, an ủi và đồng cảm. Tôi cần nghe những lời khuyên nhủ để có chút sinh khí đón nhận tất cả sóng gió trong cuộc đời mình..\n",
      ".\n",
      "Quỳnh.\n",
      ".\n",
      "Độc giả gọi vào số 09 6658 1270 để được hỗ trợ, giải đáp thắc mắc.\n"
     ]
    }
   ],
   "source": [
    "print(news.list_text_news[136])\n",
    "print('-------------------')\n",
    "print(news.list_text_news[146])"
   ]
  },
  {
   "cell_type": "code",
   "execution_count": 15,
   "metadata": {},
   "outputs": [
    {
     "name": "stdout",
     "output_type": "stream",
     "text": [
      "{'chương_trình': 9, 'Sa_Pa': 8, 'du_khách': 7, 'khách': 6, 'các': 5, 'đến': 5, 'thị_xã': 5, 'là': 5, 'du_lịch': 5, 'biểu_diễn': 4, 'nghệ_thuật': 4, 'và': 4, 'ngày': 4, 'lượng': 4, 'phòng': 4, 'cho': 3, 'nhiều': 3, 'thực_hiện': 3, 'để': 3, 'được': 3, 'tổ_chức': 3, 'của': 3, 'đạt': 3, 'lượt': 3, 'tuần': 3, 'tới': 3, 'trên': 3, 'dịch_vụ': 3, 'Lào_Cai': 3, '24': 2, 'đón': 2, 'xem': 2, 'Rock': 2, 'and': 2, 'tại': 2, 'sân': 2, 'quần': 2, 'đường': 2, 'trung_tâm': 2, 'ùn': 2, 'biết': 2, 'từ': 2, 'sớm': 2, 'kín': 2, 'vẫn': 2, 'đầu': 2, 'Văn_hóa': 2, 'trong': 2, 'cuối': 2, 'năm': 2, 'nay': 2, 'cơ_sở': 2, 'lưu_trú': 2, 'Theo': 2, 'tăng': 2, 'do': 2, 'kích_cầu': 2, '2021': 2, 'đã': 2, 'giảm_giá': 2, 'sự_kiện': 2, 'thu_hút': 2, 'khu': 2, 'Lào': 1, 'CaiTối': 1, 'hàng': 1, 'nghìn': 1, 'Symphony': 1, 'khiến': 1, 'Anh': 1, 'Nguyễn_Hiếu': 1, 'Bắc_Giang': 1, 'rất': 1, 'ngồi': 1, 'đứng': 1, 'khu_vực': 1, 'Tuy_nhiên': 1, 'chưa': 1, 'đeo': 1, 'khẩu_trang': 1, 'thông_điệp': 1, '5K': 1, 'phòng_chống': 1, 'dịch': 1, 'Lực_lượng': 1, 'chức_năng': 1, 'có_mặt': 1, 'phân': 1, 'làn': 1, 'tuyến': 1, 'đông_đúc': 1, 'phương_tiện': 1, 'hạn_chế': 1, 'tình_trạng': 1, 'Chương_trình': 1, 'Sumphony': 1, 'lần': 1, 'nhận': 1, 'sự': 1, 'quan_tâm': 1, 'Ảnh': 1, 'Nguyễn': 1, 'Hiếu': 1, 'Bà': 1, 'Hoàng_Thị_Vượng': 1, 'trưởng': 1, 'Phòng': 1, 'Thông_tin': 1, 'riêng': 1, '24.797': 1, 'Tổng_lượng': 1, '54.520': 1, 'cao': 1, 'nhất': 1, 'Tỷ_lệ': 1, 'lấp': 1, 'địa_bàn': 1, '90': 1, 'bà': 1, 'Vượng': 1, 'mạnh': 1, 'triển_khai': 1, 'một_cách': 1, 'tổng_thể': 1, 'đồng_bộ': 1, 'Cụ_thể': 1, 'nhưng': 1, 'cam_kết': 1, 'về': 1, 'chất_lượng': 1, 'đặc_sắc': 1, 'tốt': 1, 'công_tác': 1, 'truyền_thông': 1, 'Trong': 1, 'Sun': 1, 'World': 1, 'Fansipan': 1, 'Legend': 1, 'cũng': 1, '77': 1, 'so': 1, 'với': 1, 'trước': 1, 'đó': 1, '26': 1, 'cuối_cùng': 1, 'áp_dụng': 1, 'giảm': 1, '73': 1, 'giá': 1, 'vé': 1, 'cáp': 1, 'treo': 1, 'người': 1, 'dân': 1, 'Tây_Bắc': 1, 'Lai_Châu': 1, 'Sơn_La': 1, 'Điện_Biên': 1, 'Yên_Bái': 1, 'Hòa_Bình': 1, 'thống_kê': 1, 'Sở': 1, 'Thể_thao': 1, 'Du_lịch': 1, 'dựa': 1, 'đặt': 1, 'dự_kiến': 1, 'khoảng': 1, '42.000': 1, 'dịp': 1, 'nghỉ': 1, 'lễ': 1, '30': 1, 'Đến': 1, 'phần_lớn': 1, 'chỉ': 1, 'còn': 1, 'lại': 1, 'số_ít': 1, 'bên': 1, 'đối_tác': 1, 'giữ': 1, 'Năm': 1, 'Hương': 1, 'sắc': 1, 'loạt': 1, 'hoạt_động': 1, 'như': 1, 'Lễ_hội': 1, 'hoa': 1, 'thổ_cẩm': 1, '29': 1, 'Tái_hiện': 1, 'chợ': 1, 'tình': 1, '...': 1, 'Ngoài_ra': 1, '70': 1, 'Lan_Hương': 1}\n",
      "{'xăng': 3, 'Khi': 1, 'phải': 1, 'đổ': 1, 'cho': 1, 'xe': 1, 'tôi': 1, 'để_ý': 1, 'tìm': 1, 'điểm': 1, 'bán': 1, 'có': 1, 'vẻ': 1, 'tin_cậy': 1, 'chú_ý': 1, 'nhìn': 1, 'kim': 1, 'bơm': 1}\n"
     ]
    }
   ],
   "source": [
    "# 526, 561\n",
    "print(news.list_counter_keys[386])\n",
    "print(news.list_counter_keys[397])"
   ]
  },
  {
   "cell_type": "code",
   "execution_count": 16,
   "metadata": {},
   "outputs": [
    {
     "name": "stdout",
     "output_type": "stream",
     "text": [
      "https://vnexpress.net/vo-chong-toi-nhu-tre-con-4267764.html\n",
      "https://vnexpress.net/ba-me-chong-thuc-giuc-toi-phai-kiem-tien-4265597.html\n"
     ]
    }
   ],
   "source": [
    "print(news.list_url_news[136])\n",
    "print(news.list_url_news[146])"
   ]
  },
  {
   "cell_type": "code",
   "execution_count": 17,
   "metadata": {},
   "outputs": [],
   "source": [
    "# news.load_data('datatemporary')\n",
    "# print(len(news.list_url_news))\n",
    "# print(len(news.list_text_news))"
   ]
  },
  {
   "cell_type": "code",
   "execution_count": 18,
   "metadata": {},
   "outputs": [],
   "source": [
    "# news.write_data('datatemporary')"
   ]
  }
 ],
 "metadata": {
  "kernelspec": {
   "display_name": "Python 3.8.5 64-bit",
   "name": "python385jvsc74a57bd0916dbcbb3f70747c44a77c7bcd40155683ae19c65e1c03b4aa3499c5328201f1"
  },
  "language_info": {
   "codemirror_mode": {
    "name": "ipython",
    "version": 3
   },
   "file_extension": ".py",
   "mimetype": "text/x-python",
   "name": "python",
   "nbconvert_exporter": "python",
   "pygments_lexer": "ipython3",
   "version": "3.8.5"
  },
  "metadata": {
   "interpreter": {
    "hash": "916dbcbb3f70747c44a77c7bcd40155683ae19c65e1c03b4aa3499c5328201f1"
   }
  },
  "orig_nbformat": 2
 },
 "nbformat": 4,
 "nbformat_minor": 2
}
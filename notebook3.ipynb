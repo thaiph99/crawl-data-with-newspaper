{
 "cells": [
  {
   "cell_type": "code",
   "execution_count": 1,
   "metadata": {},
   "outputs": [],
   "source": [
    "from api import News\n",
    "from api import Keyword\n",
    "from api import Url\n",
    "from api import Category"
   ]
  },
  {
   "cell_type": "code",
   "execution_count": 2,
   "metadata": {},
   "outputs": [],
   "source": [
    "url = Url('urls.txt')\n",
    "key = Keyword('keywords.txt')\n",
    "categorys = Category()"
   ]
  },
  {
   "cell_type": "code",
   "execution_count": 3,
   "metadata": {},
   "outputs": [
    {
     "data": {
      "text/plain": "['https://vnexpress.net/\\n',\n 'https://vnexpress.net/giai-tri',\n 'https://vnexpress.net/so-hoa',\n 'https://vnexpress.net/hai',\n 'https://vnexpress.net/y-kien',\n 'https://e.vnexpress.net',\n 'https://vnexpress.net/phap-luat',\n 'https://video.vnexpress.net',\n 'https://vnexpress.net/thoi-su',\n 'https://vnexpress.net/doi-song',\n 'https://vnexpress.net/giao-duc',\n 'https://vnexpress.net/kinh-doanh',\n 'https://vnexpress.net/tin-tuc-24h',\n 'https://vnexpress.net/khoa-hoc',\n 'https://vnexpress.net/suc-khoe',\n 'https://vnexpress.net/tam-su',\n 'https://vnexpress.net/goc-nhin',\n 'https://vnexpress.net/du-lich',\n 'https://vnexpress.net',\n 'https://vnexpress.net/oto-xe-may',\n 'https://vnexpress.net/the-thao',\n 'https://vnexpress.net/the-gioi',\n 'https://vnexpress.net/\\n',\n 'https://www.24h.com.vn/\\n',\n 'https://www.24h.com.vn/\\n',\n 'https://congnghe.tuoitre.vn',\n 'https://tuoitre.vn/',\n 'https://tuoitre.vn/gia-that.htm',\n 'http://id.tuoitre.vn',\n 'https://dulich.tuoitre.vn',\n 'https://tv.tuoitre.vn',\n 'https://tuoitre.vn/suc-khoe.htm',\n 'https://tuoitre.vn/xe.htm',\n 'https://tuoitre.vn/van-hoa.htm',\n 'https://tuoitre.vn/the-gioi.htm',\n 'https://tuoitre.vn/giai-tri.htm',\n 'https://quangcao.tuoitre.vn',\n 'https://tuoitre.vn/dien-dan.html',\n 'https://tuoitre.vn/giao-duc.htm',\n 'https://tuoitre.vn/can-biet.htm',\n 'https://tuyensinh.tuoitre.vn',\n 'https://beta.tuoitre.vn',\n 'https://nhadat.tuoitre.vn',\n 'https://tuoitre.vn/media.htm',\n 'https://tuoitre.vn/khoa-hoc.htm',\n 'https://cuoi.tuoitre.vn',\n 'https://tuoitre.vn',\n 'https://tuoitre.vn/thoi-su.htm',\n 'https://cuoituan.tuoitre.vn',\n 'http://pay.tuoitre.vn',\n 'https://tuoitre.vn/photo.htm',\n 'https://thethao.tuoitre.vn',\n 'https://tuoitre.vn/video.htm',\n 'https://tuoitre.vn/phap-luat.htm',\n 'https://tuoitre.vn/cong-nghe.htm',\n 'https://tuoitre.vn/nha-dat.htm',\n 'https://tuoitre.vn/the-thao.htm',\n 'https://tuoitre.vn/']"
     },
     "execution_count": 3,
     "metadata": {},
     "output_type": "execute_result"
    }
   ],
   "source": [
    "list_category = []\n",
    "for url_home in url.list_url:\n",
    "    list_category += categorys.get_category_url_from_url(url_home)\n",
    "list_category"
   ]
  },
  {
   "cell_type": "code",
   "execution_count": 4,
   "metadata": {},
   "outputs": [
    {
     "data": {
      "text/plain": "58"
     },
     "execution_count": 4,
     "metadata": {},
     "output_type": "execute_result"
    }
   ],
   "source": [
    "len(list_category)"
   ]
  },
  {
   "cell_type": "code",
   "execution_count": 5,
   "metadata": {},
   "outputs": [],
   "source": [
    "news = News()"
   ]
  },
  {
   "cell_type": "code",
   "execution_count": 6,
   "metadata": {},
   "outputs": [
    {
     "name": "stdout",
     "output_type": "stream",
     "text": [
      "\n",
      "Done\n"
     ]
    },
    {
     "data": {
      "text/plain": "929"
     },
     "execution_count": 6,
     "metadata": {},
     "output_type": "execute_result"
    }
   ],
   "source": [
    "news.load_urls(list_category)\n",
    "len(news.list_url_news)"
   ]
  },
  {
   "cell_type": "code",
   "execution_count": 7,
   "metadata": {},
   "outputs": [
    {
     "name": "stdout",
     "output_type": "stream",
     "text": [
      "\n",
      "Done\n",
      "Done\n"
     ]
    }
   ],
   "source": [
    "news.load_text()\n",
    "print('Done')"
   ]
  },
  {
   "cell_type": "code",
   "execution_count": 8,
   "metadata": {},
   "outputs": [
    {
     "name": "stdout",
     "output_type": "stream",
     "text": [
      "929\n",
      "924\n",
      "924\n"
     ]
    }
   ],
   "source": [
    "print(len(news.list_url_news))\n",
    "print(len(news.list_title))\n",
    "print(len(news.list_text_news))"
   ]
  },
  {
   "cell_type": "code",
   "execution_count": 9,
   "metadata": {},
   "outputs": [
    {
     "name": "stdout",
     "output_type": "stream",
     "text": [
      "924\n",
      "Done\n"
     ]
    }
   ],
   "source": [
    "news.load_key()\n",
    "print(len(news.list_text_news))\n",
    "print('Done')"
   ]
  },
  {
   "cell_type": "code",
   "execution_count": 10,
   "metadata": {},
   "outputs": [],
   "source": [
    "news.write_data('datatemporary')"
   ]
  },
  {
   "cell_type": "code",
   "execution_count": 11,
   "metadata": {},
   "outputs": [
    {
     "name": "stdout",
     "output_type": "stream",
     "text": [
      "739600\n",
      "860\n"
     ]
    }
   ],
   "source": [
    "list_score = []\n",
    "# print(news.list_counter_keys)\n",
    "cnti= 0\n",
    "for i in news.list_counter_keys:\n",
    "    cntj = 0\n",
    "    for j in news.list_counter_keys:\n",
    "        list_score.append((news.compare(i, j), cnti, cntj))\n",
    "        cntj += 1\n",
    "    cnti += 1\n",
    "print(len(list_score))\n",
    "print(cnti)"
   ]
  },
  {
   "cell_type": "code",
   "execution_count": 12,
   "metadata": {},
   "outputs": [
    {
     "name": "stdout",
     "output_type": "stream",
     "text": [
      "[(11.661903789690601, 526, 561), (11.661903789690601, 561, 526), (13.114877048604, 526, 542), (13.114877048604, 542, 526), (14.071247279470288, 542, 561), (14.071247279470288, 561, 542), (14.422205101855956, 763, 769), (14.422205101855956, 769, 763), (15.7797338380595, 534, 561), (15.7797338380595, 561, 534), (16.46207763315433, 526, 534), (16.46207763315433, 534, 526), (17.11724276862369, 253, 288), (17.11724276862369, 288, 253), (17.435595774162696, 758, 780), (17.435595774162696, 780, 758), (17.832554500127006, 80, 348), (17.832554500127006, 348, 80), (17.944358444926362, 671, 685), (17.944358444926362, 685, 671)]\n"
     ]
    }
   ],
   "source": [
    "list_score = list(filter(lambda x : x[0]!=0.0, list_score))\n",
    "list_score = sorted(list_score, key=lambda x : x[0])\n",
    "print(list_score[:20])"
   ]
  },
  {
   "cell_type": "code",
   "execution_count": 19,
   "metadata": {},
   "outputs": [
    {
     "name": "stdout",
     "output_type": "stream",
     "text": [
      "Các nhà khảo cổ khai quật số lượng lớn gương đồng với đủ kích thước từ nghĩa trang dành riêng cho quý tộc nhà Hán..\n",
      ".\n",
      "Những chiếc gương đồng to nhỏ khác nhau ở nghĩa trang. Ảnh: Global News..\n",
      ".\n",
      "Dù có niên đại 2.000 năm, nhiều chiếc sương vẫn soi được và còn lưu giữ những chi tiết nguyên bản như đám mây và các nhân vật cổ đại. Kích thước gương trong khoảng 7 - 22 cm, được đặt gần đầu hoặc xung quanh nửa thân trên của hài cốt trong mộ..\n",
      ".\n",
      "Nằm ở trấn Gaozhuang thuộc vùng tân khu Tây Hàm, tỉnh Thiểm Tây, nghĩa trang bao gồm hơn 400 ngôi mộ của quý tộc nhà Tây Hán, đồng thời chứa lượng lớn đồ gốm sứ và đồ đồng. Các nhà khảo cổ học phát hiện nghĩa trang trước tiên, sau đó tìm thấy vô số hàng hóa cổ đại như đồ gốm và nữ trang. Tuy nhiên, gần đây, nhóm nghiên cứu mới khai quật hàng loạt gương đồng trong những ngôi mộ chứa cả hài cốt đàn ông và phụ nữ..\n",
      ".\n",
      "Các nhà nghiên cứu tham gia khai quật cho biết nghĩa trang khổng lồ này dành riêng cho giai cấp quý tộc. Nhóm chuyên gia đến từ Đại học Hong Kong cho biết người Trung Quốc cổ đại nảy ra ý tưởng tạo ra bề mặt phản chiếu để quan sát thế giới khi ngắm nhìn mặt nước tĩnh lặng ở ao hồ..\n",
      ".\n",
      "Chiếc gương cổ nhất được phát hiện ở tỉnh Cam Túc, có nguồn gốc từ nền văn minh Qijia thời Đồ đá mới cách đây 4.000 năm. Dù những chiếc gương được làm ngày càng cao cấp theo thời gian, mãi tới thời Hán, ngành sản xuất này mới hưng thịnh. Trong suốt thời kỳ đó, người dân bắt đầu sản xuất gương với số lượng lớn. Tất cả đều chế tác từ khuôn đất sét, cho phép mọi người thêm vào những chi tiết tinh xảo và chữ..\n",
      ".\n",
      "Phần lớn gương gồm chủ yếu đồng và thiếc, ngoài ra còn có dấu vết của chì. Gương đồng được đánh bóng sau khi đúc để làm bề mặt trở nên trơn nhẵn, đảm bảo khả năng phản chiếu tốt nhất. Không giống các đồ vật bằng đồng khác, chiếc gương có chức năng đặc biệt, vì vậy bề mặt phản chiếu cần xử lý tốt để tăng hiệu quả khi soi..\n",
      ".\n",
      "Nhà Hán được xem như thời kỳ hoàng kim trong lịch sử Trung Quốc với nhiều thành tựu trong lĩnh vực khoa học, y học, thơ ca, văn học và nghệ thuật. Nhà Hán bắt đầu từ năm 206 trước Công nguyên, kéo dài tới năm 220, là một trong những vương triều tồn tại lâu nhất ở Trung Quốc, có thể sánh ngang với đế quốc La Mã ở phương Tây về quyền lực..\n",
      ".\n",
      "An Khang (Theo Mail)\n",
      "-------------------\n",
      "MaltaBắt đầu từ hè năm nay, chính quyền Malta sẽ trả hơn 200 USD cho mỗi du khách đến du lịch..\n",
      ".\n",
      "Trong nỗ lực phục hồi ngành du lịch và cạnh tranh để trở thành một trong những điểm đến hàng đầu, chính quyền Malta dự kiến trả cho khách du lịch nước ngoài tới 200 USD nếu họ lưu trú tối thiểu 3 ngày..\n",
      ".\n",
      "Bộ trưởng Du lịch Clayton Bartolo cho biết, hầu hết các hạn chế liên quan đến đại dịch Covid-19 sẽ được dỡ bỏ vào 1/6. \"Chương trình nhằm tăng sức cạnh tranh của các khách sạn ở Malta nhiều nhất có thể khi du lịch quốc tế trở lại\", ông chia sẻ. Khách du lịch sẽ nhận được khoản tiền trên trực tiếp thông qua các khách sạn mà họ sử dụng dịch vụ..\n",
      ".\n",
      "Malta buổi bình minh. Ảnh: Andrey Omelyanchuk.\n",
      ".\n",
      "Số tiền trả cho khách tùy thuộc vào loại khách sạn đã đặt. Du khách chọn khách sạn 5 sao sẽ nhận được khoản thanh toán tối đa khoảng 240 USD. Đặt trước khách sạn 4 sao, du khách được trả khoảng 180 USD còn khách sạn 3 sao là gần 120 USD EUR. Mức trợ cấp sẽ tăng thêm 10% nếu du khách chọn chỗ nghỉ trên đảo Gozo, nằm ở phía bắc Malta..\n",
      ".\n",
      "Dữ liệu từ Hội đồng Du lịch và Lữ hành thế giới cho thấy, ngành du lịch trực tiếp và gián tiếp chiếm hơn 27% nền kinh tế Malta, bị ảnh hưởng nặng nề bởi đại dịch vào năm 2020. Năm 2019, hơn 2,7 triệu lượt khách nước ngoài ghé thăm Malta, song giảm 80% trong đại dịch..\n",
      ".\n",
      "Ở Malta, 42% người lớn đã được tiêm ít nhất một liều vaccine Covid-19, là một trong những tỷ lệ tiêm chủng cao nhất trong Liên minh châu Âu. Malta hiện đang đàm phán với Ủy ban Châu Âu (EC) với hy vọng cấp \"hộ chiếu xanh\" cho những người được tiêm chủng, để họ có thể đi lại mà không bị hạn chế..\n",
      ".\n",
      "Malta là một quốc gia Nam Âu, nằm ở trung tâm khu vực biển Địa Trung Hải. Tuy chỉ là một đất nước có diện tích nhỏ, Malta thu hút du khách với các ngôi đền cổ, những vịnh biển đẹp và thủ đô Valleta - được công nhận là Thủ đô văn hoá của châu Âu 2018 - mang nhiều dấu ấn từ thời Trung cổ..\n",
      ".\n",
      "Trung Nghĩa (Theo Times of Malta).\n",
      ".\n",
      "Яндекс.Директ\n"
     ]
    }
   ],
   "source": [
    "print(news.list_text_news[561])\n",
    "print('-------------------')\n",
    "print(news.list_text_news[526])"
   ]
  },
  {
   "cell_type": "code",
   "execution_count": 18,
   "metadata": {},
   "outputs": [
    {
     "name": "stdout",
     "output_type": "stream",
     "text": [
      "{'người': 10, 'nhiễm': 7, 'là': 7, 'tại': 6, 'ca': 6, 'và': 6, 'hơn': 6, 'đợt': 5, 'tỉnh': 4, 'từ': 4, 'ngày': 4, 'được': 4, 'trong': 4, '18': 4, 'dịch': 4, 'Hải_Dương': 3, 'nhập_cảnh': 3, 'qua': 3, 'thêm': 3, 'số': 3, 'đang': 3, 'âm_tính': 3, 'lần': 3, 'cách_ly': 3, 'không': 3, 'tiêm_chủng': 3, 'Bộ': 3, 'đã': 3, 'thực_hiện': 3, 'Ngày': 2, 'xét_nghiệm': 2, 'nCoV': 2, 'bệnh_nhân': 2, 'điều_trị': 2, 'Như_vậy': 2, 'Các': 2, 'sức_khỏe': 2, 'đó': 2, 'hai': 2, 'cơ_sở': 2, 'ghi_nhận': 2, 'mới': 2, 'cộng_đồng': 2, 'có': 2, 'Quảng_Ninh': 2, 'đến': 2, 'nay': 2, 'Theo': 2, 'quốc_gia': 2, 'Covid': 2, '19': 2, 'nghiêm': 2, 'triệu': 2, 'Bệnh_nhân': 1, '2785': 1, 'nam': 1, '39': 1, 'tuổi': 1, 'huyện': 1, 'Cẩm_Giàng': 1, '13': 1, 'anh': 1, 'Nhật_Bản': 1, 'sân_bay': 1, 'Đà_Nẵng': 1, 'kết_quả': 1, '17': 1, 'dương_tính': 1, 'với': 1, 'Hiện': 1, 'Bệnh_viện': 1, 'Phổi_Đà_Nẵng': 1, '24': 1, 'giờ': 1, 'tổng_số': 1, 'lên': 1, '2.785': 1, 'khỏi': 1, '2.475': 1, 'đa_số': 1, 'ổn_định': 1, '16': 1, 'một': 1, 'ba': 1, 'Tổng_số': 1, 'tiếp_xúc': 1, 'gần': 1, 'vùng': 1, 'theo_dõi': 1, '40.000': 1, 'Trong': 1, 'tập_trung': 1, 'bệnh_viện': 1, '531': 1, 'khác': 1, '24.000': 1, 'còn': 1, 'lại': 1, 'nhà': 1, 'nơi': 1, 'lưu_trú': 1, 'Hơn': 1, '20': 1, 'cả': 1, 'nước': 1, 'song': 1, 'tăng': 1, 'hàng': 1, 'hôm': 1, '25': 1, 'Kể': 1, '27': 1, 'bùng_phát': 1, 'liên_quan': 1, 'tổng_ca': 1, 'duy_trì': 1, '910': 1, 'Nhiều': 1, 'tỉnh_thành': 1, 'tháng': 1, 'Chương_trình': 1, 'Tiêm_chủng': 1, 'Mở_rộng': 1, 'tuần': 1, '12': 1, '10.415': 1, 'vaccine': 1, 'tính': 1, 'Y_tế': 1, 'Quốc_phòng': 1, 'Công_an': 1, 'tổng_cộng': 1, 'tiêm': 1, '22': 1, 'thành_phố': 1, 'cho': 1, '79.182': 1, 'Hải_Phòng': 1, 'kết_thúc': 1, 'nỗ_lực': 1, 'để': 1, 'hoàn_thành': 1, 'triển_khai': 1, 'Bắc_Ninh': 1, 'Hà_Tĩnh': 1, 'Cao': 1, 'Bằng': 1, 'Phú_Yên': 1, 'Bắc_Giang': 1, 'Người': 1, 'dân': 1, 'khuyến_cáo': 1, 'tiếp_tục': 1, 'yêu_cầu': 1, '5K': 1, 'đặc_biệt': 1, 'đeo': 1, 'khẩu_trang': 1, 'tụ_tập': 1, 'đông': 1, 'các': 1, 'hướng_dẫn': 1, 'phòng_chống': 1, 'công_sở': 1, 'cơ_quan': 1, 'nhà_máy': 1, 'xí_nghiệp': 1, 'sản_xuất': 1, 'đảm_bảo_an_toàn': 1, 'khi': 1, 'làm_việc': 1, 'Trung_tâm': 1, 'Đáp_ứng': 1, 'khẩn_cấp': 1, 'sự_kiện': 1, 'y_tế': 1, 'công_cộng': 1, 'Việt_Nam': 1, 'thế_giới': 1, 'chết': 1, 'vì': 1, '140': 1, 'Mỹ': 1, 'chịu': 1, 'ảnh_hưởng': 1, 'nghiêm_trọng': 1, 'nhất': 1, 'của': 1, 'tiếp_theo': 1, 'Ấn_Độ': 1, 'Brazil': 1}\n",
      "{'người': 12, 'là': 8, 'ca': 7, 'tại': 7, 'được': 6, 'ngày': 6, 'nhiễm': 6, 'nhập_cảnh': 5, 'và': 5, 'hơn': 5, 'cách_ly': 4, 'qua': 4, '16': 4, 'dịch': 4, 'ghi_nhận': 3, 'nCoV': 3, 'tỉnh': 3, 'cơ_sở': 3, 'thêm': 3, 'số': 3, 'trong': 3, 'âm_tính': 3, 'lần': 3, 'không': 3, 'có': 3, 'một': 2, 'dương_tính': 2, '25': 2, 'xét_nghiệm': 2, 'bệnh_nhân': 2, 'điều_trị': 2, 'khỏi': 2, 'Tổng_số': 2, 'đang': 2, 'sức_khỏe': 2, 'đó': 2, '18': 2, 'hai': 2, 'gần': 2, 'từ': 2, 'mới': 2, 'cộng_đồng': 2, 'đợt': 2, 'Theo': 2, 'quốc_gia': 2, 'tiêm_chủng': 2, 'Covid': 2, '19': 2, 'các': 2, 'thực_hiện': 2, 'nghiêm': 2, 'triệu': 2, 'Bộ': 1, 'Y_tế': 1, 'sáng': 1, '17': 1, 'chuyên_gia': 1, 'Trung_Quốc': 1, 'Bắc_Ninh': 1, 'ngay': 1, 'Bệnh_nhân': 1, '2773': 1, 'nam': 1, 'tuổi': 1, 'Cửa_khẩu': 1, 'Hữu_Nghị': 1, 'kết_quả': 1, 'với': 1, 'Hiện': 1, 'Bệnh_viện': 1, 'Bệnh': 1, 'Nhiệt_đới': 1, 'Trung_ương': 1, 'Như_vậy': 1, '24': 1, 'giờ': 1, '15': 1, 'đều': 1, '30': 1, 'bệnh': 1, 'lên': 1, '2.773': 1, '2.475': 1, 'Các': 1, 'đa_số': 1, 'ổn_định': 1, 'ba': 1, 'tiếp_xúc': 1, 'vùng': 1, 'theo_dõi': 1, '40.000': 1, 'Trong': 1, 'tập_trung': 1, 'bệnh_viện': 1, '524': 1, 'khác': 1, '25.000': 1, 'còn': 1, 'lại': 1, 'nhà': 1, 'nơi': 1, 'lưu_trú': 1, 'Hơn': 1, '20': 1, 'cả': 1, 'nước': 1, 'song': 1, 'tăng': 1, 'hàng': 1, 'hôm': 1, 'Kể': 1, '27': 1, 'bùng_phát': 1, 'liên_quan': 1, 'Hải_Dương': 1, 'Quảng_Ninh': 1, 'đến': 1, 'nay': 1, 'tổng_ca': 1, 'duy_trì': 1, '910': 1, 'Nhiều': 1, 'tỉnh_thành': 1, 'tháng': 1, 'Chương_trình': 1, 'Tiêm_chủng': 1, 'Mở_rộng': 1, '2.506': 1, 'vaccine': 1, 'thành_phố': 1, 'Tổng_cộng': 1, 'đã': 1, '66.366': 1, 'tiêm': 1, 'Ngày': 1, 'Hà_Tĩnh': 1, 'Cao': 1, 'Bằng': 1, 'Phú_Yên': 1, 'bắt_đầu': 1, 'triển_khai': 1, 'Người': 1, 'dân': 1, 'khuyến_cáo': 1, 'tiếp_tục': 1, 'yêu_cầu': 1, '5K': 1, 'đặc_biệt': 1, 'đeo': 1, 'khẩu_trang': 1, 'tụ_tập': 1, 'đông': 1, 'hướng_dẫn': 1, 'phòng_chống': 1, 'công_sở': 1, 'cơ_quan': 1, 'nhà_máy': 1, 'xí_nghiệp': 1, 'sản_xuất': 1, 'đảm_bảo_an_toàn': 1, 'khi': 1, 'làm_việc': 1, 'Trung_tâm': 1, 'Đáp_ứng': 1, 'khẩn_cấp': 1, 'sự_kiện': 1, 'y_tế': 1, 'công_cộng': 1, 'Việt_Nam': 1, 'thế_giới': 1, 'chết': 1, 'vì': 1, '140': 1, 'Mỹ': 1, 'chịu': 1, 'ảnh_hưởng': 1, 'nghiêm_trọng': 1, 'nhất': 1, 'của': 1, 'tiếp_theo': 1, 'Ấn_Độ': 1, 'Brazil': 1, 'Lê_Nga': 1}\n"
     ]
    }
   ],
   "source": [
    "# 526, 561\n",
    "print(news.list_counter_keys[526])\n",
    "print(news.list_counter_keys[561])"
   ]
  },
  {
   "cell_type": "code",
   "execution_count": 15,
   "metadata": {},
   "outputs": [],
   "source": [
    "# news.load_data('datatemporary')\n",
    "# print(len(news.list_url_news))\n",
    "# print(len(news.list_text_news))"
   ]
  },
  {
   "cell_type": "code",
   "execution_count": 16,
   "metadata": {},
   "outputs": [],
   "source": [
    "# news.write_data('datatemporary')"
   ]
  }
 ],
 "metadata": {
  "kernelspec": {
   "display_name": "Python 3.8.5 64-bit",
   "name": "python385jvsc74a57bd0916dbcbb3f70747c44a77c7bcd40155683ae19c65e1c03b4aa3499c5328201f1"
  },
  "language_info": {
   "codemirror_mode": {
    "name": "ipython",
    "version": 3
   },
   "file_extension": ".py",
   "mimetype": "text/x-python",
   "name": "python",
   "nbconvert_exporter": "python",
   "pygments_lexer": "ipython3",
   "version": "3.8.5"
  },
  "metadata": {
   "interpreter": {
    "hash": "916dbcbb3f70747c44a77c7bcd40155683ae19c65e1c03b4aa3499c5328201f1"
   }
  },
  "orig_nbformat": 2
 },
 "nbformat": 4,
 "nbformat_minor": 2
}
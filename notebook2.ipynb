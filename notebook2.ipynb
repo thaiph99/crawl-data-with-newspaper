{
 "cells": [
  {
   "cell_type": "code",
   "execution_count": 1,
   "metadata": {},
   "outputs": [],
   "source": [
    "from newspaperedited1 import Article\n",
    "import numpy as np  \n",
    "import newspaperedited1"
   ]
  },
  {
   "cell_type": "markdown",
   "metadata": {},
   "source": [
    "## get urls and keywords from file"
   ]
  },
  {
   "cell_type": "code",
   "execution_count": 2,
   "metadata": {},
   "outputs": [
    {
     "data": {
      "text/plain": "['https://vnexpress.net/', 'https://www.24h.com.vn/', 'https://tuoitre.vn/']"
     },
     "execution_count": 2,
     "metadata": {},
     "output_type": "execute_result"
    }
   ],
   "source": [
    "with open('urls.txt', 'r') as f:\n",
    "    urls = f.readlines()\n",
    "urls = [url.replace('\\n', '') for url in urls]\n",
    "urls"
   ]
  },
  {
   "cell_type": "code",
   "execution_count": 3,
   "metadata": {},
   "outputs": [
    {
     "data": {
      "text/plain": "['thủ tướng', 'chính phủ', 'Phạm Minh Chính']"
     },
     "execution_count": 3,
     "metadata": {},
     "output_type": "execute_result"
    }
   ],
   "source": [
    "with open('keywords.txt', 'r') as f:\n",
    "    keywords = f.readlines()\n",
    "keywords = [key.replace('\\n', '') for key in keywords]\n",
    "keywords"
   ]
  },
  {
   "cell_type": "markdown",
   "metadata": {},
   "source": [
    "### standardize keywords"
   ]
  },
  {
   "cell_type": "code",
   "execution_count": 4,
   "metadata": {},
   "outputs": [
    {
     "data": {
      "text/plain": "['thủ_tướng', 'chính_phủ', 'phạm_minh_chính']"
     },
     "execution_count": 4,
     "metadata": {},
     "output_type": "execute_result"
    }
   ],
   "source": [
    "keywords = [key.replace(' ', '_') for key in keywords]\n",
    "keywords = [key.lower() for key in keywords]\n",
    "list_key_tmp = []\n",
    "for key in keywords:\n",
    "    list_key_tmp += key.split('_')\n",
    "\n",
    "# keywords += list_key_tmp\n",
    "keywords"
   ]
  },
  {
   "cell_type": "markdown",
   "metadata": {},
   "source": [
    "## crawl function"
   ]
  },
  {
   "cell_type": "code",
   "execution_count": 5,
   "metadata": {},
   "outputs": [
    {
     "name": "stdout",
     "output_type": "stream",
     "text": [
      "273\n",
      "https://www.24h.com.vn/bong-da-c48.html\n",
      "https://www.24h.com.vn/kinh-doanh-c161.html\n",
      "https://www.24h.com.vn/thi-truong-tieu-dung-c52.html\n",
      "https://www.24h.com.vn/suc-khoe-doi-song-c62.html\n",
      "https://www.24h.com.vn/thoi-trang-hi-tech-c407.html\n"
     ]
    }
   ],
   "source": [
    "from bs4 import BeautifulSoup\n",
    "import requests\n",
    "import re  \n",
    "\n",
    "def is_valid(url):\n",
    "    # return re.findall(r'\\.[a-z]{3}', url)\n",
    "    return re.findall(r'\\.[a-z]{3}', url) and re.search(r'https://', url)\n",
    "\n",
    "# global dict\n",
    "dict_url = {}\n",
    "\n",
    "def get_link_articles_from_url(url):\n",
    "    respone = requests.get(url)\n",
    "    soup = BeautifulSoup(respone.text, 'html.parser')\n",
    "    \n",
    "    for a in soup.find_all('a', href=True):\n",
    "        articles_link = a['href'].replace('#box_comment_vne', '')\n",
    "        articles_link = articles_link.replace('#box_comment', '')\n",
    "       \n",
    "        if articles_link not in dict_url.keys() and is_valid(articles_link):\n",
    "            dict_url[articles_link] = 1\n",
    "\n",
    "    return list(dict_url.keys())\n",
    "\n",
    "# test \n",
    "tmp = get_link_articles_from_url(urls[1])\n",
    "print(len(tmp))\n",
    "print(*tmp[:5], sep='\\n')\n"
   ]
  },
  {
   "cell_type": "code",
   "execution_count": 8,
   "metadata": {},
   "outputs": [],
   "source": [
    "import newspaperedited1\n",
    "\n",
    "def get_category(url_home):\n",
    "    dict_cate = {}\n",
    "    home = newspaperedited1.build(url_home)\n",
    "    category_urls = home.category_urls()\n",
    "    return list(set(category_urls))\n",
    "\n",
    "list_cate = [get_category(url) for url in urls]"
   ]
  },
  {
   "cell_type": "code",
   "execution_count": 9,
   "metadata": {},
   "outputs": [
    {
     "data": {
      "text/plain": "['https://vnexpress.net',\n 'https://vnexpress.net/giao-duc',\n 'https://vnexpress.net/the-thao',\n 'https://vnexpress.net/tin-tuc-24h',\n 'https://vnexpress.net/kinh-doanh',\n 'https://vnexpress.net/thoi-su',\n 'https://vnexpress.net/suc-khoe',\n 'https://vnexpress.net/oto-xe-may',\n 'https://vnexpress.net/giai-tri',\n 'https://vnexpress.net/tam-su',\n 'https://vnexpress.net/khoa-hoc',\n 'https://video.vnexpress.net',\n 'https://e.vnexpress.net',\n 'https://vnexpress.net/',\n 'https://vnexpress.net/phap-luat',\n 'https://vnexpress.net/so-hoa',\n 'https://vnexpress.net/the-gioi',\n 'https://vnexpress.net/goc-nhin',\n 'https://vnexpress.net/du-lich',\n 'https://vnexpress.net/hai',\n 'https://vnexpress.net/y-kien',\n 'https://vnexpress.net/doi-song',\n 'http://baogia.24h.com.vn',\n 'https://www.24h.com.vn',\n 'https://www.24h.com.vn/',\n 'http://id.tuoitre.vn',\n 'https://tuyensinh.tuoitre.vn',\n 'https://thethao.tuoitre.vn',\n 'https://tuoitre.vn/dien-dan.html',\n 'https://tuoitre.vn/giai-tri.htm',\n 'https://tv.tuoitre.vn',\n 'https://tuoitre.vn/video.htm',\n 'https://tuoitre.vn/the-gioi.htm',\n 'https://tuoitre.vn/nha-dat.htm',\n 'https://tuoitre.vn/media.htm',\n 'https://cuoituan.tuoitre.vn',\n 'https://tuoitre.vn/can-biet.htm',\n 'https://tuoitre.vn/suc-khoe.htm',\n 'https://tuoitre.vn/gia-that.htm',\n 'https://tuoitre.vn/',\n 'https://nhadat.tuoitre.vn',\n 'https://dulich.tuoitre.vn',\n 'https://beta.tuoitre.vn',\n 'https://congnghe.tuoitre.vn',\n 'https://tuoitre.vn/khoa-hoc.htm',\n 'https://tuoitre.vn/photo.htm',\n 'https://cuoi.tuoitre.vn',\n 'https://tuoitre.vn/thoi-su.htm',\n 'https://tuoitre.vn/xe.htm',\n 'http://pay.tuoitre.vn',\n 'https://tuoitre.vn/giao-duc.htm',\n 'https://tuoitre.vn/cong-nghe.htm',\n 'https://tuoitre.vn/van-hoa.htm',\n 'https://tuoitre.vn/phap-luat.htm',\n 'https://tuoitre.vn',\n 'https://quangcao.tuoitre.vn',\n 'https://tuoitre.vn/the-thao.htm',\n 'https://vnexpress.net/',\n 'https://www.24h.com.vn/',\n 'https://tuoitre.vn/']"
     },
     "execution_count": 9,
     "metadata": {},
     "output_type": "execute_result"
    }
   ],
   "source": [
    "list_categorys = []\n",
    "for i in list_cate:\n",
    "    list_categorys += i  \n",
    "list_categorys += urls\n",
    "list_categorys"
   ]
  },
  {
   "cell_type": "markdown",
   "metadata": {},
   "source": [
    "## get keywords from url"
   ]
  },
  {
   "cell_type": "code",
   "execution_count": 10,
   "metadata": {},
   "outputs": [],
   "source": [
    "def get_text_url(url):\n",
    "    text = ''\n",
    "    try:\n",
    "        article = Article(url)\n",
    "        article.download()\n",
    "        article.parse()\n",
    "    except:\n",
    "        return text, url\n",
    "    text = article.text.replace('\\n', '.\\n')\n",
    "    url = article.url\n",
    "    return text, url\n"
   ]
  },
  {
   "cell_type": "code",
   "execution_count": 11,
   "metadata": {},
   "outputs": [],
   "source": [
    "from pyvi import ViTokenizer\n",
    "from collections import Counter\n",
    "\n",
    "def get_keywords_from_text(text):\n",
    "    tokens = ViTokenizer.tokenize(text)\n",
    "    tokens = ViTokenizer.spacy_tokenize(tokens)[0]\n",
    "    tokens = list(filter(lambda x: len(x)>1, tokens))\n",
    "    counter_tokens = Counter(tokens)\n",
    "    counter_tokens = dict(counter_tokens)\n",
    "    counter_tokens = dict(sorted(counter_tokens.items(), key=lambda x:-x[1]))\n",
    "    return counter_tokens\n"
   ]
  },
  {
   "cell_type": "code",
   "execution_count": 12,
   "metadata": {},
   "outputs": [],
   "source": [
    "def get_important_score(dict_keywords, keys):\n",
    "    score = 0\n",
    "    for key in dict_keywords.keys():\n",
    "        for k in keys:\n",
    "            if k == key.lower():\n",
    "                score += dict_keywords[key]\n",
    "    return score\n"
   ]
  },
  {
   "cell_type": "markdown",
   "metadata": {},
   "source": [
    "## ranking articles"
   ]
  },
  {
   "cell_type": "code",
   "execution_count": 13,
   "metadata": {},
   "outputs": [],
   "source": [
    "list_article_url = []\n",
    "\n",
    "dict_url = {}\n",
    "for category in list_categorys:\n",
    "    list_article_url = get_link_articles_from_url(category)\n",
    "\n",
    "list_article_url = list(set(list_article_url))"
   ]
  },
  {
   "cell_type": "code",
   "execution_count": 14,
   "metadata": {},
   "outputs": [
    {
     "data": {
      "text/plain": "1212"
     },
     "execution_count": 14,
     "metadata": {},
     "output_type": "execute_result"
    }
   ],
   "source": [
    "len(list_article_url)"
   ]
  },
  {
   "cell_type": "code",
   "execution_count": 15,
   "metadata": {},
   "outputs": [],
   "source": [
    "# t = get_text_url(list_article_url[100])\n",
    "# print(list_article_url[100])\n",
    "# print(t)"
   ]
  },
  {
   "cell_type": "code",
   "execution_count": 16,
   "metadata": {},
   "outputs": [
    {
     "name": "stdout",
     "output_type": "stream",
     "text": [
      "1-11-21-31-41-51-61-71-81-91-101-111-121-131-141-151-161-171-181-191-201-211-221-231-241-251-261-271-281-291-301-311-321-331-341-351-361-371-381-391-401-411-421-431-441-451-461-471-481-491-501-511-521-531-541-551-561-571-581-591-601-611-621-631-641-651-661-671-681-691-701-711-721-731-741-751-761-771-781-791-801-811-821-831-841-851-861-871-881-891-901-911-921-931-941-951-961-971-981-991-1001-1011-1021-1031-1041-1051-1061-1071-1081-1091-1101-1111-1121-1131-1141-"
     ]
    }
   ],
   "source": [
    "list_text_url = []\n",
    "cnt = 0\n",
    "for article_url in list_article_url:\n",
    "    text, url = get_text_url(article_url)\n",
    "    if text != '':\n",
    "        list_text_url.append((text, url))\n",
    "    else:\n",
    "        continue\n",
    "\n",
    "    if cnt%10==0:\n",
    "        print(len(list_text_url), end='-')\n",
    "    cnt += 1"
   ]
  },
  {
   "cell_type": "code",
   "execution_count": 17,
   "metadata": {},
   "outputs": [
    {
     "name": "stdout",
     "output_type": "stream",
     "text": [
      "1150\n"
     ]
    }
   ],
   "source": [
    "print(len(list_text_url))"
   ]
  },
  {
   "cell_type": "code",
   "execution_count": 18,
   "metadata": {},
   "outputs": [],
   "source": [
    "dict_index_and_score = {i:0 for i in range(len(list_text_url))}\n",
    "# dict_index_and_score {0:0, 1:0, 2:0, .....}"
   ]
  },
  {
   "cell_type": "code",
   "execution_count": 19,
   "metadata": {},
   "outputs": [
    {
     "name": "stdout",
     "output_type": "stream",
     "text": [
      "0-10-20-30-40-50-60-70-80-90-100-110-120-130-140-150-160-170-180-190-200-210-220-230-240-250-260-270-280-290-300-310-320-330-340-350-360-370-380-390-400-410-420-430-440-450-460-470-480-490-500-510-520-530-540-550-560-570-580-590-600-610-620-630-640-650-660-670-680-690-700-710-720-730-740-750-760-770-780-790-800-810-820-830-840-850-860-870-880-890-900-910-920-930-940-950-960-970-980-990-1000-1010-1020-1030-1040-1050-1060-1070-1080-1090-1100-1110-1120-1130-1140-"
     ]
    }
   ],
   "source": [
    "list_keys = []\n",
    "cnt = 0\n",
    "for text, url in list_text_url:\n",
    "    keys = get_keywords_from_text(text)\n",
    "    dict_index_and_score[cnt] = get_important_score(keys, keywords)\n",
    "    if cnt%10==0:\n",
    "        print(cnt, end='-')\n",
    "    cnt += 1\n"
   ]
  },
  {
   "cell_type": "code",
   "execution_count": 20,
   "metadata": {},
   "outputs": [],
   "source": [
    "list_index = dict(sorted(dict_index_and_score.items(), key=lambda x : -x[1]))"
   ]
  },
  {
   "cell_type": "code",
   "execution_count": 21,
   "metadata": {},
   "outputs": [
    {
     "name": "stdout",
     "output_type": "stream",
     "text": [
      "811 15\n",
      "https://vnexpress.net/nhung-diem-moi-trong-cac-quyet-dinh-nhan-su-cua-quoc-hoi-4260666.html\n",
      "558 9\n",
      "https://vnexpress.net/chien-dich-tiem-vaccine-covid-19-cua-thai-lan-bi-chi-trich-4260629.html\n",
      "1067 9\n",
      "https://vnexpress.net/chinh-phu-moi-4256811.html\n",
      "459 8\n",
      "https://vnexpress.net/tan-bo-truong-nguyen-van-hung-ho-chieu-vaccine-la-chia-khoa-mo-cua-4260489.html\n",
      "433 7\n",
      "https://www.24h.com.vn/tin-tuc-quoc-te/mexico-tre-5-tuoi-cam-sung-doi-dau-bang-dang-toi-pham-tan-bao-c415a1242953.html\n",
      "128 6\n",
      "https://vnexpress.net/thu-tuong-campuchia-tang-tien-cho-nguoi-tiem-vaccine-thu-mot-trieu-4262151.html\n",
      "686 6\n",
      "https://vnexpress.net/kinh-te-myanmar-roi-tu-do-4261393.html\n",
      "689 6\n",
      "https://vnexpress.net/who-ca-covid-19-dang-tang-theo-cap-so-nhan-4261937.html\n",
      "7 5\n",
      "https://vnexpress.net/nhat-ban-se-xa-nuoc-thai-tu-fukushima-vao-dai-duong-4261941.html\n",
      "65 5\n",
      "https://vnexpress.net/de-xuat-tiep-tuc-giam-thue-phi-cho-doanh-nghiep-van-tai-4261897.html\n",
      "587 5\n",
      "https://vnexpress.net/quyen-luc-mem-cua-chu-tich-nuoc-4259594.html\n",
      "651 5\n",
      "https://vnexpress.net/chinh-phu-huu-hieu-4257910.html\n",
      "747 4\n",
      "https://vnexpress.net/so-ca-covid-19-theo-ngay-o-thai-lan-cao-ky-luc-4261453.html\n",
      "910 4\n",
      "https://www.24h.com.vn/infographics-c765.html\n",
      "1028 4\n",
      "https://vnexpress.net/campuchia-chay-dua-ngan-covid-19-thanh-tham-kich-quoc-gia-4261681.html\n",
      "89 3\n",
      "https://vnexpress.net/20-nam-khat-vong-huong-ra-bien-cua-tp-hcm-4260266.html\n",
      "178 3\n",
      "https://www.24h.com.vn/tin-tuc-quoc-te/nhat-ban-quyet-xa-1-trieu-tan-nuoc-nhiem-xa-ra-bien-gay-tranh-cai-c415a1242939.html\n",
      "506 3\n",
      "https://vnexpress.net/co-phieu-bat-dong-san-khu-cong-nghiep-da-het-thoi-4261811.html\n",
      "516 3\n",
      "https://vnexpress.net/thai-lan-lo-ca-nhiem-tang-pha-hong-ke-hoach-don-khach-4261445.html\n",
      "527 3\n",
      "https://vnexpress.net/tien-so-sap-bi-siet-kiem-soat-tren-toan-cau-4262063.html\n"
     ]
    }
   ],
   "source": [
    "cnt = 0 \n",
    "ans = []\n",
    "for i in list_index:\n",
    "    cnt+=1 \n",
    "    print(i, list_index[i])\n",
    "    ans.append(list_text_url[i][1])\n",
    "    print(list_text_url[i][1])\n",
    "    if cnt == 20:\n",
    "        break"
   ]
  },
  {
   "cell_type": "markdown",
   "metadata": {},
   "source": [
    "## compare data"
   ]
  },
  {
   "cell_type": "code",
   "execution_count": 25,
   "metadata": {},
   "outputs": [
    {
     "data": {
      "text/plain": "[(array([[1.]]), 1, 18),\n (array([[1.]]), 2, 13),\n (array([[1.]]), 2, 18),\n (array([[1.]]), 3, 18),\n (array([[1.]]), 5, 18),\n (array([[1.]]), 6, 18),\n (array([[1.]]), 7, 18),\n (array([[1.]]), 8, 18),\n (array([[1.]]), 13, 16),\n (array([[1.]]), 13, 18),\n (array([[1.]]), 14, 18),\n (array([[1.]]), 15, 18),\n (array([[1.]]), 17, 18),\n (array([[1.]]), 18, 19),\n (array([[0.98757829]]), 4, 18),\n (array([[0.98369917]]), 7, 16),\n (array([[0.98060941]]), 9, 16),\n (array([[0.96558946]]), 14, 16),\n (array([[0.95760039]]), 9, 18),\n (array([[0.95622195]]), 0, 18),\n (array([[0.95437583]]), 2, 19),\n (array([[0.94993738]]), 2, 11),\n (array([[0.94693558]]), 3, 16),\n (array([[0.94233229]]), 16, 17),\n (array([[0.94205503]]), 10, 18),\n (array([[0.93189998]]), 1, 16),\n (array([[0.93140074]]), 1, 2),\n (array([[0.93073872]]), 15, 16),\n (array([[0.929018]]), 10, 16),\n (array([[0.92828745]]), 16, 19),\n (array([[0.9233035]]), 12, 16),\n (array([[0.92131105]]), 11, 16),\n (array([[0.9082782]]), 2, 17),\n (array([[0.90001239]]), 8, 16),\n (array([[0.89740216]]), 11, 13),\n (array([[0.88954872]]), 6, 16),\n (array([[0.88922407]]), 4, 16),\n (array([[0.88898549]]), 5, 16),\n (array([[0.88529213]]), 11, 18),\n (array([[0.88465311]]), 2, 3),\n (array([[0.87959238]]), 2, 14),\n (array([[0.87413308]]), 10, 13),\n (array([[0.87357208]]), 13, 15),\n (array([[0.87078605]]), 2, 8),\n (array([[0.86295302]]), 0, 13),\n (array([[0.85122422]]), 7, 13),\n (array([[0.85030376]]), 2, 16),\n (array([[0.84962434]]), 2, 7),\n (array([[0.84887824]]), 2, 9),\n (array([[0.84577373]]), 2, 15),\n (array([[0.84319268]]), 5, 13),\n (array([[0.84141624]]), 2, 12),\n (array([[0.8407211]]), 2, 6),\n (array([[0.8375]]), 12, 13),\n (array([[0.83520032]]), 2, 5),\n (array([[0.83293136]]), 5, 11),\n (array([[0.8322949]]), 12, 18),\n (array([[0.82850141]]), 16, 18),\n (array([[0.81758625]]), 6, 13),\n (array([[0.8157497]]), 2, 10),\n (array([[0.81299655]]), 13, 19),\n (array([[0.79142151]]), 9, 13),\n (array([[0.79062602]]), 13, 14),\n (array([[0.78815217]]), 8, 13),\n (array([[0.78690121]]), 11, 15),\n (array([[0.78468182]]), 8, 19),\n (array([[0.77151325]]), 0, 11),\n (array([[0.76929901]]), 3, 11),\n (array([[0.7632225]]), 1, 13),\n (array([[0.75892876]]), 11, 17),\n (array([[0.75604238]]), 2, 4),\n (array([[0.75468455]]), 7, 11),\n (array([[0.74818179]]), 11, 19),\n (array([[0.73683675]]), 13, 17),\n (array([[0.71997568]]), 11, 14),\n (array([[0.71847395]]), 14, 19),\n (array([[0.71113171]]), 4, 13),\n (array([[0.70942103]]), 6, 11),\n (array([[0.70362739]]), 4, 11),\n (array([[0.69353914]]), 6, 19),\n (array([[0.68865606]]), 3, 13),\n (array([[0.6847453]]), 0, 19),\n (array([[0.67745043]]), 0, 1),\n (array([[0.67716142]]), 0, 16),\n (array([[0.67571213]]), 15, 17),\n (array([[0.67381312]]), 3, 19),\n (array([[0.67085925]]), 3, 15),\n (array([[0.67043937]]), 1, 3),\n (array([[0.66757494]]), 6, 12),\n (array([[0.66597319]]), 1, 11),\n (array([[0.66271073]]), 3, 12),\n (array([[0.66011879]]), 5, 19),\n (array([[0.6511759]]), 0, 15),\n (array([[0.65065215]]), 17, 19),\n (array([[0.65057119]]), 10, 11),\n (array([[0.64331077]]), 0, 12),\n (array([[0.63635457]]), 8, 11),\n (array([[0.63512143]]), 5, 12),\n (array([[0.63386629]]), 6, 15),\n (array([[0.63310508]]), 1, 19),\n (array([[0.62793536]]), 1, 5),\n (array([[0.62457155]]), 8, 15),\n (array([[0.62344612]]), 7, 17),\n (array([[0.61615712]]), 3, 10),\n (array([[0.61457298]]), 4, 15),\n (array([[0.60901592]]), 0, 14),\n (array([[0.60893531]]), 0, 17),\n (array([[0.60481822]]), 1, 17),\n (array([[0.60452084]]), 4, 19),\n (array([[0.60393049]]), 9, 19),\n (array([[0.60311947]]), 5, 8),\n (array([[0.60055579]]), 12, 17),\n (array([[0.59602102]]), 11, 12),\n (array([[0.59598412]]), 14, 15),\n (array([[0.59485168]]), 7, 12),\n (array([[0.59433791]]), 12, 14),\n (array([[0.59199834]]), 5, 14),\n (array([[0.59037788]]), 0, 7),\n (array([[0.59007454]]), 0, 8),\n (array([[0.58160415]]), 3, 17),\n (array([[0.57849073]]), 9, 11),\n (array([[0.57675228]]), 7, 15),\n (array([[0.57396649]]), 7, 19),\n (array([[0.57362336]]), 5, 17),\n (array([[0.56533149]]), 0, 2),\n (array([[0.56470956]]), 3, 9),\n (array([[0.56197472]]), 9, 15),\n (array([[0.55604219]]), 1, 12),\n (array([[0.55473941]]), 5, 9),\n (array([[0.55451391]]), 15, 19),\n (array([[0.55389817]]), 0, 9),\n (array([[0.552987]]), 12, 15),\n (array([[0.55294487]]), 12, 19),\n (array([[0.55237486]]), 1, 4),\n (array([[0.5512864]]), 0, 10),\n (array([[0.55032632]]), 1, 6),\n (array([[0.54491591]]), 6, 7),\n (array([[0.5422493]]), 7, 14),\n (array([[0.54167537]]), 8, 12),\n (array([[0.54004306]]), 10, 14),\n (array([[0.53912326]]), 1, 7),\n (array([[0.53791074]]), 6, 17),\n (array([[0.5377392]]), 3, 14),\n (array([[0.53677205]]), 5, 15),\n (array([[0.53499305]]), 7, 8),\n (array([[0.5264149]]), 1, 15),\n (array([[0.5200926]]), 10, 19),\n (array([[0.51680849]]), 0, 6),\n (array([[0.5151228]]), 0, 3),\n (array([[0.51321448]]), 5, 6),\n (array([[0.50959704]]), 7, 10),\n (array([[0.50612987]]), 3, 6),\n (array([[0.50526729]]), 4, 7),\n (array([[0.49672303]]), 8, 17),\n (array([[0.49563875]]), 5, 10),\n (array([[0.49551086]]), 9, 17),\n (array([[0.49496001]]), 3, 5),\n (array([[0.49356511]]), 9, 12),\n (array([[0.48937289]]), 10, 15),\n (array([[0.48892533]]), 4, 12),\n (array([[0.48847267]]), 7, 9),\n (array([[0.48507525]]), 8, 10),\n (array([[0.48494179]]), 3, 8),\n (array([[0.48410701]]), 1, 10),\n (array([[0.48160412]]), 6, 10),\n (array([[0.48033092]]), 6, 8),\n (array([[0.478884]]), 5, 7),\n (array([[0.47382798]]), 0, 5),\n (array([[0.46720722]]), 14, 17),\n (array([[0.46613639]]), 9, 14),\n (array([[0.46570665]]), 3, 7),\n (array([[0.44836747]]), 1, 14),\n (array([[0.44795136]]), 4, 5),\n (array([[0.44192829]]), 10, 12),\n (array([[0.44108541]]), 6, 9),\n (array([[0.43440373]]), 1, 9),\n (array([[0.4318391]]), 6, 14),\n (array([[0.42723582]]), 10, 17),\n (array([[0.42438718]]), 1, 8),\n (array([[0.41927263]]), 0, 4),\n (array([[0.41917997]]), 4, 9),\n (array([[0.41818116]]), 4, 6),\n (array([[0.41619891]]), 4, 14),\n (array([[0.40628685]]), 4, 17),\n (array([[0.39968266]]), 4, 10),\n (array([[0.39212119]]), 4, 8),\n (array([[0.37796975]]), 9, 10),\n (array([[0.35640481]]), 8, 14),\n (array([[0.35420765]]), 3, 4),\n (array([[0.32232634]]), 8, 9)]"
     },
     "execution_count": 25,
     "metadata": {},
     "output_type": "execute_result"
    }
   ],
   "source": [
    "from sklearn.feature_extraction.text import TfidfVectorizer\n",
    "from sklearn.metrics.pairwise import cosine_distances\n",
    "\n",
    "tfidf_vectorizer = TfidfVectorizer()\n",
    "all_text_tfidf = tfidf_vectorizer.fit_transform(list_text_url[:20][0])\n",
    "\n",
    "list_compare = []\n",
    "# print(list_text_url[i][0])\n",
    "for i in range(20):\n",
    "    for j in range(i+1, 20):\n",
    "        tf_idf_i = tfidf_vectorizer.transform([list_text_url[i][0]])\n",
    "        tf_idf_j = tfidf_vectorizer.transform([list_text_url[j][0]])\n",
    "        dist = cosine_distances(tf_idf_i, tf_idf_j)\n",
    "        list_compare.append((dist, i, j))\n",
    "\n",
    "list_compare = list(sorted(list_compare, key=lambda x: -x[0]))\n",
    "list_compare\n"
   ]
  },
  {
   "cell_type": "markdown",
   "metadata": {},
   "source": [
    "## export data"
   ]
  },
  {
   "cell_type": "code",
   "execution_count": null,
   "metadata": {},
   "outputs": [],
   "source": [
    "path = 'datacrawled/'\n",
    "cnt = 0\n",
    "dict_title = {}\n",
    "for url in ans:\n",
    "    article = Article(url)\n",
    "    article.download()\n",
    "    article.parse()\n",
    "    article.nlp()\n",
    "    text = article.text.replace('\\n', '.\\n')\n",
    "    title = article.title\n",
    "    summary = article.summary\n",
    "    url = article.url\n",
    "    if title not in dict_title.keys():\n",
    "        dict_title[title] = 1\n",
    "        cnt += 1\n",
    "        with open(path+'article'+str(cnt)+'.txt', 'w') as f:\n",
    "            f.write(title+'\\n')\n",
    "            f.write(url+'\\n')\n",
    "            f.write(summary+'\\n')"
   ]
  }
 ],
 "metadata": {
  "kernelspec": {
   "display_name": "Python 3.8.5 64-bit",
   "name": "python385jvsc74a57bd031f2aee4e71d21fbe5cf8b01ff0e069b9275f58929596ceb00d14d90e3e16cd6"
  },
  "language_info": {
   "codemirror_mode": {
    "name": "ipython",
    "version": 3
   },
   "file_extension": ".py",
   "mimetype": "text/x-python",
   "name": "python",
   "nbconvert_exporter": "python",
   "pygments_lexer": "ipython3",
   "version": "3.8.5"
  },
  "metadata": {
   "interpreter": {
    "hash": "31f2aee4e71d21fbe5cf8b01ff0e069b9275f58929596ceb00d14d90e3e16cd6"
   }
  },
  "orig_nbformat": 2
 },
 "nbformat": 4,
 "nbformat_minor": 2
}
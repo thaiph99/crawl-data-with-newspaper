{
 "cells": [
  {
   "cell_type": "code",
   "execution_count": 1,
   "metadata": {},
   "outputs": [],
   "source": [
    "from newspaperedited import Article\n",
    "import numpy as np  \n",
    "import newspaper"
   ]
  },
  {
   "cell_type": "markdown",
   "metadata": {},
   "source": [
    "## get urls and keywords from file"
   ]
  },
  {
   "cell_type": "code",
   "execution_count": 2,
   "metadata": {},
   "outputs": [
    {
     "data": {
      "text/plain": "['https://vnexpress.net/', 'https://www.24h.com.vn/', 'https://tuoitre.vn/']"
     },
     "execution_count": 2,
     "metadata": {},
     "output_type": "execute_result"
    }
   ],
   "source": [
    "with open('urls.txt', 'r') as f:\n",
    "    urls = f.readlines()\n",
    "urls = [url.replace('\\n', '') for url in urls]\n",
    "urls"
   ]
  },
  {
   "cell_type": "code",
   "execution_count": 3,
   "metadata": {},
   "outputs": [
    {
     "data": {
      "text/plain": "['thu tuong', 'chinh phu', 'Viet Nam', 'pham minh chinh', 'nha nuoc']"
     },
     "execution_count": 3,
     "metadata": {},
     "output_type": "execute_result"
    }
   ],
   "source": [
    "with open('keywords.txt', 'r') as f:\n",
    "    keywords = f.readlines()\n",
    "keywords = [key.replace('\\n', '') for key in keywords]\n",
    "keywords"
   ]
  },
  {
   "cell_type": "markdown",
   "metadata": {},
   "source": [
    "### standardize keywords"
   ]
  },
  {
   "cell_type": "code",
   "execution_count": 4,
   "metadata": {},
   "outputs": [
    {
     "data": {
      "text/plain": "['thu_tuong', 'chinh_phu', 'viet_nam', 'pham_minh_chinh', 'nha_nuoc']"
     },
     "execution_count": 4,
     "metadata": {},
     "output_type": "execute_result"
    }
   ],
   "source": [
    "keywords = [key.replace(' ', '_') for key in keywords]\n",
    "keywords = [key.lower() for key in keywords]\n",
    "list_key_tmp = []\n",
    "for key in keywords:\n",
    "    list_key_tmp += key.split('_')\n",
    "\n",
    "# keywords += list_key_tmp\n",
    "keywords"
   ]
  },
  {
   "cell_type": "markdown",
   "metadata": {},
   "source": [
    "## crawl function"
   ]
  },
  {
   "cell_type": "code",
   "execution_count": 5,
   "metadata": {},
   "outputs": [
    {
     "name": "stdout",
     "output_type": "stream",
     "text": [
      "27\n",
      "https://e.vnexpress.net/\n",
      "https://video.vnexpress.net\n",
      "https://vnexpress.net/trinh-mien-nhiem-13-thanh-vien-chinh-phu-4259027.html\n",
      "https://vnexpress.net/hien-truong-ho-tu-than-rong-hon-100-m2-4259284.html\n",
      "https://vnexpress.net/bi-thu-dak-lak-bui-van-cuong-lam-tong-thu-ky-quoc-hoi-4259000.html\n"
     ]
    }
   ],
   "source": [
    "from bs4 import BeautifulSoup\n",
    "import requests\n",
    "import re  \n",
    "\n",
    "def is_valid(url):\n",
    "    # return re.findall(r'\\.[a-z]{3}', url)\n",
    "    return re.findall(r'\\.[a-z]{3}', url) and re.search(r'https://', url)\n",
    "\n",
    "# global dict\n",
    "dict_url = {}\n",
    "\n",
    "def get_link_articles_from_url(url):\n",
    "    respone = requests.get(url)\n",
    "    soup = BeautifulSoup(respone.text, 'html.parser')\n",
    "    \n",
    "    for a in soup.find_all('a', href=True):\n",
    "        articles_link = a['href'].replace('#box_comment_vne', '')\n",
    "        if articles_link not in dict_url.keys() and is_valid(articles_link):\n",
    "            dict_url[articles_link] = 1\n",
    "\n",
    "    return list(dict_url.keys())\n",
    "\n",
    "# test \n",
    "tmp = get_link_articles_from_url(urls[0])\n",
    "print(len(tmp))\n",
    "print(*tmp[:5], sep='\\n')\n"
   ]
  },
  {
   "cell_type": "code",
   "execution_count": 6,
   "metadata": {},
   "outputs": [],
   "source": [
    "import newspaperedited\n",
    "\n",
    "def get_category(url_home):\n",
    "    dict_cate = {}\n",
    "    home = newspaperedited.build(url_home)\n",
    "    category_urls = home.category_urls()\n",
    "    return list(set(category_urls))\n",
    "\n",
    "list_cate = [get_category(url) for url in urls]"
   ]
  },
  {
   "cell_type": "code",
   "execution_count": 7,
   "metadata": {},
   "outputs": [
    {
     "data": {
      "text/plain": "['https://vnexpress.net/kinh-doanh',\n 'https://vnexpress.net/the-gioi',\n 'https://vnexpress.net/y-kien',\n 'https://vnexpress.net/so-hoa',\n 'https://vnexpress.net/the-thao',\n 'https://vnexpress.net/tin-tuc-24h',\n 'https://vnexpress.net/',\n 'https://vnexpress.net/doi-song',\n 'https://vnexpress.net/oto-xe-may',\n 'https://e.vnexpress.net',\n 'https://vnexpress.net/tam-su',\n 'https://vnexpress.net/du-lich',\n 'https://vnexpress.net/khoa-hoc',\n 'https://vnexpress.net/thoi-su',\n 'https://vnexpress.net/goc-nhin',\n 'https://vnexpress.net/giai-tri',\n 'https://vnexpress.net/giao-duc',\n 'https://vnexpress.net/suc-khoe',\n 'https://vnexpress.net/phap-luat',\n 'https://vnexpress.net/hai',\n 'https://vnexpress.net',\n 'https://video.vnexpress.net',\n 'https://www.24h.com.vn',\n 'https://www.24h.com.vn/',\n 'http://baogia.24h.com.vn',\n 'https://tuoitre.vn/the-thao.htm',\n 'https://tuoitre.vn/giai-tri.htm',\n 'https://tv.tuoitre.vn',\n 'https://cuoituan.tuoitre.vn',\n 'https://tuoitre.vn/phap-luat.htm',\n 'https://cuoi.tuoitre.vn',\n 'https://tuoitre.vn/thoi-su.htm',\n 'https://tuyensinh.tuoitre.vn',\n 'https://tuoitre.vn/suc-khoe.htm',\n 'https://tuoitre.vn/xe.htm',\n 'https://tuoitre.vn/giao-duc.htm',\n 'https://tuoitre.vn/gia-that.htm',\n 'https://tuoitre.vn/nha-dat.htm',\n 'https://thethao.tuoitre.vn',\n 'https://congnghe.tuoitre.vn',\n 'https://tuoitre.vn/khoa-hoc.htm',\n 'http://id.tuoitre.vn',\n 'https://quangcao.tuoitre.vn',\n 'https://tuoitre.vn/',\n 'https://beta.tuoitre.vn',\n 'https://nhadat.tuoitre.vn',\n 'https://tuoitre.vn/the-gioi.htm',\n 'https://tuoitre.vn/van-hoa.htm',\n 'https://dulich.tuoitre.vn',\n 'https://tuoitre.vn/photo.htm',\n 'https://tuoitre.vn',\n 'http://pay.tuoitre.vn',\n 'https://tuoitre.vn/dien-dan.html',\n 'https://tuoitre.vn/can-biet.htm',\n 'https://tuoitre.vn/media.htm',\n 'https://tuoitre.vn/cong-nghe.htm',\n 'https://tuoitre.vn/video.htm']"
     },
     "execution_count": 7,
     "metadata": {},
     "output_type": "execute_result"
    }
   ],
   "source": [
    "list_categorys = []\n",
    "for i in list_cate:\n",
    "    list_categorys += i  \n",
    "list_categorys"
   ]
  },
  {
   "cell_type": "markdown",
   "metadata": {},
   "source": [
    "## get keywords from url"
   ]
  },
  {
   "cell_type": "code",
   "execution_count": 8,
   "metadata": {},
   "outputs": [],
   "source": [
    "def get_text(url):\n",
    "    text = ''\n",
    "    try:\n",
    "        article = Article(url)\n",
    "        article.download()\n",
    "        article.parse()\n",
    "    except:\n",
    "        return text\n",
    "    text = article.text.replace('\\n', '.\\n')\n",
    "    return text\n"
   ]
  },
  {
   "cell_type": "code",
   "execution_count": 9,
   "metadata": {},
   "outputs": [],
   "source": [
    "from pyvi import ViTokenizer\n",
    "from collections import Counter\n",
    "\n",
    "def get_keywords_from_text(text):\n",
    "    tokens = ViTokenizer.tokenize(text)\n",
    "    tokens = ViTokenizer.spacy_tokenize(tokens)[0]\n",
    "    tokens = list(filter(lambda x: len(x)>1, tokens))\n",
    "    counter_tokens = Counter(tokens)\n",
    "    counter_tokens = dict(counter_tokens)\n",
    "    counter_tokens = dict(sorted(counter_tokens.items(), key=lambda x:-x[1]))\n",
    "    return counter_tokens\n"
   ]
  },
  {
   "cell_type": "code",
   "execution_count": 10,
   "metadata": {},
   "outputs": [],
   "source": [
    "def get_important_score(dict_keywords):\n",
    "    score = 0\n",
    "    # print('------------begin----------------------------')\n",
    "    # print(keys)\n",
    "    # print('-------------end---------------------------')\n",
    "    for key in dict_keywords.keys():\n",
    "        for k in keywords:\n",
    "            if k == key.lower():\n",
    "                score += dict_keywords[key]\n",
    "    return score\n"
   ]
  },
  {
   "cell_type": "markdown",
   "metadata": {},
   "source": [
    "## ranking articles"
   ]
  },
  {
   "cell_type": "code",
   "execution_count": 11,
   "metadata": {},
   "outputs": [],
   "source": [
    "list_article_url = []\n",
    "\n",
    "dict_url = {}\n",
    "for category in list_categorys:\n",
    "    list_article_url = get_link_articles_from_url(category)"
   ]
  },
  {
   "cell_type": "code",
   "execution_count": 12,
   "metadata": {},
   "outputs": [
    {
     "data": {
      "text/plain": "1287"
     },
     "execution_count": 12,
     "metadata": {},
     "output_type": "execute_result"
    }
   ],
   "source": [
    "len(list_article_url)"
   ]
  },
  {
   "cell_type": "code",
   "execution_count": 13,
   "metadata": {},
   "outputs": [
    {
     "name": "stdout",
     "output_type": "stream",
     "text": [
      "1-11-21-31-41-51-61-71-81-91-101-111-121-131-141-151-161-171-181-191-201-211-221-231-241-251-261-271-281-291-301-311-321-331-341-351-361-371-381-391-401-411-421-431-441-451-461-471-481-491-501-511-521-531-541-551-561-571-581-591-601-611-621-631-641-651-661-671-681-691-701-711-721-731-741-751-761-771-781-791-801-811-821-831-841-851-861-871-881-891-901-911-921-931-941-951-961-971-981-991-1001-1011-1021-1031-1041-1051-1061-1071-1081-1091-1101-1111-1121-1131-1141-1151-1161-1171-1181-1191-1201-1211-1221-"
     ]
    }
   ],
   "source": [
    "\n",
    "list_text = []\n",
    "cnt = 0\n",
    "for article_url in list_article_url:\n",
    "    text = get_text(article_url)\n",
    "    if text != '':\n",
    "        list_text.append(text)\n",
    "    else:\n",
    "        continue\n",
    "\n",
    "    if cnt%10==0:\n",
    "        print(len(list_text), end='-')\n",
    "    cnt += 1"
   ]
  },
  {
   "cell_type": "code",
   "execution_count": 14,
   "metadata": {},
   "outputs": [
    {
     "name": "stdout",
     "output_type": "stream",
     "text": [
      "1229\n"
     ]
    }
   ],
   "source": [
    "print(len(list_text))"
   ]
  },
  {
   "cell_type": "code",
   "execution_count": 15,
   "metadata": {},
   "outputs": [],
   "source": [
    "dict_index_and_score = {i:0 for i in range(len(list_text))}\n",
    "# dict_index_and_score {0:0, 1:0, 2:0, .....}"
   ]
  },
  {
   "cell_type": "code",
   "execution_count": 16,
   "metadata": {},
   "outputs": [
    {
     "name": "stdout",
     "output_type": "stream",
     "text": [
      "0-10-20-30-40-50-60-70-80-90-100-110-120-130-140-150-160-170-180-190-200-210-220-230-240-250-260-270-280-290-300-310-320-330-340-350-360-370-380-390-400-410-420-430-440-450-460-470-480-490-500-510-520-530-540-550-560-570-580-590-600-610-620-630-640-650-660-670-680-690-700-710-720-730-740-750-760-770-780-790-800-810-820-830-840-850-860-870-880-890-900-910-920-930-940-950-960-970-980-990-1000-1010-1020-1030-1040-1050-1060-1070-1080-1090-1100-1110-1120-1130-1140-1150-1160-1170-1180-1190-1200-1210-1220-"
     ]
    }
   ],
   "source": [
    "list_keys = []\n",
    "cnt = 0\n",
    "for text in list_text:\n",
    "    \n",
    "    keys = get_keywords_from_text(text)\n",
    "    dict_index_and_score[cnt] = get_important_score(keys)\n",
    "    if cnt%10==0:\n",
    "        print(cnt, end='-')\n",
    "    cnt += 1\n"
   ]
  },
  {
   "cell_type": "code",
   "execution_count": 17,
   "metadata": {},
   "outputs": [],
   "source": [
    "list_index = dict(sorted(dict_index_and_score.items(), key=lambda x : -x[1]))"
   ]
  },
  {
   "cell_type": "code",
   "execution_count": 18,
   "metadata": {},
   "outputs": [
    {
     "name": "stdout",
     "output_type": "stream",
     "text": [
      "374 1\n",
      "https://e.vnexpress.net/news/business/companies/indian-motorcycle-maker-royal-enfield-bids-goodbye-to-vietnam-4258016.html\n",
      "375 1\n",
      "https://e.vnexpress.net/news/business/companies/indian-motorcycle-maker-royal-enfield-bids-goodbye-to-vietnam-4258016.html#box_comment\n",
      "392 1\n",
      "https://e.vnexpress.net/photo/places/da-nangs-tourist-attractions-swim-in-a-sea-of-clouds-4258792.html\n",
      "393 1\n",
      "https://e.vnexpress.net/photo/places/da-nangs-tourist-attractions-swim-in-a-sea-of-clouds-4258792.html#box_comment\n",
      "0 0\n",
      "https://e.vnexpress.net/\n",
      "1 0\n",
      "https://video.vnexpress.net\n",
      "2 0\n",
      "https://startup.vnexpress.net/\n",
      "3 0\n",
      "https://vhome.vnexpress.net/?utm_source=VnExpress_Desktop&utm_medium=KinhDoanh_Menu&utm_campaign=MenuNext_Startup\n",
      "4 0\n",
      "https://vnexpress.net/nhung-noi-nhieu-ty-phu-nhat-the-gioi-4259142.html\n",
      "5 0\n",
      "https://vnexpress.net/lan-song-san-van-phong-cua-doanh-nghiep-cong-nghe-tang-manh-4259095.html\n",
      "6 0\n",
      "https://vnexpress.net/10-ty-phu-tre-nhat-the-gioi-4259071.html\n",
      "7 0\n",
      "https://vnexpress.net/nhung-nguoi-thanh-ty-phu-nho-chong-covid-19-4259045.html\n",
      "8 0\n",
      "https://vnexpress.net/ke-hoach-tai-co-cau-du-an-nuoi-bo-lon-nhat-ha-tinh-sau-dai-an-4258722.html\n",
      "9 0\n",
      "https://vnexpress.net/gia-vang-sjc-di-len-4259197.html\n",
      "10 0\n",
      "https://vnexpress.net/15-chu-dau-tu-cham-tra-250-ty-dong-phi-bao-tri-cho-cu-dan-4258888.html\n",
      "11 0\n",
      "https://vnexpress.net/trump-tut-gan-300-bac-tren-bang-xep-hang-ty-phu-4259055.html\n",
      "12 0\n",
      "https://vnexpress.net/hdbank-uoc-lai-quy-i-tang-67-4259203.html\n",
      "13 0\n",
      "https://vnexpress.net/gia-vang-the-gioi-len-dinh-1-tuan-chung-khoan-my-giam-diem-4259108.html\n",
      "14 0\n",
      "https://vnexpress.net/nhung-yeu-to-giup-thao-dien-quy-tu-du-an-hang-sang-4257008.html\n",
      "15 0\n",
      "https://vnexpress.net/ecopark-dua-suoi-nhiet-doi-vao-toa-thap-can-ho-cao-cap-4258331.html\n"
     ]
    }
   ],
   "source": [
    "cnt = 0 \n",
    "for i in list_index:\n",
    "    cnt+=1 \n",
    "    print(i, list_index[i])\n",
    "    print(list_article_url[i])\n",
    "    if cnt == 20:\n",
    "        break"
   ]
  },
  {
   "cell_type": "code",
   "execution_count": 19,
   "metadata": {},
   "outputs": [],
   "source": [
    "# list_article_url"
   ]
  }
 ],
 "metadata": {
  "kernelspec": {
   "display_name": "Python 3.8.5 64-bit",
   "name": "python385jvsc74a57bd031f2aee4e71d21fbe5cf8b01ff0e069b9275f58929596ceb00d14d90e3e16cd6"
  },
  "language_info": {
   "codemirror_mode": {
    "name": "ipython",
    "version": 3
   },
   "file_extension": ".py",
   "mimetype": "text/x-python",
   "name": "python",
   "nbconvert_exporter": "python",
   "pygments_lexer": "ipython3",
   "version": "3.8.5"
  },
  "metadata": {
   "interpreter": {
    "hash": "31f2aee4e71d21fbe5cf8b01ff0e069b9275f58929596ceb00d14d90e3e16cd6"
   }
  },
  "orig_nbformat": 2
 },
 "nbformat": 4,
 "nbformat_minor": 2
}
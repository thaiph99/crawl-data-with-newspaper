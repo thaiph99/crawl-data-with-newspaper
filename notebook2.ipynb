{
 "cells": [
  {
   "cell_type": "markdown",
   "metadata": {},
   "source": [
    "# Crawl data"
   ]
  },
  {
   "cell_type": "code",
   "execution_count": 1,
   "metadata": {},
   "outputs": [],
   "source": [
    "from newspaperedited1 import Article\n",
    "import numpy as np  \n",
    "import newspaperedited1"
   ]
  },
  {
   "cell_type": "markdown",
   "metadata": {},
   "source": [
    "## get urls and keywords from file"
   ]
  },
  {
   "cell_type": "code",
   "execution_count": 2,
   "metadata": {},
   "outputs": [
    {
     "data": {
      "text/plain": "['https://vnexpress.net/', 'https://www.24h.com.vn/', 'https://tuoitre.vn/']"
     },
     "execution_count": 2,
     "metadata": {},
     "output_type": "execute_result"
    }
   ],
   "source": [
    "with open('urls.txt', 'r') as f:\n",
    "    urls = f.readlines()\n",
    "urls = [url.replace('\\n', '') for url in urls]\n",
    "urls"
   ]
  },
  {
   "cell_type": "code",
   "execution_count": 3,
   "metadata": {},
   "outputs": [
    {
     "data": {
      "text/plain": "['thủ tướng', 'chính phủ', 'Phạm Minh Chính']"
     },
     "execution_count": 3,
     "metadata": {},
     "output_type": "execute_result"
    }
   ],
   "source": [
    "with open('keywords.txt', 'r') as f:\n",
    "    keywords = f.readlines()\n",
    "keywords = [key.replace('\\n', '') for key in keywords]\n",
    "keywords"
   ]
  },
  {
   "cell_type": "markdown",
   "metadata": {},
   "source": [
    "### standardize keywords"
   ]
  },
  {
   "cell_type": "code",
   "execution_count": 4,
   "metadata": {},
   "outputs": [
    {
     "data": {
      "text/plain": "['thủ_tướng', 'chính_phủ', 'phạm_minh_chính']"
     },
     "execution_count": 4,
     "metadata": {},
     "output_type": "execute_result"
    }
   ],
   "source": [
    "keywords = [key.replace(' ', '_') for key in keywords]\n",
    "keywords = [key.lower() for key in keywords]\n",
    "list_key_tmp = []\n",
    "for key in keywords:\n",
    "    list_key_tmp += key.split('_')\n",
    "\n",
    "# keywords += list_key_tmp\n",
    "keywords"
   ]
  },
  {
   "cell_type": "markdown",
   "metadata": {},
   "source": [
    "## crawl function"
   ]
  },
  {
   "cell_type": "code",
   "execution_count": 5,
   "metadata": {},
   "outputs": [
    {
     "name": "stdout",
     "output_type": "stream",
     "text": [
      "279\n",
      "https://www.24h.com.vn/bong-da-c48.html\n",
      "https://www.24h.com.vn/kinh-doanh-c161.html\n",
      "https://www.24h.com.vn/thi-truong-tieu-dung-c52.html\n",
      "https://www.24h.com.vn/suc-khoe-doi-song-c62.html\n",
      "https://www.24h.com.vn/thoi-trang-hi-tech-c407.html\n"
     ]
    }
   ],
   "source": [
    "from bs4 import BeautifulSoup\n",
    "import requests\n",
    "import re  \n",
    "\n",
    "def is_valid(url):\n",
    "    # return re.findall(r'\\.[a-z]{3}', url)\n",
    "    return re.findall(r'\\.[a-z]{3}', url) and re.search(r'https://', url)\n",
    "\n",
    "# global dict\n",
    "dict_url = {}\n",
    "\n",
    "def get_link_articles_from_url(url):\n",
    "    respone = requests.get(url)\n",
    "    soup = BeautifulSoup(respone.text, 'html.parser')\n",
    "    \n",
    "    for a in soup.find_all('a', href=True):\n",
    "        articles_link = a['href'].replace('#box_comment_vne', '')\n",
    "        articles_link = articles_link.replace('#box_comment', '')\n",
    "       \n",
    "        if articles_link not in dict_url.keys() and is_valid(articles_link):\n",
    "            dict_url[articles_link] = 1\n",
    "\n",
    "    return list(dict_url.keys())\n",
    "\n",
    "# test \n",
    "tmp = get_link_articles_from_url(urls[1])\n",
    "print(len(tmp))\n",
    "print(*tmp[:5], sep='\\n')\n"
   ]
  },
  {
   "cell_type": "code",
   "execution_count": 6,
   "metadata": {},
   "outputs": [],
   "source": [
    "import newspaperedited1\n",
    "\n",
    "def get_category(url_home):\n",
    "    home = newspaperedited1.build(url_home)\n",
    "    category_urls = home.category_urls()\n",
    "    return list(set(category_urls))\n",
    "\n",
    "list_cate = [get_category(url) for url in urls]"
   ]
  },
  {
   "cell_type": "code",
   "execution_count": 7,
   "metadata": {},
   "outputs": [
    {
     "data": {
      "text/plain": "['https://vnexpress.net/giai-tri',\n 'https://vnexpress.net/kinh-doanh',\n 'https://vnexpress.net/thoi-su',\n 'https://vnexpress.net/oto-xe-may',\n 'https://vnexpress.net/the-thao',\n 'https://e.vnexpress.net',\n 'https://vnexpress.net/tam-su',\n 'https://vnexpress.net/du-lich',\n 'https://vnexpress.net/giao-duc',\n 'https://vnexpress.net/phap-luat',\n 'https://vnexpress.net/goc-nhin',\n 'https://vnexpress.net/khoa-hoc',\n 'https://vnexpress.net/so-hoa',\n 'https://video.vnexpress.net',\n 'https://vnexpress.net',\n 'https://vnexpress.net/tin-tuc-24h',\n 'https://vnexpress.net/the-gioi',\n 'https://vnexpress.net/\\n',\n 'https://vnexpress.net/hai',\n 'https://vnexpress.net/doi-song',\n 'https://vnexpress.net/suc-khoe',\n 'https://vnexpress.net/y-kien',\n 'https://www.24h.com.vn/\\n',\n 'https://tuoitre.vn',\n 'https://tuoitre.vn/giai-tri.htm',\n 'https://congnghe.tuoitre.vn',\n 'https://tuoitre.vn/photo.htm',\n 'https://tuoitre.vn/video.htm',\n 'https://tuoitre.vn/suc-khoe.htm',\n 'https://tuoitre.vn/phap-luat.htm',\n 'https://tuoitre.vn/',\n 'https://nhadat.tuoitre.vn',\n 'https://cuoi.tuoitre.vn',\n 'https://cuoituan.tuoitre.vn',\n 'https://tuoitre.vn/cong-nghe.htm',\n 'https://tuoitre.vn/the-thao.htm',\n 'https://tuoitre.vn/giao-duc.htm',\n 'https://tuoitre.vn/nha-dat.htm',\n 'https://tuoitre.vn/van-hoa.htm',\n 'https://tuoitre.vn/khoa-hoc.htm',\n 'https://dulich.tuoitre.vn',\n 'https://quangcao.tuoitre.vn',\n 'https://tuoitre.vn/gia-that.htm',\n 'http://id.tuoitre.vn',\n 'https://tuyensinh.tuoitre.vn',\n 'https://tuoitre.vn/thoi-su.htm',\n 'https://tuoitre.vn/the-gioi.htm',\n 'https://tuoitre.vn/dien-dan.html',\n 'https://tuoitre.vn/media.htm',\n 'https://tv.tuoitre.vn',\n 'https://tuoitre.vn/xe.htm',\n 'https://beta.tuoitre.vn',\n 'http://pay.tuoitre.vn',\n 'https://tuoitre.vn/can-biet.htm',\n 'https://thethao.tuoitre.vn',\n 'https://vnexpress.net/',\n 'https://www.24h.com.vn/',\n 'https://tuoitre.vn/']"
     },
     "execution_count": 7,
     "metadata": {},
     "output_type": "execute_result"
    }
   ],
   "source": [
    "list_categorys = []\n",
    "for i in list_cate:\n",
    "    list_categorys += i  \n",
    "list_categorys += urls\n",
    "list_categorys"
   ]
  },
  {
   "cell_type": "markdown",
   "metadata": {},
   "source": [
    "## get keywords from url"
   ]
  },
  {
   "cell_type": "code",
   "execution_count": 8,
   "metadata": {},
   "outputs": [],
   "source": [
    "def get_text_url(url):\n",
    "    text = ''\n",
    "    try:\n",
    "        article = Article(url)\n",
    "        article.download()\n",
    "        article.parse()\n",
    "    except:\n",
    "        return text, url\n",
    "    text = article.text.replace('\\n', '.\\n')\n",
    "    url = article.url\n",
    "    return text, url\n"
   ]
  },
  {
   "cell_type": "code",
   "execution_count": 9,
   "metadata": {},
   "outputs": [],
   "source": [
    "from pyvi import ViTokenizer\n",
    "from collections import Counter\n",
    "\n",
    "def get_keywords_from_text(text):\n",
    "    tokens = ViTokenizer.tokenize(text)\n",
    "    tokens = ViTokenizer.spacy_tokenize(tokens)[0]\n",
    "    tokens = list(filter(lambda x: len(x)>1, tokens))\n",
    "    counter_tokens = Counter(tokens)\n",
    "    counter_tokens = dict(counter_tokens)\n",
    "    counter_tokens = dict(sorted(counter_tokens.items(), key=lambda x:-x[1]))\n",
    "    return counter_tokens\n"
   ]
  },
  {
   "cell_type": "code",
   "execution_count": 10,
   "metadata": {},
   "outputs": [],
   "source": [
    "def get_important_score(dict_keywords, keys):\n",
    "    score = 0\n",
    "    for key in dict_keywords.keys():\n",
    "        for k in keys:\n",
    "            if k == key.lower():\n",
    "                score += dict_keywords[key]\n",
    "    return score\n"
   ]
  },
  {
   "cell_type": "markdown",
   "metadata": {},
   "source": [
    "## ranking articles"
   ]
  },
  {
   "cell_type": "code",
   "execution_count": 11,
   "metadata": {},
   "outputs": [],
   "source": [
    "list_article_url = []\n",
    "\n",
    "dict_url = {}\n",
    "for category in list_categorys:\n",
    "    list_article_url = get_link_articles_from_url(category)\n",
    "\n",
    "list_article_url = list(set(list_article_url))"
   ]
  },
  {
   "cell_type": "code",
   "execution_count": 12,
   "metadata": {},
   "outputs": [
    {
     "data": {
      "text/plain": "1216"
     },
     "execution_count": 12,
     "metadata": {},
     "output_type": "execute_result"
    }
   ],
   "source": [
    "len(list_article_url)"
   ]
  },
  {
   "cell_type": "code",
   "execution_count": 13,
   "metadata": {},
   "outputs": [],
   "source": [
    "# t = get_text_url(list_article_url[100])\n",
    "# print(list_article_url[100])\n",
    "# print(t)"
   ]
  },
  {
   "cell_type": "code",
   "execution_count": 14,
   "metadata": {},
   "outputs": [
    {
     "name": "stdout",
     "output_type": "stream",
     "text": [
      "1-11-21-31-"
     ]
    }
   ],
   "source": [
    "list_text_url = []\n",
    "cnt = 0\n",
    "for article_url in list_article_url:\n",
    "    text, url = get_text_url(article_url)\n",
    "    if text != '':\n",
    "        list_text_url.append((text, url))\n",
    "    else:\n",
    "        continue\n",
    "\n",
    "    if cnt%10==0:\n",
    "        print(len(list_text_url), end='-')\n",
    "    cnt += 1"
   ]
  },
  {
   "cell_type": "code",
   "execution_count": null,
   "metadata": {},
   "outputs": [],
   "source": [
    "print(len(list_text_url))"
   ]
  },
  {
   "cell_type": "code",
   "execution_count": null,
   "metadata": {},
   "outputs": [],
   "source": [
    "dict_index_and_score = {i:0 for i in range(len(list_text_url))}\n",
    "# dict_index_and_score {0:0, 1:0, 2:0, .....}"
   ]
  },
  {
   "cell_type": "code",
   "execution_count": null,
   "metadata": {},
   "outputs": [
    {
     "name": "stdout",
     "output_type": "stream",
     "text": [
      "0-10-20-30-40-50-60-70-80-90-100-110-120-130-140-150-160-170-180-190-200-210-220-230-240-250-260-270-280-290-300-310-320-330-340-350-360-370-380-390-400-410-420-430-440-450-460-470-480-490-500-510-520-530-540-550-560-570-580-590-600-610-620-630-640-650-660-670-680-690-700-710-720-730-740-750-760-770-780-790-800-810-820-830-840-850-860-870-880-890-900-910-920-930-940-950-960-970-980-990-1000-1010-1020-1030-1040-1050-1060-1070-1080-1090-1100-1110-1120-1130-1140-"
     ]
    }
   ],
   "source": [
    "list_keys = []\n",
    "cnt = 0\n",
    "for text, url in list_text_url:\n",
    "    keys = get_keywords_from_text(text)\n",
    "    dict_index_and_score[cnt] = get_important_score(keys, keywords)\n",
    "    if cnt%10==0:\n",
    "        print(cnt, end='-')\n",
    "    cnt += 1\n"
   ]
  },
  {
   "cell_type": "code",
   "execution_count": null,
   "metadata": {},
   "outputs": [],
   "source": [
    "list_index = dict(sorted(dict_index_and_score.items(), key=lambda x : -x[1]))"
   ]
  },
  {
   "cell_type": "code",
   "execution_count": null,
   "metadata": {},
   "outputs": [
    {
     "name": "stdout",
     "output_type": "stream",
     "text": [
      "811 15\n",
      "https://vnexpress.net/nhung-diem-moi-trong-cac-quyet-dinh-nhan-su-cua-quoc-hoi-4260666.html\n",
      "558 9\n",
      "https://vnexpress.net/chien-dich-tiem-vaccine-covid-19-cua-thai-lan-bi-chi-trich-4260629.html\n",
      "1067 9\n",
      "https://vnexpress.net/chinh-phu-moi-4256811.html\n",
      "459 8\n",
      "https://vnexpress.net/tan-bo-truong-nguyen-van-hung-ho-chieu-vaccine-la-chia-khoa-mo-cua-4260489.html\n",
      "433 7\n",
      "https://www.24h.com.vn/tin-tuc-quoc-te/mexico-tre-5-tuoi-cam-sung-doi-dau-bang-dang-toi-pham-tan-bao-c415a1242953.html\n",
      "128 6\n",
      "https://vnexpress.net/thu-tuong-campuchia-tang-tien-cho-nguoi-tiem-vaccine-thu-mot-trieu-4262151.html\n",
      "686 6\n",
      "https://vnexpress.net/kinh-te-myanmar-roi-tu-do-4261393.html\n",
      "689 6\n",
      "https://vnexpress.net/who-ca-covid-19-dang-tang-theo-cap-so-nhan-4261937.html\n",
      "7 5\n",
      "https://vnexpress.net/nhat-ban-se-xa-nuoc-thai-tu-fukushima-vao-dai-duong-4261941.html\n",
      "65 5\n",
      "https://vnexpress.net/de-xuat-tiep-tuc-giam-thue-phi-cho-doanh-nghiep-van-tai-4261897.html\n",
      "587 5\n",
      "https://vnexpress.net/quyen-luc-mem-cua-chu-tich-nuoc-4259594.html\n",
      "651 5\n",
      "https://vnexpress.net/chinh-phu-huu-hieu-4257910.html\n",
      "747 4\n",
      "https://vnexpress.net/so-ca-covid-19-theo-ngay-o-thai-lan-cao-ky-luc-4261453.html\n",
      "910 4\n",
      "https://www.24h.com.vn/infographics-c765.html\n",
      "1028 4\n",
      "https://vnexpress.net/campuchia-chay-dua-ngan-covid-19-thanh-tham-kich-quoc-gia-4261681.html\n",
      "89 3\n",
      "https://vnexpress.net/20-nam-khat-vong-huong-ra-bien-cua-tp-hcm-4260266.html\n",
      "178 3\n",
      "https://www.24h.com.vn/tin-tuc-quoc-te/nhat-ban-quyet-xa-1-trieu-tan-nuoc-nhiem-xa-ra-bien-gay-tranh-cai-c415a1242939.html\n",
      "506 3\n",
      "https://vnexpress.net/co-phieu-bat-dong-san-khu-cong-nghiep-da-het-thoi-4261811.html\n",
      "516 3\n",
      "https://vnexpress.net/thai-lan-lo-ca-nhiem-tang-pha-hong-ke-hoach-don-khach-4261445.html\n",
      "527 3\n",
      "https://vnexpress.net/tien-so-sap-bi-siet-kiem-soat-tren-toan-cau-4262063.html\n",
      "[811, 558, 1067, 459, 433, 128, 686, 689, 7, 65, 587, 651, 747, 910, 1028, 89, 178, 506, 516, 527]\n"
     ]
    }
   ],
   "source": [
    "cnt = 0 \n",
    "ans = []\n",
    "list_index_ans = []\n",
    "for i in list_index:\n",
    "    cnt+=1 \n",
    "    print(i, list_index[i])\n",
    "    list_index_ans.append(i)\n",
    "    ans.append(list_text_url[i][1])\n",
    "    print(list_text_url[i][1])\n",
    "    if cnt == 20:\n",
    "        break\n",
    "print(list_index_ans)"
   ]
  },
  {
   "cell_type": "markdown",
   "metadata": {},
   "source": [
    "## compare data"
   ]
  },
  {
   "cell_type": "code",
   "execution_count": null,
   "metadata": {},
   "outputs": [
    {
     "name": "stdout",
     "output_type": "stream",
     "text": [
      "[(array([[0.7884645]]), 910, 506), (array([[0.7884645]]), 506, 910), (array([[0.75784176]]), 910, 89), (array([[0.75784176]]), 89, 910), (array([[0.74064494]]), 433, 910), (array([[0.74064494]]), 910, 433), (array([[0.72915575]]), 910, 527), (array([[0.72915575]]), 527, 910), (array([[0.7071648]]), 65, 910), (array([[0.7071648]]), 910, 65)]\n"
     ]
    }
   ],
   "source": [
    "from sklearn.feature_extraction.text import TfidfVectorizer\n",
    "from sklearn.metrics.pairwise import cosine_distances\n",
    "\n",
    "tfidf_vectorizer = TfidfVectorizer()\n",
    "all_text_tfidf = tfidf_vectorizer.fit_transform(list_text_url[:20][0])\n",
    "\n",
    "list_compare = []\n",
    "# print(list_text_url[i][0])\n",
    "for i in list_index_ans:\n",
    "    for j in list_index_ans:\n",
    "        tf_idf_i = tfidf_vectorizer.transform([list_text_url[i][0]])\n",
    "        tf_idf_j = tfidf_vectorizer.transform([list_text_url[j][0]])\n",
    "        dist = cosine_distances(tf_idf_i, tf_idf_j)\n",
    "        list_compare.append((dist, i, j))\n",
    "\n",
    "list_compare = list(sorted(list_compare, key=lambda x: -x[0]))\n",
    "# print(list_text_url[65])\n",
    "# print('-----------')\n",
    "# print(list_text_url[587])   \n",
    "\n",
    "print(list_compare[:10])\n"
   ]
  },
  {
   "cell_type": "markdown",
   "metadata": {},
   "source": [
    "## export data"
   ]
  },
  {
   "cell_type": "code",
   "execution_count": null,
   "metadata": {},
   "outputs": [
    {
     "name": "stderr",
     "output_type": "stream",
     "text": [
      "[nltk_data] Downloading package punkt to /home/it/nltk_data...\n",
      "[nltk_data]   Unzipping tokenizers/punkt.zip.\n"
     ]
    },
    {
     "data": {
      "text/plain": "True"
     },
     "execution_count": 47,
     "metadata": {},
     "output_type": "execute_result"
    }
   ],
   "source": [
    "# import nltk\n",
    "# nltk.download('punkt')"
   ]
  },
  {
   "cell_type": "code",
   "execution_count": null,
   "metadata": {},
   "outputs": [],
   "source": [
    "path = 'datacrawled/'\n",
    "cnt = 0\n",
    "dict_title = {}\n",
    "for url in ans:\n",
    "    article = Article(url)\n",
    "    article.download()\n",
    "    article.parse()\n",
    "    article.nlp()\n",
    "    text = article.text.replace('\\n', '.\\n')\n",
    "    title = article.title\n",
    "    summary = article.summary\n",
    "    url = article.url\n",
    "    if title not in dict_title.keys():\n",
    "        dict_title[title] = 1\n",
    "        cnt += 1\n",
    "        with open(path+'article'+str(cnt)+'.txt', 'w') as f:\n",
    "            f.write(title+'\\n')\n",
    "            f.write(url+'\\n')\n",
    "            f.write(summary+'\\n')"
   ]
  }
 ],
 "metadata": {
  "kernelspec": {
   "display_name": "Python 3.8.5 64-bit",
   "name": "python385jvsc74a57bd0916dbcbb3f70747c44a77c7bcd40155683ae19c65e1c03b4aa3499c5328201f1"
  },
  "language_info": {
   "codemirror_mode": {
    "name": "ipython",
    "version": 3
   },
   "file_extension": ".py",
   "mimetype": "text/x-python",
   "name": "python",
   "nbconvert_exporter": "python",
   "pygments_lexer": "ipython3",
   "version": "3.8.5"
  },
  "metadata": {
   "interpreter": {
    "hash": "916dbcbb3f70747c44a77c7bcd40155683ae19c65e1c03b4aa3499c5328201f1"
   }
  },
  "orig_nbformat": 2
 },
 "nbformat": 4,
 "nbformat_minor": 2
}